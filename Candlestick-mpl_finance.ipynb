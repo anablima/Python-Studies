{
 "cells": [
  {
   "cell_type": "code",
   "execution_count": null,
   "metadata": {},
   "outputs": [
    {
     "ename": "",
     "evalue": "",
     "output_type": "error",
     "traceback": [
      "\u001b[1;31mFailed to start the Kernel. \n",
      "Failed to start the Kernel 'Python 3.9.10 64-bit'. \n",
      "View Jupyter <a href='command:jupyter.viewOutput'>log</a> for further details. Canceled future for complete_request message before replies were done"
     ]
    }
   ],
   "source": [
    "import matplotlib.pyplot as fig\n",
    "import datetime as dt\n",
    "import mpl_finance as mpf\n",
    "import matplotlib.dates as mdates\n",
    "import pandas_datareader.data as web"
   ]
  },
  {
   "cell_type": "code",
   "execution_count": null,
   "metadata": {},
   "outputs": [],
   "source": [
    "inicio=dt.datetime(2021,6,1)\n",
    "fim=dt.datetime(2022,2,2)\n",
    "df=web.DataReader('MGLU3.SA','yahoo',inicio,fim)"
   ]
  },
  {
   "cell_type": "code",
   "execution_count": null,
   "metadata": {},
   "outputs": [],
   "source": [
    "df['med_mov']=df['Close'].rolling(window=20,min_periods=0).mean()\n",
    "df_ohlc=df['Close'].resample('7D').ohlc()\n",
    "df_ohlc['Volume']=df['Volume'].resample('7D').sum()"
   ]
  },
  {
   "cell_type": "code",
   "execution_count": null,
   "metadata": {},
   "outputs": [],
   "source": [
    "df_ohlc.reset_index(inplace=True)\n",
    "df_ohlc['Date']=df_ohlc['Date'].map(mdates.date2num)"
   ]
  },
  {
   "cell_type": "code",
   "execution_count": null,
   "metadata": {},
   "outputs": [],
   "source": [
    "ax1=fig.subplot(311)\n",
    "ax1.xaxis_date()\n",
    "mpf.candlestick_ohlc(ax1,df_ohlc.values,width=2,colorup='g')\n",
    "ax1.plot(df.index,df['med_mov'])\n",
    "\n",
    "ax2=fig.subplot(312)\n",
    "ax2.xaxis_date()\n",
    "ax2.bar(df_ohlc['Date'],df_ohlc['Volume'],width=2,color='blue')\n",
    "\n",
    "ax3=fig.subplot(313)\n",
    "ax3.xaxis_date()\n",
    "df['ret']=df['Close'].pct_change()\n",
    "ax3.plot(df.index,df['ret'],color='red')"
   ]
  },
  {
   "cell_type": "code",
   "execution_count": null,
   "metadata": {},
   "outputs": [],
   "source": []
  }
 ],
 "metadata": {
  "interpreter": {
   "hash": "4215247fa36a1d0d8f88a09562d416edcb641a6a08b03c2d100e4f4056be5f73"
  },
  "kernelspec": {
   "display_name": "Python 3.9.10 64-bit",
   "language": "python",
   "name": "python3"
  },
  "language_info": {
   "codemirror_mode": {
    "name": "ipython",
    "version": 3
   },
   "file_extension": ".py",
   "mimetype": "text/x-python",
   "name": "python",
   "nbconvert_exporter": "python",
   "pygments_lexer": "ipython3",
   "version": "3.9.10"
  },
  "orig_nbformat": 4
 },
 "nbformat": 4,
 "nbformat_minor": 2
}
