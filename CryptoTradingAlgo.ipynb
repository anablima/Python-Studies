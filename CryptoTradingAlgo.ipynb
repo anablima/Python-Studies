{
 "cells": [
  {
   "cell_type": "markdown",
   "metadata": {},
   "source": [
    "# Criando um algoritmo de Trading de criptomoedas em Python :)"
   ]
  },
  {
   "cell_type": "code",
   "execution_count": 1,
   "metadata": {},
   "outputs": [
    {
     "name": "stdout",
     "output_type": "stream",
     "text": [
      "Collecting pandas\n",
      "  Downloading pandas-1.4.0-cp39-cp39-win_amd64.whl (10.5 MB)\n",
      "Requirement already satisfied: python-dateutil>=2.8.1 in c:\\users\\014061631\\appdata\\local\\programs\\python\\python39\\lib\\site-packages (from pandas) (2.8.2)\n",
      "Collecting pytz>=2020.1\n",
      "  Downloading pytz-2021.3-py2.py3-none-any.whl (503 kB)\n",
      "Collecting numpy>=1.18.5\n",
      "  Downloading numpy-1.22.1-cp39-cp39-win_amd64.whl (14.7 MB)\n"
     ]
    },
    {
     "name": "stderr",
     "output_type": "stream",
     "text": [
      "WARNING: You are using pip version 21.2.4; however, version 22.0.2 is available.\n",
      "You should consider upgrading via the 'C:\\Users\\014061631\\AppData\\Local\\Programs\\Python\\Python39\\python.exe -m pip install --upgrade pip' command.\n"
     ]
    },
    {
     "name": "stdout",
     "output_type": "stream",
     "text": [
      "Requirement already satisfied: six>=1.5 in c:\\users\\014061631\\appdata\\local\\programs\\python\\python39\\lib\\site-packages (from python-dateutil>=2.8.1->pandas) (1.16.0)\n",
      "Installing collected packages: pytz, numpy, pandas\n",
      "Successfully installed numpy-1.22.1 pandas-1.4.0 pytz-2021.3\n",
      "Requirement already satisfied: numpy in c:\\users\\014061631\\appdata\\local\\programs\\python\\python39\\lib\\site-packages (1.22.1)"
     ]
    },
    {
     "name": "stderr",
     "output_type": "stream",
     "text": [
      "WARNING: You are using pip version 21.2.4; however, version 22.0.2 is available."
     ]
    },
    {
     "name": "stdout",
     "output_type": "stream",
     "text": [
      "\n"
     ]
    },
    {
     "name": "stderr",
     "output_type": "stream",
     "text": [
      "\n",
      "You should consider upgrading via the 'C:\\Users\\014061631\\AppData\\Local\\Programs\\Python\\Python39\\python.exe -m pip install --upgrade pip' command.\n"
     ]
    },
    {
     "name": "stdout",
     "output_type": "stream",
     "text": [
      "Collecting matplotlib"
     ]
    },
    {
     "name": "stderr",
     "output_type": "stream",
     "text": [
      "WARNING: You are using pip version 21.2.4; however, version 22.0.2 is available.\n",
      "You should consider upgrading via the 'C:\\Users\\014061631\\AppData\\Local\\Programs\\Python\\Python39\\python.exe -m pip install --upgrade pip' command.\n"
     ]
    },
    {
     "name": "stdout",
     "output_type": "stream",
     "text": [
      "\n",
      "  Downloading matplotlib-3.5.1-cp39-cp39-win_amd64.whl (7.2 MB)\n",
      "Collecting pillow>=6.2.0\n",
      "  Downloading Pillow-9.0.0-cp39-cp39-win_amd64.whl (3.2 MB)\n",
      "Collecting pyparsing>=2.2.1\n",
      "  Downloading pyparsing-3.0.7-py3-none-any.whl (98 kB)\n",
      "Collecting fonttools>=4.22.0\n",
      "  Downloading fonttools-4.29.1-py3-none-any.whl (895 kB)\n",
      "Collecting cycler>=0.10\n",
      "  Downloading cycler-0.11.0-py3-none-any.whl (6.4 kB)\n",
      "Collecting kiwisolver>=1.0.1\n",
      "  Downloading kiwisolver-1.3.2-cp39-cp39-win_amd64.whl (52 kB)\n",
      "Requirement already satisfied: numpy>=1.17 in c:\\users\\014061631\\appdata\\local\\programs\\python\\python39\\lib\\site-packages (from matplotlib) (1.22.1)\n",
      "Collecting packaging>=20.0\n",
      "  Downloading packaging-21.3-py3-none-any.whl (40 kB)\n",
      "Requirement already satisfied: python-dateutil>=2.7 in c:\\users\\014061631\\appdata\\local\\programs\\python\\python39\\lib\\site-packages (from matplotlib) (2.8.2)\n",
      "Requirement already satisfied: six>=1.5 in c:\\users\\014061631\\appdata\\local\\programs\\python\\python39\\lib\\site-packages (from python-dateutil>=2.7->matplotlib) (1.16.0)\n",
      "Installing collected packages: pyparsing, pillow, packaging, kiwisolver, fonttools, cycler, matplotlib\n",
      "Successfully installed cycler-0.11.0 fonttools-4.29.1 kiwisolver-1.3.2 matplotlib-3.5.1 packaging-21.3 pillow-9.0.0 pyparsing-3.0.7\n"
     ]
    }
   ],
   "source": [
    "# Instalando bibliotecas necessárias\n",
    "#!pip install yfinance\n",
    "!pip install pandas\n",
    "!pip install numpy\n",
    "!pip install matplotlib"
   ]
  },
  {
   "cell_type": "code",
   "execution_count": null,
   "metadata": {},
   "outputs": [],
   "source": [
    "# Importando bibliotecas e apelidando\n",
    "#import yfinance as yf\n",
    "import pandas as pd\n",
    "import numpy as np\n",
    "from matplotlib import pyplot as plt\n",
    "from matplotlib.dates import DateFormatter"
   ]
  },
  {
   "cell_type": "code",
   "execution_count": null,
   "metadata": {},
   "outputs": [],
   "source": [
    "# Retrieve two weeks of Bitcoin to USD exchange rates with a 1 hour interval and save the dataframe to a variable.\n",
    "BTC_USD = yf.download(\"BTC-USD\", start='2020-01-01', end='2020-12-31', interval='1d')"
   ]
  },
  {
   "cell_type": "code",
   "execution_count": null,
   "metadata": {},
   "outputs": [],
   "source": [
    "BTC_USD.head()"
   ]
  },
  {
   "cell_type": "code",
   "execution_count": null,
   "metadata": {},
   "outputs": [],
   "source": [
    "fig, ax = plt.subplots(dpi=500)\n",
    "\n",
    "# Formatting the date axis\n",
    "date_format = DateFormatter(\"%h-%d-%y\")\n",
    "ax.xaxis.set_major_formatter(date_format)\n",
    "ax.tick_params(axis='x', labelsize=8)\n",
    "fig.autofmt_xdate()\n",
    "\n",
    "# Plotting the closing price against the date (1 day interval)\n",
    "ax.plot(BTC_USD['Close'], lw=0.75)\n",
    "\n",
    "# Adding labels and title to the plot\n",
    "ax.set_ylabel('Price of Bitcoin (USD)')\n",
    "ax.set_title('Bitcoin to USD Exchange Rate')\n",
    "ax.grid() # adding a grid\n",
    "\n",
    "# Displaying the price chart\n",
    "plt.show()"
   ]
  },
  {
   "cell_type": "code",
   "execution_count": null,
   "metadata": {},
   "outputs": [],
   "source": [
    "# Compute a 9-day Simple Moving Average with pandas\n",
    "BTC_USD['SMA_9'] = BTC_USD['Close'].rolling(window=9, min_periods=1).mean()"
   ]
  },
  {
   "cell_type": "code",
   "execution_count": null,
   "metadata": {},
   "outputs": [],
   "source": [
    "# Add a column to BTC_USD containing a Simple Moving Average using an interval size of 30 days\n",
    "BTC_USD['SMA_30'] = BTC_USD['Close'].rolling(window=30, min_periods=1).mean()"
   ]
  },
  {
   "cell_type": "code",
   "execution_count": null,
   "metadata": {},
   "outputs": [],
   "source": [
    "# Display the last 5 entries of the dataframe\n",
    "BTC_USD.tail()"
   ]
  },
  {
   "cell_type": "code",
   "execution_count": null,
   "metadata": {},
   "outputs": [],
   "source": [
    "fig, ax = plt.subplots(dpi=500)\n",
    "\n",
    "# Formatting the date axis\n",
    "date_format = DateFormatter(\"%h-%d-%y\")\n",
    "ax.xaxis.set_major_formatter(date_format)\n",
    "ax.tick_params(axis='x', labelsize=8)\n",
    "fig.autofmt_xdate()\n",
    "\n",
    "# Plotting the closing price against the date (1 day interval)\n",
    "ax.plot(BTC_USD['Close'], lw=0.75, label='Closing Price') # Added label\n",
    "\n",
    "\"\"\"\n",
    "You have already seen the code above earlier - we are simply reusing it.\n",
    "Below we plot the 9 and 30 day Simple Moving Averages and give them the appropriate label\n",
    "\"\"\"\n",
    "ax.plot(BTC_USD['SMA_9'], lw=0.75, alpha=0.75, label='9 Day SMA')\n",
    "ax.plot(BTC_USD['SMA_30'], lw=0.75, alpha=0.75, label='30 Day SMA')\n",
    "\n",
    "\n",
    "# Adding labels and title to the plot\n",
    "ax.set_ylabel('Price of Bitcoin (USD)')\n",
    "ax.set_title('Bitcoin to USD Exchange Rate')\n",
    "ax.grid() # adding a grid\n",
    "ax.legend() # adding a legend\n",
    "\n",
    "# Displaying the price chart\n",
    "plt.show()"
   ]
  },
  {
   "cell_type": "code",
   "execution_count": null,
   "metadata": {},
   "outputs": [],
   "source": [
    "# Create a pandas dataframe that is the same size as the BTC_USD dataframe and covers the same dates\n",
    "trade_signals = pd.DataFrame(index=BTC_USD.index)\n",
    "\n",
    "# Define the intervals for the Fast and Slow Simple Moving Averages (in days)\n",
    "short_interval = 10\n",
    "long_interval = 40\n",
    "\n",
    "# Compute the Simple Moving Averages and add it to the dateframe as new columns\n",
    "trade_signals['Short'] = BTC_USD['Close'].rolling(window=short_interval, min_periods=1).mean()\n",
    "trade_signals['Long'] = BTC_USD['Close'].rolling(window=long_interval, min_periods=1).mean()"
   ]
  },
  {
   "cell_type": "code",
   "execution_count": null,
   "metadata": {},
   "outputs": [],
   "source": [
    "# Create a new column populated with zeros\n",
    "trade_signals['Signal'] = 0.0\n",
    "\n",
    "# Wherever the Shorter term SMA is above the Longer term SMA, set the Signal column to 1, otherwise 0\n",
    "trade_signals['Signal'] = np.where(trade_signals['Short'] > trade_signals['Long'], 1.0, 0.0)   "
   ]
  },
  {
   "cell_type": "code",
   "execution_count": null,
   "metadata": {},
   "outputs": [],
   "source": [
    "# Create a new column in the trade_signals Dataframe called Position by calling the diff() method on the Signal column.\n",
    "trade_signals['Position'] = trade_signals['Signal'].diff()"
   ]
  },
  {
   "cell_type": "code",
   "execution_count": null,
   "metadata": {},
   "outputs": [],
   "source": [
    "# Testando a estratégia definida\n",
    "fig, ax = plt.subplots(dpi=500)\n",
    "\n",
    "# Formatting the date axis\n",
    "date_format = DateFormatter(\"%h-%d-%y\")\n",
    "ax.xaxis.set_major_formatter(date_format)\n",
    "ax.tick_params(axis='x', labelsize=8)\n",
    "fig.autofmt_xdate()\n",
    "\n",
    "\n",
    "# Plotting the Bitcoin closing price against the date (1 day interval)\n",
    "ax.plot(BTC_USD['Close'], lw=0.75, label='Closing Price')\n",
    "\n",
    "# Plot the shorter-term moving average\n",
    "ax.plot(trade_signals['Short'], lw=0.75, alpha=0.75, color='orange', label='Short-term SMA')\n",
    "\n",
    "# Plot the longer-term moving average\n",
    "ax.plot(trade_signals['Long'], lw=0.75, alpha=0.75, color='purple', label='Long-term SMA')\n",
    "\n",
    "\n",
    "# Adding green arrows to indicate buy orders\n",
    "ax.plot(trade_signals.loc[trade_signals['Position']==1.0].index, trade_signals.Short[trade_signals['Position'] == 1.0],\n",
    " marker=6, ms=4, linestyle='none', color='green')\n",
    "\n",
    " # Adding red arrows to indicate sell orders\n",
    "ax.plot(trade_signals.loc[trade_signals['Position'] == -1.0].index, trade_signals.Short[trade_signals['Position'] == -1.0],\n",
    " marker=7, ms=4, linestyle='none', color='red')\n",
    "\n",
    "\n",
    "# Adding labels and title to the plot\n",
    "ax.set_ylabel('Price of Bitcoin (USD)')\n",
    "ax.set_title('Bitcoin to USD Exchange Rate')\n",
    "ax.grid() # adding a grid\n",
    "ax.legend() # adding a legend\n",
    "\n",
    "# Displaying the price chart\n",
    "plt.show()"
   ]
  },
  {
   "cell_type": "code",
   "execution_count": null,
   "metadata": {},
   "outputs": [],
   "source": [
    "# Define how much money you will start with (in USD)\n",
    "initial_balance = 10000.0 # ten thousand USD\n",
    "\n",
    "# Create dataframe containing all the dates considered\n",
    "backtest = pd.DataFrame(index=trade_signals.index)\n",
    "\n",
    "# Add column containing the daily percent returns of Bitcoin\n",
    "backtest['BTC_Return'] = BTC_USD['Close'] / BTC_USD['Close'].shift(1) # Current closing price / yesterday's closing price"
   ]
  },
  {
   "cell_type": "code",
   "execution_count": null,
   "metadata": {},
   "outputs": [],
   "source": [
    "# Add column containing the daily percent returns of the Moving Average Crossover strategy\n",
    "backtest['Alg_Return'] = np.where(trade_signals.Signal == 1, backtest.BTC_Return, 1.0)\n",
    "\n",
    "# Add column containing the daily value of the portfolio using the Crossover strategy\n",
    "backtest['Balance'] = initial_balance * backtest.Alg_Return.cumprod() # cumulative product"
   ]
  },
  {
   "cell_type": "code",
   "execution_count": null,
   "metadata": {},
   "outputs": [],
   "source": [
    "fig, ax = plt.subplots(dpi=500)\n",
    "\n",
    "# Formatting the date axis\n",
    "date_format = DateFormatter(\"%h-%d-%y\")\n",
    "ax.xaxis.set_major_formatter(date_format)\n",
    "ax.tick_params(axis='x', labelsize=8)\n",
    "fig.autofmt_xdate()\n",
    "\n",
    "# Plotting the value of Buy and Hold Strategy\n",
    "ax.plot(initial_balance*backtest.BTC_Return.cumprod(), lw=0.75, alpha=0.75, label='Buy and Hold')\n",
    "\n",
    "# Plotting total value of Crossing Averages Strategy\n",
    "ax.plot(backtest['Balance'], lw=0.75, alpha=0.75, label='Crossing Averages')\n",
    "\n",
    "# Adding labels and title to the plot\n",
    "ax.set_ylabel('USD')\n",
    "ax.set_title('Value of Portfolio')\n",
    "ax.grid() # adding a grid\n",
    "ax.legend() # adding a legend\n",
    "\n",
    "# Displaying the price chart\n",
    "plt.show()"
   ]
  }
 ],
 "metadata": {
  "interpreter": {
   "hash": "4215247fa36a1d0d8f88a09562d416edcb641a6a08b03c2d100e4f4056be5f73"
  },
  "kernelspec": {
   "display_name": "Python 3.9.10 64-bit",
   "language": "python",
   "name": "python3"
  },
  "language_info": {
   "codemirror_mode": {
    "name": "ipython",
    "version": 3
   },
   "file_extension": ".py",
   "mimetype": "text/x-python",
   "name": "python",
   "nbconvert_exporter": "python",
   "pygments_lexer": "ipython3",
   "version": "3.9.10"
  },
  "orig_nbformat": 4
 },
 "nbformat": 4,
 "nbformat_minor": 2
}
