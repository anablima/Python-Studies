{
 "cells": [
  {
   "cell_type": "markdown",
   "id": "4e55ef99",
   "metadata": {},
   "source": [
    "# Fundamentos Python"
   ]
  },
  {
   "cell_type": "code",
   "execution_count": 1,
   "id": "e8c930cf",
   "metadata": {},
   "outputs": [
    {
     "data": {
      "text/plain": [
       "5.333333333333333"
      ]
     },
     "execution_count": 1,
     "metadata": {},
     "output_type": "execute_result"
    }
   ],
   "source": [
    "16 / 3"
   ]
  },
  {
   "cell_type": "code",
   "execution_count": 2,
   "id": "a625be86",
   "metadata": {},
   "outputs": [
    {
     "data": {
      "text/plain": [
       "1"
      ]
     },
     "execution_count": 2,
     "metadata": {},
     "output_type": "execute_result"
    }
   ],
   "source": [
    "# Resto da divisão\n",
    "16 % 3"
   ]
  },
  {
   "cell_type": "code",
   "execution_count": 3,
   "id": "f8e34603",
   "metadata": {},
   "outputs": [
    {
     "data": {
      "text/plain": [
       "5"
      ]
     },
     "execution_count": 3,
     "metadata": {},
     "output_type": "execute_result"
    }
   ],
   "source": [
    "16 // 3"
   ]
  },
  {
   "cell_type": "code",
   "execution_count": 4,
   "id": "14419293",
   "metadata": {},
   "outputs": [
    {
     "data": {
      "text/plain": [
       "125"
      ]
     },
     "execution_count": 4,
     "metadata": {},
     "output_type": "execute_result"
    }
   ],
   "source": [
    "# Elevar um número a outro\n",
    "5 ** 3"
   ]
  },
  {
   "cell_type": "markdown",
   "id": "705561de",
   "metadata": {},
   "source": [
    "## Funções :)"
   ]
  },
  {
   "cell_type": "code",
   "execution_count": 5,
   "id": "311b3fd2",
   "metadata": {},
   "outputs": [],
   "source": [
    "# Funções podem ou não conter parâmetros\n",
    "def simple():\n",
    "    print('Minha primeira função')"
   ]
  },
  {
   "cell_type": "code",
   "execution_count": 6,
   "id": "bb73f195",
   "metadata": {},
   "outputs": [
    {
     "name": "stdout",
     "output_type": "stream",
     "text": [
      "Minha primeira função\n"
     ]
    }
   ],
   "source": [
    "# Chamando uma função\n",
    "simple()"
   ]
  },
  {
   "cell_type": "code",
   "execution_count": 7,
   "id": "96059c03",
   "metadata": {},
   "outputs": [],
   "source": [
    "def plus_ten(a):\n",
    "    return a + 10"
   ]
  },
  {
   "cell_type": "code",
   "execution_count": 9,
   "id": "51a91d0e",
   "metadata": {},
   "outputs": [
    {
     "data": {
      "text/plain": [
       "15"
      ]
     },
     "execution_count": 9,
     "metadata": {},
     "output_type": "execute_result"
    }
   ],
   "source": [
    "plus_ten(5)"
   ]
  },
  {
   "cell_type": "code",
   "execution_count": 12,
   "id": "b52a4013",
   "metadata": {},
   "outputs": [],
   "source": [
    "def plus_ten(a):\n",
    "    resultado = a + 10\n",
    "    return resultado"
   ]
  },
  {
   "cell_type": "code",
   "execution_count": 14,
   "id": "df2d1b81",
   "metadata": {},
   "outputs": [
    {
     "data": {
      "text/plain": [
       "12"
      ]
     },
     "execution_count": 14,
     "metadata": {},
     "output_type": "execute_result"
    }
   ],
   "source": [
    "plus_ten(2)"
   ]
  },
  {
   "cell_type": "code",
   "execution_count": 16,
   "id": "0d098a2c",
   "metadata": {},
   "outputs": [],
   "source": [
    "# Usando uma função em outra função\n",
    "def wage(w_hours):\n",
    "    return w_hours * 25\n",
    "\n",
    "def com_bonus(w_hours):\n",
    "    return wage(w_hours) + 50"
   ]
  },
  {
   "cell_type": "code",
   "execution_count": 17,
   "id": "a60e5ec1",
   "metadata": {},
   "outputs": [
    {
     "data": {
      "text/plain": [
       "(200, 250)"
      ]
     },
     "execution_count": 17,
     "metadata": {},
     "output_type": "execute_result"
    }
   ],
   "source": [
    "wage(8), com_bonus(8)"
   ]
  },
  {
   "cell_type": "code",
   "execution_count": null,
   "id": "edbfe558",
   "metadata": {},
   "outputs": [],
   "source": [
    "# Combinando condicionais e funções\n"
   ]
  }
 ],
 "metadata": {
  "kernelspec": {
   "display_name": "Python 3 (ipykernel)",
   "language": "python",
   "name": "python3"
  },
  "language_info": {
   "codemirror_mode": {
    "name": "ipython",
    "version": 3
   },
   "file_extension": ".py",
   "mimetype": "text/x-python",
   "name": "python",
   "nbconvert_exporter": "python",
   "pygments_lexer": "ipython3",
   "version": "3.9.7"
  },
  "widgets": {
   "application/vnd.jupyter.widget-state+json": {
    "state": {},
    "version_major": 2,
    "version_minor": 0
   }
  }
 },
 "nbformat": 4,
 "nbformat_minor": 5
}
