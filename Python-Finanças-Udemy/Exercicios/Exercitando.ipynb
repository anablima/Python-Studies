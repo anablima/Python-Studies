{
 "cells": [
  {
   "cell_type": "markdown",
   "id": "24f50299",
   "metadata": {},
   "source": [
    "# Intro If, Else e Elif"
   ]
  },
  {
   "cell_type": "markdown",
   "id": "73980f4c",
   "metadata": {},
   "source": [
    "Crie um código com duas linhas que imprima 'A condição é satisfatória!' se 5 for maior que 2."
   ]
  },
  {
   "cell_type": "code",
   "execution_count": 1,
   "id": "84c0918c",
   "metadata": {},
   "outputs": [
    {
     "name": "stdout",
     "output_type": "stream",
     "text": [
      "A condição é satisfatória!\n"
     ]
    }
   ],
   "source": [
    "if 5 > 2:\n",
    "    print('A condição é satisfatória!')"
   ]
  },
  {
   "cell_type": "markdown",
   "id": "53dcecd6",
   "metadata": {},
   "source": [
    "Atribua 10 a variável x e 25 a variável y. Numa célula crie 2 condições.\n",
    "\n",
    "    1º imprima 'As duas condições estão corretas.' se x for maior que 3 e y maior que 13.\n",
    "    2º imprima 'A última condição é falsa.' se x for menor ou igual a 3 ou y for menor ou igual a 13.\n",
    "\n",
    "Altere os valores de x e y e reexecute o código para verificar se está correto."
   ]
  },
  {
   "cell_type": "code",
   "execution_count": 2,
   "id": "f4cde0fd",
   "metadata": {},
   "outputs": [
    {
     "name": "stdout",
     "output_type": "stream",
     "text": [
      "A última condição é falsa.\n"
     ]
    }
   ],
   "source": [
    "x = 3\n",
    "y = 14\n",
    "\n",
    "if x > 3 and y > 13:\n",
    "    print('As duas condições estão corretas.')\n",
    "if x <= 3 or y <= 13:\n",
    "    print('A última condição é falsa.')"
   ]
  },
  {
   "cell_type": "markdown",
   "id": "7436f2fc",
   "metadata": {},
   "source": [
    "Atribua 200 à x.\n",
    "\n",
    "Crie o seguinte pedaço de código:\n",
    "\n",
    "    Se x > 200, imprima 'Big'\n",
    "    Se x > 100 e <= 200, imprima 'Average'\n",
    "    Se x <= 100, imprima 'Small'\n",
    "    \n",
    "Use if, elif e else no seu código."
   ]
  },
  {
   "cell_type": "code",
   "execution_count": 3,
   "id": "e6975833",
   "metadata": {},
   "outputs": [
    {
     "name": "stdout",
     "output_type": "stream",
     "text": [
      "Average\n"
     ]
    }
   ],
   "source": [
    "x = 102\n",
    "\n",
    "if x > 200:\n",
    "    print('Big')\n",
    "elif x > 100 and x <= 200:\n",
    "    print('Average')\n",
    "else:\n",
    "    print('Small')"
   ]
  },
  {
   "cell_type": "markdown",
   "id": "dc73b66d",
   "metadata": {},
   "source": [
    "# Usando uma função dentro de uma função"
   ]
  },
  {
   "cell_type": "markdown",
   "id": "4814347d",
   "metadata": {},
   "source": [
    "Defina uma função e adicione 5 como parâmetro.\n",
    "\n",
    "Defina outra função que multiplique um valor por 3.\n",
    "\n",
    "Verifique se seu código está correto chamando a segunda função com o argumento 5.\n",
    "\n",
    "O seu resultado é 30?"
   ]
  },
  {
   "cell_type": "code",
   "execution_count": null,
   "id": "6ebaff8c",
   "metadata": {},
   "outputs": [],
   "source": [
    "def five():\n",
    "    return 2 + 3\n",
    "\n",
    "def mult(five):\n",
    "    return five * 3"
   ]
  },
  {
   "cell_type": "code",
   "execution_count": null,
   "id": "390467e1",
   "metadata": {},
   "outputs": [],
   "source": [
    "mult()"
   ]
  },
  {
   "cell_type": "code",
   "execution_count": null,
   "id": "5af1d8cc",
   "metadata": {},
   "outputs": [],
   "source": []
  }
 ],
 "metadata": {
  "kernelspec": {
   "display_name": "Python 3 (ipykernel)",
   "language": "python",
   "name": "python3"
  },
  "language_info": {
   "codemirror_mode": {
    "name": "ipython",
    "version": 3
   },
   "file_extension": ".py",
   "mimetype": "text/x-python",
   "name": "python",
   "nbconvert_exporter": "python",
   "pygments_lexer": "ipython3",
   "version": "3.9.7"
  }
 },
 "nbformat": 4,
 "nbformat_minor": 5
}
