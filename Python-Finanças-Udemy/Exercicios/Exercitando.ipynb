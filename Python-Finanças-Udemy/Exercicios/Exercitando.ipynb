{
 "cells": [
  {
   "cell_type": "markdown",
   "id": "24f50299",
   "metadata": {},
   "source": [
    "# Intro If, Else e Elif"
   ]
  },
  {
   "cell_type": "markdown",
   "id": "73980f4c",
   "metadata": {},
   "source": [
    "Crie um código com duas linhas que imprima 'A condição é satisfatória!' se 5 for maior que 2."
   ]
  },
  {
   "cell_type": "code",
   "execution_count": 1,
   "id": "84c0918c",
   "metadata": {},
   "outputs": [
    {
     "name": "stdout",
     "output_type": "stream",
     "text": [
      "A condição é satisfatória!\n"
     ]
    }
   ],
   "source": [
    "if 5 > 2:\n",
    "    print('A condição é satisfatória!')"
   ]
  },
  {
   "cell_type": "markdown",
   "id": "53dcecd6",
   "metadata": {},
   "source": [
    "Atribua 10 a variável x e 25 a variável y. Numa célula crie 2 condições.\n",
    "\n",
    "    1º imprima 'As duas condições estão corretas.' se x for maior que 3 e y maior que 13.\n",
    "    2º imprima 'A última condição é falsa.' se x for menor ou igual a 3 ou y for menor ou igual a 13.\n",
    "\n",
    "Altere os valores de x e y e reexecute o código para verificar se está correto."
   ]
  },
  {
   "cell_type": "code",
   "execution_count": 2,
   "id": "f4cde0fd",
   "metadata": {},
   "outputs": [
    {
     "name": "stdout",
     "output_type": "stream",
     "text": [
      "A última condição é falsa.\n"
     ]
    }
   ],
   "source": [
    "x = 3\n",
    "y = 14\n",
    "\n",
    "if x > 3 and y > 13:\n",
    "    print('As duas condições estão corretas.')\n",
    "if x <= 3 or y <= 13:\n",
    "    print('A última condição é falsa.')"
   ]
  },
  {
   "cell_type": "markdown",
   "id": "7436f2fc",
   "metadata": {},
   "source": [
    "Atribua 200 à x.\n",
    "\n",
    "Crie o seguinte pedaço de código:\n",
    "\n",
    "    Se x > 200, imprima 'Big'\n",
    "    Se x > 100 e <= 200, imprima 'Average'\n",
    "    Se x <= 100, imprima 'Small'\n",
    "    \n",
    "Use if, elif e else no seu código."
   ]
  },
  {
   "cell_type": "code",
   "execution_count": 3,
   "id": "e6975833",
   "metadata": {},
   "outputs": [
    {
     "name": "stdout",
     "output_type": "stream",
     "text": [
      "Average\n"
     ]
    }
   ],
   "source": [
    "x = 102\n",
    "\n",
    "if x > 200:\n",
    "    print('Big')\n",
    "elif x > 100 and x <= 200:\n",
    "    print('Average')\n",
    "else:\n",
    "    print('Small')"
   ]
  },
  {
   "cell_type": "markdown",
   "id": "dc73b66d",
   "metadata": {},
   "source": [
    "# Usando uma função dentro de uma função"
   ]
  },
  {
   "cell_type": "markdown",
   "id": "4814347d",
   "metadata": {},
   "source": [
    "Defina uma função e adicione 5 como parâmetro.\n",
    "\n",
    "Defina outra função que multiplique um valor por 3.\n",
    "\n",
    "Verifique se seu código está correto chamando a segunda função com o argumento 5.\n",
    "\n",
    "O seu resultado é 30?"
   ]
  },
  {
   "cell_type": "code",
   "execution_count": 4,
   "id": "6ebaff8c",
   "metadata": {},
   "outputs": [],
   "source": [
    "def five(x):\n",
    "    return x + 5\n",
    "\n",
    "def mult(x):\n",
    "    return five(x) * 3"
   ]
  },
  {
   "cell_type": "code",
   "execution_count": 5,
   "id": "390467e1",
   "metadata": {},
   "outputs": [
    {
     "data": {
      "text/plain": [
       "30"
      ]
     },
     "execution_count": 5,
     "metadata": {},
     "output_type": "execute_result"
    }
   ],
   "source": [
    "mult(5)"
   ]
  },
  {
   "cell_type": "markdown",
   "id": "5af1d8cc",
   "metadata": {},
   "source": [
    "# Listas"
   ]
  },
  {
   "cell_type": "markdown",
   "id": "bf018dfd",
   "metadata": {},
   "source": [
    "Crie uma lista chamada 'num' contendo os números 10, 25, 40 e 50."
   ]
  },
  {
   "cell_type": "code",
   "execution_count": 6,
   "id": "5241c9f2",
   "metadata": {},
   "outputs": [
    {
     "data": {
      "text/plain": [
       "[10, 25, 40, 50]"
      ]
     },
     "execution_count": 6,
     "metadata": {},
     "output_type": "execute_result"
    }
   ],
   "source": [
    "num = [10,25,40,50]\n",
    "num"
   ]
  },
  {
   "cell_type": "markdown",
   "id": "b9379b9d",
   "metadata": {},
   "source": [
    "Retorne o segundo elemento da lista."
   ]
  },
  {
   "cell_type": "code",
   "execution_count": 7,
   "id": "e23e1f31",
   "metadata": {},
   "outputs": [
    {
     "data": {
      "text/plain": [
       "25"
      ]
     },
     "execution_count": 7,
     "metadata": {},
     "output_type": "execute_result"
    }
   ],
   "source": [
    "num[1]"
   ]
  },
  {
   "cell_type": "markdown",
   "id": "328173f4",
   "metadata": {},
   "source": [
    "Retorne o elemento 0 da lista."
   ]
  },
  {
   "cell_type": "code",
   "execution_count": 8,
   "id": "5a7310a8",
   "metadata": {},
   "outputs": [
    {
     "data": {
      "text/plain": [
       "10"
      ]
     },
     "execution_count": 8,
     "metadata": {},
     "output_type": "execute_result"
    }
   ],
   "source": [
    "num[0]"
   ]
  },
  {
   "cell_type": "markdown",
   "id": "9709223a",
   "metadata": {},
   "source": [
    "Retorne o 3º e o último elemento da lista."
   ]
  },
  {
   "cell_type": "code",
   "execution_count": 9,
   "id": "8a255719",
   "metadata": {},
   "outputs": [
    {
     "data": {
      "text/plain": [
       "[40, 50]"
      ]
     },
     "execution_count": 9,
     "metadata": {},
     "output_type": "execute_result"
    }
   ],
   "source": [
    "num[2:]"
   ]
  },
  {
   "cell_type": "markdown",
   "id": "0cd77dc9",
   "metadata": {},
   "source": [
    "Substitua o número 10 por 15"
   ]
  },
  {
   "cell_type": "code",
   "execution_count": 10,
   "id": "69a9d13e",
   "metadata": {},
   "outputs": [
    {
     "data": {
      "text/plain": [
       "[15, 25, 40, 50]"
      ]
     },
     "execution_count": 10,
     "metadata": {},
     "output_type": "execute_result"
    }
   ],
   "source": [
    "num[0] = 15\n",
    "num"
   ]
  },
  {
   "cell_type": "markdown",
   "id": "6b3a97bd",
   "metadata": {},
   "source": [
    "Delete o número 25 da lista."
   ]
  },
  {
   "cell_type": "code",
   "execution_count": 11,
   "id": "42b4f428",
   "metadata": {},
   "outputs": [
    {
     "data": {
      "text/plain": [
       "[15, 40, 50]"
      ]
     },
     "execution_count": 11,
     "metadata": {},
     "output_type": "execute_result"
    }
   ],
   "source": [
    "del num[1]\n",
    "num"
   ]
  },
  {
   "cell_type": "markdown",
   "id": "358831d6",
   "metadata": {},
   "source": [
    "# Fatiamento de listas"
   ]
  },
  {
   "cell_type": "code",
   "execution_count": 12,
   "id": "8f0533d6",
   "metadata": {},
   "outputs": [],
   "source": [
    "Numbers = [15, 40, 50, 100, 115, 140]"
   ]
  },
  {
   "cell_type": "markdown",
   "id": "866d1f93",
   "metadata": {},
   "source": [
    "Usando fatiamento obtenha os números 100 e 115."
   ]
  },
  {
   "cell_type": "code",
   "execution_count": 13,
   "id": "59348482",
   "metadata": {},
   "outputs": [
    {
     "data": {
      "text/plain": [
       "[100, 115]"
      ]
     },
     "execution_count": 13,
     "metadata": {},
     "output_type": "execute_result"
    }
   ],
   "source": [
    "Numbers[3:5]"
   ]
  },
  {
   "cell_type": "markdown",
   "id": "2d60ea28",
   "metadata": {},
   "source": [
    "Usando fatiamento extraia os 4 primeiros elementos da lista."
   ]
  },
  {
   "cell_type": "code",
   "execution_count": 14,
   "id": "55d07f59",
   "metadata": {},
   "outputs": [
    {
     "data": {
      "text/plain": [
       "[15, 40, 50, 100]"
      ]
     },
     "execution_count": 14,
     "metadata": {},
     "output_type": "execute_result"
    }
   ],
   "source": [
    "Numbers[:4]"
   ]
  },
  {
   "cell_type": "markdown",
   "id": "4e3decea",
   "metadata": {},
   "source": [
    "Usando fatiamento extraia todos os elementos a partir da terceira posição."
   ]
  },
  {
   "cell_type": "code",
   "execution_count": 15,
   "id": "4b65696b",
   "metadata": {},
   "outputs": [
    {
     "data": {
      "text/plain": [
       "[50, 100, 115, 140]"
      ]
     },
     "execution_count": 15,
     "metadata": {},
     "output_type": "execute_result"
    }
   ],
   "source": [
    "Numbers[2:]"
   ]
  },
  {
   "cell_type": "markdown",
   "id": "555c3a84",
   "metadata": {},
   "source": [
    "Crie uma lista chamada 'Numbers2' com os números 1 e 2.\n",
    "\n",
    "Crie uma lista composta pela Numbers e a Numbers2 chamada 'td_numbers'."
   ]
  },
  {
   "cell_type": "code",
   "execution_count": 16,
   "id": "716c5974",
   "metadata": {},
   "outputs": [],
   "source": [
    "Numbers2 = [1,2]"
   ]
  },
  {
   "cell_type": "code",
   "execution_count": 17,
   "id": "083eda02",
   "metadata": {},
   "outputs": [
    {
     "data": {
      "text/plain": [
       "[[15, 40, 50, 100, 115, 140], [1, 2]]"
      ]
     },
     "execution_count": 17,
     "metadata": {},
     "output_type": "execute_result"
    }
   ],
   "source": [
    "td_numbers = [Numbers, Numbers2]\n",
    "td_numbers"
   ]
  },
  {
   "cell_type": "markdown",
   "id": "7c847736",
   "metadata": {},
   "source": [
    "Orderne em ordem descrescente a lista Numbers."
   ]
  },
  {
   "cell_type": "code",
   "execution_count": 18,
   "id": "cf467b6e",
   "metadata": {},
   "outputs": [
    {
     "data": {
      "text/plain": [
       "[140, 115, 100, 50, 40, 15]"
      ]
     },
     "execution_count": 18,
     "metadata": {},
     "output_type": "execute_result"
    }
   ],
   "source": [
    "Numbers.sort(reverse=True)\n",
    "Numbers"
   ]
  },
  {
   "cell_type": "markdown",
   "id": "29f8f5a8",
   "metadata": {},
   "source": [
    "# Dicionários"
   ]
  },
  {
   "cell_type": "code",
   "execution_count": 30,
   "id": "65c90493",
   "metadata": {},
   "outputs": [],
   "source": [
    "Menu = {'meal_1':'Spaghetti', 'meal_2':'Fries', 'meal_3':'Hamburger', 'meal_4':'Lasagna'}"
   ]
  },
  {
   "cell_type": "code",
   "execution_count": 31,
   "id": "30ad5984",
   "metadata": {},
   "outputs": [
    {
     "data": {
      "text/plain": [
       "'Fries'"
      ]
     },
     "execution_count": 31,
     "metadata": {},
     "output_type": "execute_result"
    }
   ],
   "source": [
    "# Qual é o segundo elemento do dict acima?\n",
    "Menu['meal_2']"
   ]
  },
  {
   "cell_type": "code",
   "execution_count": 32,
   "id": "fe0d9ede",
   "metadata": {},
   "outputs": [
    {
     "data": {
      "text/plain": [
       "{'meal_1': 'Spaghetti',\n",
       " 'meal_2': 'Fries',\n",
       " 'meal_3': 'Hamburger',\n",
       " 'meal_4': 'Lasagna',\n",
       " 'meal_5': 'Soup'}"
      ]
     },
     "execution_count": 32,
     "metadata": {},
     "output_type": "execute_result"
    }
   ],
   "source": [
    "# Adicione um nome elemento, 'Soup'\n",
    "Menu['meal_5'] = \"Soup\"\n",
    "Menu"
   ]
  },
  {
   "cell_type": "code",
   "execution_count": 33,
   "id": "637a5309",
   "metadata": {},
   "outputs": [
    {
     "data": {
      "text/plain": [
       "{'meal_1': 'Spaghetti',\n",
       " 'meal_2': 'Fries',\n",
       " 'meal_3': 'Cheeseburger',\n",
       " 'meal_4': 'Lasagna',\n",
       " 'meal_5': 'Soup'}"
      ]
     },
     "execution_count": 33,
     "metadata": {},
     "output_type": "execute_result"
    }
   ],
   "source": [
    "# Troque Humburger por Cheeseburger\n",
    "Menu['meal_3'] = \"Cheeseburger\"\n",
    "Menu"
   ]
  }
 ],
 "metadata": {
  "kernelspec": {
   "display_name": "Python 3 (ipykernel)",
   "language": "python",
   "name": "python3"
  },
  "language_info": {
   "codemirror_mode": {
    "name": "ipython",
    "version": 3
   },
   "file_extension": ".py",
   "mimetype": "text/x-python",
   "name": "python",
   "nbconvert_exporter": "python",
   "pygments_lexer": "ipython3",
   "version": "3.9.10"
  }
 },
 "nbformat": 4,
 "nbformat_minor": 5
}
