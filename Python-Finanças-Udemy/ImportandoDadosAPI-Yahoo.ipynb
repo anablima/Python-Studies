{
 "cells": [
  {
   "cell_type": "code",
   "execution_count": 1,
   "metadata": {},
   "outputs": [],
   "source": [
    "import numpy as np\n",
    "import pandas as pd"
   ]
  },
  {
   "cell_type": "code",
   "execution_count": 2,
   "metadata": {},
   "outputs": [],
   "source": [
    "ser = pd.Series(np.random.random(5), name = 'Coluna 01')"
   ]
  },
  {
   "cell_type": "code",
   "execution_count": 3,
   "metadata": {},
   "outputs": [
    {
     "data": {
      "text/plain": [
       "0    0.713079\n",
       "1    0.391016\n",
       "2    0.961245\n",
       "3    0.760425\n",
       "4    0.757936\n",
       "Name: Coluna 01, dtype: float64"
      ]
     },
     "execution_count": 3,
     "metadata": {},
     "output_type": "execute_result"
    }
   ],
   "source": [
    "ser"
   ]
  },
  {
   "cell_type": "code",
   "execution_count": 4,
   "metadata": {},
   "outputs": [
    {
     "data": {
      "text/plain": [
       "0.9612447999052"
      ]
     },
     "execution_count": 4,
     "metadata": {},
     "output_type": "execute_result"
    }
   ],
   "source": [
    "ser[2]"
   ]
  },
  {
   "cell_type": "code",
   "execution_count": 5,
   "metadata": {},
   "outputs": [],
   "source": [
    "# Biblioteca que importa dados de APIs\n",
    "from pandas_datareader import data as wb"
   ]
  },
  {
   "cell_type": "code",
   "execution_count": 12,
   "metadata": {},
   "outputs": [],
   "source": [
    "# Definimos 3 parâmetros\n",
    "# 1º o nome da ação\n",
    "# 2º a fonte de dados\n",
    "# 3º a data de início da consulta\n",
    "MGLU3 = wb.DataReader('MGLU3.SA', data_source='yahoo', start='2019-1-1')"
   ]
  },
  {
   "cell_type": "code",
   "execution_count": 13,
   "metadata": {},
   "outputs": [
    {
     "name": "stdout",
     "output_type": "stream",
     "text": [
      "<class 'pandas.core.frame.DataFrame'>\n",
      "DatetimeIndex: 767 entries, 2019-01-02 to 2022-02-03\n",
      "Data columns (total 6 columns):\n",
      " #   Column     Non-Null Count  Dtype  \n",
      "---  ------     --------------  -----  \n",
      " 0   High       767 non-null    float64\n",
      " 1   Low        767 non-null    float64\n",
      " 2   Open       767 non-null    float64\n",
      " 3   Close      767 non-null    float64\n",
      " 4   Volume     767 non-null    float64\n",
      " 5   Adj Close  767 non-null    float64\n",
      "dtypes: float64(6)\n",
      "memory usage: 41.9 KB\n"
     ]
    }
   ],
   "source": [
    "# Dados históricos dos valores das ações da Microsoft desde 2019\n",
    "MGLU3.info()"
   ]
  },
  {
   "cell_type": "code",
   "execution_count": 14,
   "metadata": {},
   "outputs": [
    {
     "data": {
      "text/html": [
       "<div>\n",
       "<style scoped>\n",
       "    .dataframe tbody tr th:only-of-type {\n",
       "        vertical-align: middle;\n",
       "    }\n",
       "\n",
       "    .dataframe tbody tr th {\n",
       "        vertical-align: top;\n",
       "    }\n",
       "\n",
       "    .dataframe thead th {\n",
       "        text-align: right;\n",
       "    }\n",
       "</style>\n",
       "<table border=\"1\" class=\"dataframe\">\n",
       "  <thead>\n",
       "    <tr style=\"text-align: right;\">\n",
       "      <th></th>\n",
       "      <th>High</th>\n",
       "      <th>Low</th>\n",
       "      <th>Open</th>\n",
       "      <th>Close</th>\n",
       "      <th>Volume</th>\n",
       "      <th>Adj Close</th>\n",
       "    </tr>\n",
       "    <tr>\n",
       "      <th>Date</th>\n",
       "      <th></th>\n",
       "      <th></th>\n",
       "      <th></th>\n",
       "      <th></th>\n",
       "      <th></th>\n",
       "      <th></th>\n",
       "    </tr>\n",
       "  </thead>\n",
       "  <tbody>\n",
       "    <tr>\n",
       "      <th>2019-01-02</th>\n",
       "      <td>5.812187</td>\n",
       "      <td>5.594687</td>\n",
       "      <td>5.638125</td>\n",
       "      <td>5.812187</td>\n",
       "      <td>27017600.0</td>\n",
       "      <td>5.641578</td>\n",
       "    </tr>\n",
       "    <tr>\n",
       "      <th>2019-01-03</th>\n",
       "      <td>5.796562</td>\n",
       "      <td>5.605000</td>\n",
       "      <td>5.780937</td>\n",
       "      <td>5.750000</td>\n",
       "      <td>26342400.0</td>\n",
       "      <td>5.581216</td>\n",
       "    </tr>\n",
       "    <tr>\n",
       "      <th>2019-01-04</th>\n",
       "      <td>5.760937</td>\n",
       "      <td>5.573437</td>\n",
       "      <td>5.751562</td>\n",
       "      <td>5.575000</td>\n",
       "      <td>27721600.0</td>\n",
       "      <td>5.411354</td>\n",
       "    </tr>\n",
       "    <tr>\n",
       "      <th>2019-01-07</th>\n",
       "      <td>5.702500</td>\n",
       "      <td>5.539687</td>\n",
       "      <td>5.562500</td>\n",
       "      <td>5.661562</td>\n",
       "      <td>21174400.0</td>\n",
       "      <td>5.495375</td>\n",
       "    </tr>\n",
       "    <tr>\n",
       "      <th>2019-01-08</th>\n",
       "      <td>5.702812</td>\n",
       "      <td>5.593750</td>\n",
       "      <td>5.673437</td>\n",
       "      <td>5.615937</td>\n",
       "      <td>19398400.0</td>\n",
       "      <td>5.451089</td>\n",
       "    </tr>\n",
       "  </tbody>\n",
       "</table>\n",
       "</div>"
      ],
      "text/plain": [
       "                High       Low      Open     Close      Volume  Adj Close\n",
       "Date                                                                     \n",
       "2019-01-02  5.812187  5.594687  5.638125  5.812187  27017600.0   5.641578\n",
       "2019-01-03  5.796562  5.605000  5.780937  5.750000  26342400.0   5.581216\n",
       "2019-01-04  5.760937  5.573437  5.751562  5.575000  27721600.0   5.411354\n",
       "2019-01-07  5.702500  5.539687  5.562500  5.661562  21174400.0   5.495375\n",
       "2019-01-08  5.702812  5.593750  5.673437  5.615937  19398400.0   5.451089"
      ]
     },
     "execution_count": 14,
     "metadata": {},
     "output_type": "execute_result"
    }
   ],
   "source": [
    "# Primeiras linhas\n",
    "MGLU3.head()"
   ]
  },
  {
   "cell_type": "code",
   "execution_count": 15,
   "metadata": {},
   "outputs": [
    {
     "data": {
      "text/html": [
       "<div>\n",
       "<style scoped>\n",
       "    .dataframe tbody tr th:only-of-type {\n",
       "        vertical-align: middle;\n",
       "    }\n",
       "\n",
       "    .dataframe tbody tr th {\n",
       "        vertical-align: top;\n",
       "    }\n",
       "\n",
       "    .dataframe thead th {\n",
       "        text-align: right;\n",
       "    }\n",
       "</style>\n",
       "<table border=\"1\" class=\"dataframe\">\n",
       "  <thead>\n",
       "    <tr style=\"text-align: right;\">\n",
       "      <th></th>\n",
       "      <th>High</th>\n",
       "      <th>Low</th>\n",
       "      <th>Open</th>\n",
       "      <th>Close</th>\n",
       "      <th>Volume</th>\n",
       "      <th>Adj Close</th>\n",
       "    </tr>\n",
       "    <tr>\n",
       "      <th>Date</th>\n",
       "      <th></th>\n",
       "      <th></th>\n",
       "      <th></th>\n",
       "      <th></th>\n",
       "      <th></th>\n",
       "      <th></th>\n",
       "    </tr>\n",
       "  </thead>\n",
       "  <tbody>\n",
       "    <tr>\n",
       "      <th>2022-01-28</th>\n",
       "      <td>7.23</td>\n",
       "      <td>6.62</td>\n",
       "      <td>7.21</td>\n",
       "      <td>6.65</td>\n",
       "      <td>149583500.0</td>\n",
       "      <td>6.65</td>\n",
       "    </tr>\n",
       "    <tr>\n",
       "      <th>2022-01-31</th>\n",
       "      <td>7.11</td>\n",
       "      <td>6.67</td>\n",
       "      <td>6.80</td>\n",
       "      <td>7.02</td>\n",
       "      <td>127917000.0</td>\n",
       "      <td>7.02</td>\n",
       "    </tr>\n",
       "    <tr>\n",
       "      <th>2022-02-01</th>\n",
       "      <td>7.33</td>\n",
       "      <td>6.88</td>\n",
       "      <td>7.00</td>\n",
       "      <td>7.01</td>\n",
       "      <td>154376100.0</td>\n",
       "      <td>7.01</td>\n",
       "    </tr>\n",
       "    <tr>\n",
       "      <th>2022-02-02</th>\n",
       "      <td>7.25</td>\n",
       "      <td>6.44</td>\n",
       "      <td>7.09</td>\n",
       "      <td>6.59</td>\n",
       "      <td>187066100.0</td>\n",
       "      <td>6.59</td>\n",
       "    </tr>\n",
       "    <tr>\n",
       "      <th>2022-02-03</th>\n",
       "      <td>0.00</td>\n",
       "      <td>0.00</td>\n",
       "      <td>0.00</td>\n",
       "      <td>6.53</td>\n",
       "      <td>0.0</td>\n",
       "      <td>6.53</td>\n",
       "    </tr>\n",
       "  </tbody>\n",
       "</table>\n",
       "</div>"
      ],
      "text/plain": [
       "            High   Low  Open  Close       Volume  Adj Close\n",
       "Date                                                       \n",
       "2022-01-28  7.23  6.62  7.21   6.65  149583500.0       6.65\n",
       "2022-01-31  7.11  6.67  6.80   7.02  127917000.0       7.02\n",
       "2022-02-01  7.33  6.88  7.00   7.01  154376100.0       7.01\n",
       "2022-02-02  7.25  6.44  7.09   6.59  187066100.0       6.59\n",
       "2022-02-03  0.00  0.00  0.00   6.53          0.0       6.53"
      ]
     },
     "execution_count": 15,
     "metadata": {},
     "output_type": "execute_result"
    }
   ],
   "source": [
    "# Últimas linhas\n",
    "MGLU3.tail()"
   ]
  },
  {
   "cell_type": "code",
   "execution_count": 16,
   "metadata": {},
   "outputs": [],
   "source": [
    "'''\n",
    "DataFrame com as informações de fechamento ajustado (Adj Close) das ações\n",
    "das empresas Procter & Gamble, Microsoft, Magazine Luiza, Ford\n",
    "e General Electric\n",
    "'''\n",
    "\n",
    "# Nome das ações\n",
    "acoes = ['PG','MSFT','MGLU3.SA','F','GE']\n",
    "\n",
    "# Criamos o DataFrame vazio\n",
    "new_data = pd.DataFrame()\n",
    "\n",
    "# Preenchemos o DataFrame com os dados das ações\n",
    "for a in acoes:\n",
    "    new_data[a] = wb.DataReader(a, data_source='yahoo', start='2019-1-1')['Adj Close']"
   ]
  },
  {
   "cell_type": "code",
   "execution_count": 17,
   "metadata": {},
   "outputs": [
    {
     "data": {
      "text/html": [
       "<div>\n",
       "<style scoped>\n",
       "    .dataframe tbody tr th:only-of-type {\n",
       "        vertical-align: middle;\n",
       "    }\n",
       "\n",
       "    .dataframe tbody tr th {\n",
       "        vertical-align: top;\n",
       "    }\n",
       "\n",
       "    .dataframe thead th {\n",
       "        text-align: right;\n",
       "    }\n",
       "</style>\n",
       "<table border=\"1\" class=\"dataframe\">\n",
       "  <thead>\n",
       "    <tr style=\"text-align: right;\">\n",
       "      <th></th>\n",
       "      <th>Procter &amp; Gamble</th>\n",
       "      <th>Microsoft</th>\n",
       "      <th>Magazine Luiza</th>\n",
       "      <th>Ford</th>\n",
       "      <th>General Electric</th>\n",
       "    </tr>\n",
       "    <tr>\n",
       "      <th>Date</th>\n",
       "      <th></th>\n",
       "      <th></th>\n",
       "      <th></th>\n",
       "      <th></th>\n",
       "      <th></th>\n",
       "    </tr>\n",
       "  </thead>\n",
       "  <tbody>\n",
       "    <tr>\n",
       "      <th>2022-01-28</th>\n",
       "      <td>160.500000</td>\n",
       "      <td>308.260010</td>\n",
       "      <td>6.65</td>\n",
       "      <td>19.540001</td>\n",
       "      <td>92.099998</td>\n",
       "    </tr>\n",
       "    <tr>\n",
       "      <th>2022-01-31</th>\n",
       "      <td>160.449997</td>\n",
       "      <td>310.980011</td>\n",
       "      <td>7.02</td>\n",
       "      <td>20.299999</td>\n",
       "      <td>94.480003</td>\n",
       "    </tr>\n",
       "    <tr>\n",
       "      <th>2022-02-01</th>\n",
       "      <td>159.740005</td>\n",
       "      <td>308.760010</td>\n",
       "      <td>7.01</td>\n",
       "      <td>20.660000</td>\n",
       "      <td>97.949997</td>\n",
       "    </tr>\n",
       "    <tr>\n",
       "      <th>2022-02-02</th>\n",
       "      <td>162.600006</td>\n",
       "      <td>313.459991</td>\n",
       "      <td>6.59</td>\n",
       "      <td>20.629999</td>\n",
       "      <td>98.040001</td>\n",
       "    </tr>\n",
       "    <tr>\n",
       "      <th>2022-02-03</th>\n",
       "      <td>164.139999</td>\n",
       "      <td>301.250000</td>\n",
       "      <td>6.53</td>\n",
       "      <td>19.889999</td>\n",
       "      <td>98.320000</td>\n",
       "    </tr>\n",
       "  </tbody>\n",
       "</table>\n",
       "</div>"
      ],
      "text/plain": [
       "            Procter & Gamble   Microsoft  Magazine Luiza       Ford  \\\n",
       "Date                                                                  \n",
       "2022-01-28        160.500000  308.260010            6.65  19.540001   \n",
       "2022-01-31        160.449997  310.980011            7.02  20.299999   \n",
       "2022-02-01        159.740005  308.760010            7.01  20.660000   \n",
       "2022-02-02        162.600006  313.459991            6.59  20.629999   \n",
       "2022-02-03        164.139999  301.250000            6.53  19.889999   \n",
       "\n",
       "            General Electric  \n",
       "Date                          \n",
       "2022-01-28         92.099998  \n",
       "2022-01-31         94.480003  \n",
       "2022-02-01         97.949997  \n",
       "2022-02-02         98.040001  \n",
       "2022-02-03         98.320000  "
      ]
     },
     "execution_count": 17,
     "metadata": {},
     "output_type": "execute_result"
    }
   ],
   "source": [
    "colunas_a = ['Procter & Gamble', 'Microsoft', 'Magazine Luiza', 'Ford', 'General Electric']\n",
    "new_data.columns = colunas_a\n",
    "\n",
    "new_data.tail()"
   ]
  },
  {
   "cell_type": "code",
   "execution_count": null,
   "metadata": {},
   "outputs": [],
   "source": []
  }
 ],
 "metadata": {
  "interpreter": {
   "hash": "4215247fa36a1d0d8f88a09562d416edcb641a6a08b03c2d100e4f4056be5f73"
  },
  "kernelspec": {
   "display_name": "Python 3.9.10 64-bit",
   "language": "python",
   "name": "python3"
  },
  "language_info": {
   "codemirror_mode": {
    "name": "ipython",
    "version": 3
   },
   "file_extension": ".py",
   "mimetype": "text/x-python",
   "name": "python",
   "nbconvert_exporter": "python",
   "pygments_lexer": "ipython3",
   "version": "3.9.10"
  },
  "orig_nbformat": 4
 },
 "nbformat": 4,
 "nbformat_minor": 2
}
