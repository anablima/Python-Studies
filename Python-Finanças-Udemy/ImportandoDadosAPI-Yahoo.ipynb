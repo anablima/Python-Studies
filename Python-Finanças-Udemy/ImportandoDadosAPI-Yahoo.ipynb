{
 "cells": [
  {
   "cell_type": "code",
   "execution_count": 21,
   "metadata": {},
   "outputs": [],
   "source": [
    "import numpy as np\n",
    "import pandas as pd"
   ]
  },
  {
   "cell_type": "code",
   "execution_count": 22,
   "metadata": {},
   "outputs": [],
   "source": [
    "ser = pd.Series(np.random.random(5), name = 'Coluna 01')"
   ]
  },
  {
   "cell_type": "code",
   "execution_count": 23,
   "metadata": {},
   "outputs": [
    {
     "data": {
      "text/plain": [
       "0    0.763276\n",
       "1    0.563986\n",
       "2    0.664742\n",
       "3    0.174898\n",
       "4    0.150385\n",
       "Name: Coluna 01, dtype: float64"
      ]
     },
     "execution_count": 23,
     "metadata": {},
     "output_type": "execute_result"
    }
   ],
   "source": [
    "ser"
   ]
  },
  {
   "cell_type": "code",
   "execution_count": 24,
   "metadata": {},
   "outputs": [
    {
     "data": {
      "text/plain": [
       "0.6647417268581092"
      ]
     },
     "execution_count": 24,
     "metadata": {},
     "output_type": "execute_result"
    }
   ],
   "source": [
    "ser[2]"
   ]
  },
  {
   "cell_type": "code",
   "execution_count": 25,
   "metadata": {},
   "outputs": [],
   "source": [
    "# Biblioteca que importa dados de APIs\n",
    "from pandas_datareader import data as wb"
   ]
  },
  {
   "cell_type": "code",
   "execution_count": 26,
   "metadata": {},
   "outputs": [],
   "source": [
    "# Definimos 3 parâmetros\n",
    "# 1º o nome da ação\n",
    "# 2º a fonte de dados\n",
    "# 3º a data de início da consulta\n",
    "MSFT = wb.DataReader('MSFT', data_source='yahoo', start='2019-1-1')"
   ]
  },
  {
   "cell_type": "code",
   "execution_count": 27,
   "metadata": {},
   "outputs": [
    {
     "name": "stdout",
     "output_type": "stream",
     "text": [
      "<class 'pandas.core.frame.DataFrame'>\n",
      "DatetimeIndex: 780 entries, 2019-01-02 to 2022-02-03\n",
      "Data columns (total 6 columns):\n",
      " #   Column     Non-Null Count  Dtype  \n",
      "---  ------     --------------  -----  \n",
      " 0   High       780 non-null    float64\n",
      " 1   Low        780 non-null    float64\n",
      " 2   Open       780 non-null    float64\n",
      " 3   Close      780 non-null    float64\n",
      " 4   Volume     780 non-null    float64\n",
      " 5   Adj Close  780 non-null    float64\n",
      "dtypes: float64(6)\n",
      "memory usage: 42.7 KB\n"
     ]
    }
   ],
   "source": [
    "# Dados históricos dos valores das ações da Microsoft desde 2019\n",
    "MSFT.info()"
   ]
  },
  {
   "cell_type": "code",
   "execution_count": 28,
   "metadata": {},
   "outputs": [
    {
     "data": {
      "text/html": [
       "<div>\n",
       "<style scoped>\n",
       "    .dataframe tbody tr th:only-of-type {\n",
       "        vertical-align: middle;\n",
       "    }\n",
       "\n",
       "    .dataframe tbody tr th {\n",
       "        vertical-align: top;\n",
       "    }\n",
       "\n",
       "    .dataframe thead th {\n",
       "        text-align: right;\n",
       "    }\n",
       "</style>\n",
       "<table border=\"1\" class=\"dataframe\">\n",
       "  <thead>\n",
       "    <tr style=\"text-align: right;\">\n",
       "      <th></th>\n",
       "      <th>High</th>\n",
       "      <th>Low</th>\n",
       "      <th>Open</th>\n",
       "      <th>Close</th>\n",
       "      <th>Volume</th>\n",
       "      <th>Adj Close</th>\n",
       "    </tr>\n",
       "    <tr>\n",
       "      <th>Date</th>\n",
       "      <th></th>\n",
       "      <th></th>\n",
       "      <th></th>\n",
       "      <th></th>\n",
       "      <th></th>\n",
       "      <th></th>\n",
       "    </tr>\n",
       "  </thead>\n",
       "  <tbody>\n",
       "    <tr>\n",
       "      <th>2019-01-02</th>\n",
       "      <td>101.750000</td>\n",
       "      <td>98.940002</td>\n",
       "      <td>99.550003</td>\n",
       "      <td>101.120003</td>\n",
       "      <td>35329300.0</td>\n",
       "      <td>97.782440</td>\n",
       "    </tr>\n",
       "    <tr>\n",
       "      <th>2019-01-03</th>\n",
       "      <td>100.190002</td>\n",
       "      <td>97.199997</td>\n",
       "      <td>100.099998</td>\n",
       "      <td>97.400002</td>\n",
       "      <td>42579100.0</td>\n",
       "      <td>94.185211</td>\n",
       "    </tr>\n",
       "    <tr>\n",
       "      <th>2019-01-04</th>\n",
       "      <td>102.510002</td>\n",
       "      <td>98.930000</td>\n",
       "      <td>99.720001</td>\n",
       "      <td>101.930000</td>\n",
       "      <td>44060600.0</td>\n",
       "      <td>98.565704</td>\n",
       "    </tr>\n",
       "    <tr>\n",
       "      <th>2019-01-07</th>\n",
       "      <td>103.269997</td>\n",
       "      <td>100.980003</td>\n",
       "      <td>101.639999</td>\n",
       "      <td>102.059998</td>\n",
       "      <td>35656100.0</td>\n",
       "      <td>98.691406</td>\n",
       "    </tr>\n",
       "    <tr>\n",
       "      <th>2019-01-08</th>\n",
       "      <td>103.970001</td>\n",
       "      <td>101.709999</td>\n",
       "      <td>103.040001</td>\n",
       "      <td>102.800003</td>\n",
       "      <td>31514400.0</td>\n",
       "      <td>99.406990</td>\n",
       "    </tr>\n",
       "  </tbody>\n",
       "</table>\n",
       "</div>"
      ],
      "text/plain": [
       "                  High         Low        Open       Close      Volume  \\\n",
       "Date                                                                     \n",
       "2019-01-02  101.750000   98.940002   99.550003  101.120003  35329300.0   \n",
       "2019-01-03  100.190002   97.199997  100.099998   97.400002  42579100.0   \n",
       "2019-01-04  102.510002   98.930000   99.720001  101.930000  44060600.0   \n",
       "2019-01-07  103.269997  100.980003  101.639999  102.059998  35656100.0   \n",
       "2019-01-08  103.970001  101.709999  103.040001  102.800003  31514400.0   \n",
       "\n",
       "            Adj Close  \n",
       "Date                   \n",
       "2019-01-02  97.782440  \n",
       "2019-01-03  94.185211  \n",
       "2019-01-04  98.565704  \n",
       "2019-01-07  98.691406  \n",
       "2019-01-08  99.406990  "
      ]
     },
     "execution_count": 28,
     "metadata": {},
     "output_type": "execute_result"
    }
   ],
   "source": [
    "# Primeiras linhas\n",
    "MSFT.head()"
   ]
  },
  {
   "cell_type": "code",
   "execution_count": 29,
   "metadata": {},
   "outputs": [
    {
     "data": {
      "text/html": [
       "<div>\n",
       "<style scoped>\n",
       "    .dataframe tbody tr th:only-of-type {\n",
       "        vertical-align: middle;\n",
       "    }\n",
       "\n",
       "    .dataframe tbody tr th {\n",
       "        vertical-align: top;\n",
       "    }\n",
       "\n",
       "    .dataframe thead th {\n",
       "        text-align: right;\n",
       "    }\n",
       "</style>\n",
       "<table border=\"1\" class=\"dataframe\">\n",
       "  <thead>\n",
       "    <tr style=\"text-align: right;\">\n",
       "      <th></th>\n",
       "      <th>High</th>\n",
       "      <th>Low</th>\n",
       "      <th>Open</th>\n",
       "      <th>Close</th>\n",
       "      <th>Volume</th>\n",
       "      <th>Adj Close</th>\n",
       "    </tr>\n",
       "    <tr>\n",
       "      <th>Date</th>\n",
       "      <th></th>\n",
       "      <th></th>\n",
       "      <th></th>\n",
       "      <th></th>\n",
       "      <th></th>\n",
       "      <th></th>\n",
       "    </tr>\n",
       "  </thead>\n",
       "  <tbody>\n",
       "    <tr>\n",
       "      <th>2022-01-28</th>\n",
       "      <td>308.480011</td>\n",
       "      <td>294.450012</td>\n",
       "      <td>300.230011</td>\n",
       "      <td>308.260010</td>\n",
       "      <td>49743700.0</td>\n",
       "      <td>308.260010</td>\n",
       "    </tr>\n",
       "    <tr>\n",
       "      <th>2022-01-31</th>\n",
       "      <td>312.380005</td>\n",
       "      <td>306.369995</td>\n",
       "      <td>308.950012</td>\n",
       "      <td>310.980011</td>\n",
       "      <td>46444500.0</td>\n",
       "      <td>310.980011</td>\n",
       "    </tr>\n",
       "    <tr>\n",
       "      <th>2022-02-01</th>\n",
       "      <td>310.630005</td>\n",
       "      <td>305.130005</td>\n",
       "      <td>310.410004</td>\n",
       "      <td>308.760010</td>\n",
       "      <td>40894300.0</td>\n",
       "      <td>308.760010</td>\n",
       "    </tr>\n",
       "    <tr>\n",
       "      <th>2022-02-02</th>\n",
       "      <td>315.119995</td>\n",
       "      <td>308.880005</td>\n",
       "      <td>309.630005</td>\n",
       "      <td>313.459991</td>\n",
       "      <td>36552800.0</td>\n",
       "      <td>313.459991</td>\n",
       "    </tr>\n",
       "    <tr>\n",
       "      <th>2022-02-03</th>\n",
       "      <td>311.230011</td>\n",
       "      <td>302.739990</td>\n",
       "      <td>309.489990</td>\n",
       "      <td>304.269989</td>\n",
       "      <td>27128694.0</td>\n",
       "      <td>304.269989</td>\n",
       "    </tr>\n",
       "  </tbody>\n",
       "</table>\n",
       "</div>"
      ],
      "text/plain": [
       "                  High         Low        Open       Close      Volume  \\\n",
       "Date                                                                     \n",
       "2022-01-28  308.480011  294.450012  300.230011  308.260010  49743700.0   \n",
       "2022-01-31  312.380005  306.369995  308.950012  310.980011  46444500.0   \n",
       "2022-02-01  310.630005  305.130005  310.410004  308.760010  40894300.0   \n",
       "2022-02-02  315.119995  308.880005  309.630005  313.459991  36552800.0   \n",
       "2022-02-03  311.230011  302.739990  309.489990  304.269989  27128694.0   \n",
       "\n",
       "             Adj Close  \n",
       "Date                    \n",
       "2022-01-28  308.260010  \n",
       "2022-01-31  310.980011  \n",
       "2022-02-01  308.760010  \n",
       "2022-02-02  313.459991  \n",
       "2022-02-03  304.269989  "
      ]
     },
     "execution_count": 29,
     "metadata": {},
     "output_type": "execute_result"
    }
   ],
   "source": [
    "# Últimas linhas\n",
    "MSFT.tail()"
   ]
  },
  {
   "cell_type": "code",
   "execution_count": 30,
   "metadata": {},
   "outputs": [],
   "source": [
    "'''\n",
    "DataFrame com as informações de fechamento ajustado (Adj Close) das ações\n",
    "das empresas Procter & Gamble, Microsoft, AT&T, Ford\n",
    "e General Electric\n",
    "'''\n",
    "\n",
    "# Nome das ações\n",
    "acoes = ['PG','MSFT','T','F','GE']\n",
    "\n",
    "# Criamos o DataFrame vazio\n",
    "new_data = pd.DataFrame()\n",
    "\n",
    "# Preenchemos o DataFrame com os dados das ações\n",
    "for a in acoes:\n",
    "    new_data[a] = wb.DataReader(a, data_source='yahoo', start='2019-1-1')['Adj Close']"
   ]
  },
  {
   "cell_type": "code",
   "execution_count": 32,
   "metadata": {},
   "outputs": [
    {
     "data": {
      "text/html": [
       "<div>\n",
       "<style scoped>\n",
       "    .dataframe tbody tr th:only-of-type {\n",
       "        vertical-align: middle;\n",
       "    }\n",
       "\n",
       "    .dataframe tbody tr th {\n",
       "        vertical-align: top;\n",
       "    }\n",
       "\n",
       "    .dataframe thead th {\n",
       "        text-align: right;\n",
       "    }\n",
       "</style>\n",
       "<table border=\"1\" class=\"dataframe\">\n",
       "  <thead>\n",
       "    <tr style=\"text-align: right;\">\n",
       "      <th></th>\n",
       "      <th>Procter &amp; Gamble</th>\n",
       "      <th>Microsoft</th>\n",
       "      <th>AT&amp;T</th>\n",
       "      <th>Ford</th>\n",
       "      <th>General Electric</th>\n",
       "    </tr>\n",
       "    <tr>\n",
       "      <th>Date</th>\n",
       "      <th></th>\n",
       "      <th></th>\n",
       "      <th></th>\n",
       "      <th></th>\n",
       "      <th></th>\n",
       "    </tr>\n",
       "  </thead>\n",
       "  <tbody>\n",
       "    <tr>\n",
       "      <th>2022-01-28</th>\n",
       "      <td>160.500000</td>\n",
       "      <td>308.260010</td>\n",
       "      <td>25.209999</td>\n",
       "      <td>19.540001</td>\n",
       "      <td>92.099998</td>\n",
       "    </tr>\n",
       "    <tr>\n",
       "      <th>2022-01-31</th>\n",
       "      <td>160.449997</td>\n",
       "      <td>310.980011</td>\n",
       "      <td>25.500000</td>\n",
       "      <td>20.299999</td>\n",
       "      <td>94.480003</td>\n",
       "    </tr>\n",
       "    <tr>\n",
       "      <th>2022-02-01</th>\n",
       "      <td>159.740005</td>\n",
       "      <td>308.760010</td>\n",
       "      <td>24.420000</td>\n",
       "      <td>20.660000</td>\n",
       "      <td>97.949997</td>\n",
       "    </tr>\n",
       "    <tr>\n",
       "      <th>2022-02-02</th>\n",
       "      <td>162.600006</td>\n",
       "      <td>313.459991</td>\n",
       "      <td>24.540001</td>\n",
       "      <td>20.629999</td>\n",
       "      <td>98.040001</td>\n",
       "    </tr>\n",
       "    <tr>\n",
       "      <th>2022-02-03</th>\n",
       "      <td>164.259995</td>\n",
       "      <td>304.244202</td>\n",
       "      <td>24.520000</td>\n",
       "      <td>20.005699</td>\n",
       "      <td>98.199997</td>\n",
       "    </tr>\n",
       "  </tbody>\n",
       "</table>\n",
       "</div>"
      ],
      "text/plain": [
       "            Procter & Gamble   Microsoft       AT&T       Ford  \\\n",
       "Date                                                             \n",
       "2022-01-28        160.500000  308.260010  25.209999  19.540001   \n",
       "2022-01-31        160.449997  310.980011  25.500000  20.299999   \n",
       "2022-02-01        159.740005  308.760010  24.420000  20.660000   \n",
       "2022-02-02        162.600006  313.459991  24.540001  20.629999   \n",
       "2022-02-03        164.259995  304.244202  24.520000  20.005699   \n",
       "\n",
       "            General Electric  \n",
       "Date                          \n",
       "2022-01-28         92.099998  \n",
       "2022-01-31         94.480003  \n",
       "2022-02-01         97.949997  \n",
       "2022-02-02         98.040001  \n",
       "2022-02-03         98.199997  "
      ]
     },
     "execution_count": 32,
     "metadata": {},
     "output_type": "execute_result"
    }
   ],
   "source": [
    "colunas_a = ['Procter & Gamble', 'Microsoft', 'AT&T', 'Ford', 'General Electric']\n",
    "new_data.columns = colunas_a\n",
    "\n",
    "new_data.tail()"
   ]
  },
  {
   "cell_type": "code",
   "execution_count": null,
   "metadata": {},
   "outputs": [],
   "source": []
  }
 ],
 "metadata": {
  "interpreter": {
   "hash": "4215247fa36a1d0d8f88a09562d416edcb641a6a08b03c2d100e4f4056be5f73"
  },
  "kernelspec": {
   "display_name": "Python 3.9.10 64-bit",
   "language": "python",
   "name": "python3"
  },
  "language_info": {
   "codemirror_mode": {
    "name": "ipython",
    "version": 3
   },
   "file_extension": ".py",
   "mimetype": "text/x-python",
   "name": "python",
   "nbconvert_exporter": "python",
   "pygments_lexer": "ipython3",
   "version": "3.9.10"
  },
  "orig_nbformat": 4
 },
 "nbformat": 4,
 "nbformat_minor": 2
}
