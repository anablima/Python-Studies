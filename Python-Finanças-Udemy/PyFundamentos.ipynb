{
 "cells": [
  {
   "cell_type": "markdown",
   "id": "4e55ef99",
   "metadata": {},
   "source": [
    "# Fundamentos Python"
   ]
  },
  {
   "cell_type": "code",
   "execution_count": 1,
   "id": "e8c930cf",
   "metadata": {},
   "outputs": [
    {
     "data": {
      "text/plain": [
       "5.333333333333333"
      ]
     },
     "execution_count": 1,
     "metadata": {},
     "output_type": "execute_result"
    }
   ],
   "source": [
    "16 / 3"
   ]
  },
  {
   "cell_type": "code",
   "execution_count": 2,
   "id": "a625be86",
   "metadata": {},
   "outputs": [
    {
     "data": {
      "text/plain": [
       "1"
      ]
     },
     "execution_count": 2,
     "metadata": {},
     "output_type": "execute_result"
    }
   ],
   "source": [
    "# Resto da divisão\n",
    "16 % 3"
   ]
  },
  {
   "cell_type": "code",
   "execution_count": 3,
   "id": "f8e34603",
   "metadata": {},
   "outputs": [
    {
     "data": {
      "text/plain": [
       "5"
      ]
     },
     "execution_count": 3,
     "metadata": {},
     "output_type": "execute_result"
    }
   ],
   "source": [
    "16 // 3"
   ]
  },
  {
   "cell_type": "code",
   "execution_count": 4,
   "id": "14419293",
   "metadata": {},
   "outputs": [
    {
     "data": {
      "text/plain": [
       "125"
      ]
     },
     "execution_count": 4,
     "metadata": {},
     "output_type": "execute_result"
    }
   ],
   "source": [
    "# Elevar um número a outro\n",
    "5 ** 3"
   ]
  },
  {
   "cell_type": "markdown",
   "id": "705561de",
   "metadata": {},
   "source": [
    "## Funções :)"
   ]
  },
  {
   "cell_type": "code",
   "execution_count": 5,
   "id": "311b3fd2",
   "metadata": {},
   "outputs": [],
   "source": [
    "# Funções podem ou não conter parâmetros\n",
    "def simple():\n",
    "    print('Minha primeira função')"
   ]
  },
  {
   "cell_type": "code",
   "execution_count": 6,
   "id": "bb73f195",
   "metadata": {},
   "outputs": [
    {
     "name": "stdout",
     "output_type": "stream",
     "text": [
      "Minha primeira função\n"
     ]
    }
   ],
   "source": [
    "# Chamando uma função\n",
    "simple()"
   ]
  },
  {
   "cell_type": "code",
   "execution_count": 7,
   "id": "96059c03",
   "metadata": {},
   "outputs": [],
   "source": [
    "def plus_ten(a):\n",
    "    return a + 10"
   ]
  },
  {
   "cell_type": "code",
   "execution_count": 8,
   "id": "51a91d0e",
   "metadata": {},
   "outputs": [
    {
     "data": {
      "text/plain": [
       "15"
      ]
     },
     "execution_count": 8,
     "metadata": {},
     "output_type": "execute_result"
    }
   ],
   "source": [
    "plus_ten(5)"
   ]
  },
  {
   "cell_type": "code",
   "execution_count": 9,
   "id": "b52a4013",
   "metadata": {},
   "outputs": [],
   "source": [
    "def plus_ten(a):\n",
    "    resultado = a + 10\n",
    "    return resultado"
   ]
  },
  {
   "cell_type": "code",
   "execution_count": 10,
   "id": "df2d1b81",
   "metadata": {},
   "outputs": [
    {
     "data": {
      "text/plain": [
       "12"
      ]
     },
     "execution_count": 10,
     "metadata": {},
     "output_type": "execute_result"
    }
   ],
   "source": [
    "plus_ten(2)"
   ]
  },
  {
   "cell_type": "code",
   "execution_count": 11,
   "id": "0d098a2c",
   "metadata": {},
   "outputs": [],
   "source": [
    "# Usando uma função em outra função\n",
    "def wage(w_hours):\n",
    "    return w_hours * 25\n",
    "\n",
    "def com_bonus(w_hours):\n",
    "    return wage(w_hours) + 50"
   ]
  },
  {
   "cell_type": "code",
   "execution_count": 12,
   "id": "a60e5ec1",
   "metadata": {},
   "outputs": [
    {
     "data": {
      "text/plain": [
       "(200, 250)"
      ]
     },
     "execution_count": 12,
     "metadata": {},
     "output_type": "execute_result"
    }
   ],
   "source": [
    "wage(8), com_bonus(8)"
   ]
  },
  {
   "cell_type": "code",
   "execution_count": 15,
   "id": "edbfe558",
   "metadata": {},
   "outputs": [],
   "source": [
    "# Combinando condicionais e funções\n",
    "\n",
    "# A função abaixo acrescenta $ 10 caso economize +100\n",
    "def add_10(m):\n",
    "    if m >= 100:\n",
    "        m = m + 10\n",
    "        return m\n",
    "    else:\n",
    "        return 'Poupe mais meu filho!'"
   ]
  },
  {
   "cell_type": "code",
   "execution_count": 16,
   "id": "78ee9e0c",
   "metadata": {},
   "outputs": [
    {
     "data": {
      "text/plain": [
       "'Poupe mais meu filho!'"
      ]
     },
     "execution_count": 16,
     "metadata": {},
     "output_type": "execute_result"
    }
   ],
   "source": [
    "add_10(50)"
   ]
  },
  {
   "cell_type": "code",
   "execution_count": 20,
   "id": "0c932dfb",
   "metadata": {},
   "outputs": [],
   "source": [
    "# Trabalhando com mais de um parâmetro em uma função\n",
    "def sub_bc(a,b,c):\n",
    "    resultado = a - b*c\n",
    "    print('Param a igual: {a}\\nParam b igual: {b} '\n",
    "            '\\nParam c igual: {c}'.format(a=a, b=b, c=c))\n",
    "    return resultado"
   ]
  },
  {
   "cell_type": "code",
   "execution_count": 21,
   "id": "91979332",
   "metadata": {},
   "outputs": [
    {
     "name": "stdout",
     "output_type": "stream",
     "text": [
      "Param a igual: 10\n",
      "Param b igual: 3 \n",
      "Param c igual: 2\n"
     ]
    },
    {
     "data": {
      "text/plain": [
       "4"
      ]
     },
     "execution_count": 21,
     "metadata": {},
     "output_type": "execute_result"
    }
   ],
   "source": [
    "sub_bc(10,3,2)"
   ]
  },
  {
   "cell_type": "code",
   "execution_count": 22,
   "id": "d48a1818",
   "metadata": {},
   "outputs": [
    {
     "name": "stdout",
     "output_type": "stream",
     "text": [
      "Param a igual: 10\n",
      "Param b igual: 3 \n",
      "Param c igual: 2\n"
     ]
    },
    {
     "data": {
      "text/plain": [
       "4"
      ]
     },
     "execution_count": 22,
     "metadata": {},
     "output_type": "execute_result"
    }
   ],
   "source": [
    "# Podemos declarar o nome dos parâmetros\n",
    "sub_bc(a=10,b=3,c=2)"
   ]
  },
  {
   "cell_type": "markdown",
   "id": "285dc50a",
   "metadata": {},
   "source": [
    "# Listas"
   ]
  },
  {
   "cell_type": "code",
   "execution_count": 32,
   "id": "34e34730",
   "metadata": {},
   "outputs": [
    {
     "data": {
      "text/plain": [
       "['Ana', 'Beatriz', 'Johnny', 'Maria']"
      ]
     },
     "execution_count": 32,
     "metadata": {},
     "output_type": "execute_result"
    }
   ],
   "source": [
    "Participantes = ['Ana', 'Beatriz', 'Johnny', 'Maria']\n",
    "Participantes"
   ]
  },
  {
   "cell_type": "code",
   "execution_count": 33,
   "id": "ef6d39ab",
   "metadata": {},
   "outputs": [
    {
     "name": "stdout",
     "output_type": "stream",
     "text": [
      "Johnny\n"
     ]
    }
   ],
   "source": [
    "# Lembrando que no Python começa a contar do 0\n",
    "print(Participantes[2])"
   ]
  },
  {
   "cell_type": "code",
   "execution_count": 34,
   "id": "293d44f5",
   "metadata": {},
   "outputs": [
    {
     "data": {
      "text/plain": [
       "'Johnny'"
      ]
     },
     "execution_count": 34,
     "metadata": {},
     "output_type": "execute_result"
    }
   ],
   "source": [
    "# Posições do fim para o começo\n",
    "Participantes[-2]"
   ]
  },
  {
   "cell_type": "code",
   "execution_count": 35,
   "id": "76c3b4fe",
   "metadata": {},
   "outputs": [
    {
     "data": {
      "text/plain": [
       "['Ana', 'Beatriz', 'Maria']"
      ]
     },
     "execution_count": 35,
     "metadata": {},
     "output_type": "execute_result"
    }
   ],
   "source": [
    "del Participantes[2]\n",
    "Participantes"
   ]
  },
  {
   "cell_type": "code",
   "execution_count": 36,
   "id": "243c00b5",
   "metadata": {},
   "outputs": [
    {
     "data": {
      "text/plain": [
       "'Beatriz'"
      ]
     },
     "execution_count": 36,
     "metadata": {},
     "output_type": "execute_result"
    }
   ],
   "source": [
    "Participantes[-2]"
   ]
  },
  {
   "cell_type": "code",
   "execution_count": 37,
   "id": "3678cb2d",
   "metadata": {},
   "outputs": [
    {
     "data": {
      "text/plain": [
       "['Ana', 'Beatriz', 'Maria', 'Luke']"
      ]
     },
     "execution_count": 37,
     "metadata": {},
     "output_type": "execute_result"
    }
   ],
   "source": [
    "# Para adicionar 1 dado a lista\n",
    "Participantes.append('Luke')\n",
    "Participantes"
   ]
  },
  {
   "cell_type": "code",
   "execution_count": 38,
   "id": "74ec9e47",
   "metadata": {},
   "outputs": [
    {
     "data": {
      "text/plain": [
       "['Ana', 'Beatriz', 'Maria', 'Luke', 'Marco', 'Larissa']"
      ]
     },
     "execution_count": 38,
     "metadata": {},
     "output_type": "execute_result"
    }
   ],
   "source": [
    "# Para adicionar um lista dentro da lista\n",
    "Participantes.extend(['Marco','Larissa'])\n",
    "Participantes"
   ]
  },
  {
   "cell_type": "code",
   "execution_count": 39,
   "id": "dc1234d5",
   "metadata": {},
   "outputs": [
    {
     "data": {
      "text/plain": [
       "6"
      ]
     },
     "execution_count": 39,
     "metadata": {},
     "output_type": "execute_result"
    }
   ],
   "source": [
    "len(Participantes)"
   ]
  },
  {
   "cell_type": "code",
   "execution_count": null,
   "id": "ab4e1bf5",
   "metadata": {},
   "outputs": [],
   "source": []
  }
 ],
 "metadata": {
  "kernelspec": {
   "display_name": "Python 3 (ipykernel)",
   "language": "python",
   "name": "python3"
  },
  "language_info": {
   "codemirror_mode": {
    "name": "ipython",
    "version": 3
   },
   "file_extension": ".py",
   "mimetype": "text/x-python",
   "name": "python",
   "nbconvert_exporter": "python",
   "pygments_lexer": "ipython3",
   "version": "3.9.10"
  },
  "widgets": {
   "application/vnd.jupyter.widget-state+json": {
    "state": {},
    "version_major": 2,
    "version_minor": 0
   }
  }
 },
 "nbformat": 4,
 "nbformat_minor": 5
}
