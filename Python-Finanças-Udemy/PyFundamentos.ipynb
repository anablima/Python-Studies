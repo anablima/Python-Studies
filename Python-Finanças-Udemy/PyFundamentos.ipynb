{
 "cells": [
  {
   "cell_type": "markdown",
   "id": "4e55ef99",
   "metadata": {},
   "source": [
    "# Fundamentos Python"
   ]
  },
  {
   "cell_type": "code",
   "execution_count": 1,
   "id": "e8c930cf",
   "metadata": {},
   "outputs": [
    {
     "data": {
      "text/plain": [
       "5.333333333333333"
      ]
     },
     "execution_count": 1,
     "metadata": {},
     "output_type": "execute_result"
    }
   ],
   "source": [
    "16 / 3"
   ]
  },
  {
   "cell_type": "code",
   "execution_count": 2,
   "id": "a625be86",
   "metadata": {},
   "outputs": [
    {
     "data": {
      "text/plain": [
       "1"
      ]
     },
     "execution_count": 2,
     "metadata": {},
     "output_type": "execute_result"
    }
   ],
   "source": [
    "# Resto da divisão\n",
    "16 % 3"
   ]
  },
  {
   "cell_type": "code",
   "execution_count": 3,
   "id": "f8e34603",
   "metadata": {},
   "outputs": [
    {
     "data": {
      "text/plain": [
       "5"
      ]
     },
     "execution_count": 3,
     "metadata": {},
     "output_type": "execute_result"
    }
   ],
   "source": [
    "16 // 3"
   ]
  },
  {
   "cell_type": "code",
   "execution_count": 4,
   "id": "14419293",
   "metadata": {},
   "outputs": [
    {
     "data": {
      "text/plain": [
       "125"
      ]
     },
     "execution_count": 4,
     "metadata": {},
     "output_type": "execute_result"
    }
   ],
   "source": [
    "# Elevar um número a outro\n",
    "5 ** 3"
   ]
  },
  {
   "cell_type": "markdown",
   "id": "705561de",
   "metadata": {},
   "source": [
    "## Funções :)"
   ]
  },
  {
   "cell_type": "code",
   "execution_count": 5,
   "id": "311b3fd2",
   "metadata": {},
   "outputs": [],
   "source": [
    "# Funções podem ou não conter parâmetros\n",
    "def simple():\n",
    "    print('Minha primeira função')"
   ]
  },
  {
   "cell_type": "code",
   "execution_count": 6,
   "id": "bb73f195",
   "metadata": {},
   "outputs": [
    {
     "name": "stdout",
     "output_type": "stream",
     "text": [
      "Minha primeira função\n"
     ]
    }
   ],
   "source": [
    "# Chamando uma função\n",
    "simple()"
   ]
  },
  {
   "cell_type": "code",
   "execution_count": 7,
   "id": "96059c03",
   "metadata": {},
   "outputs": [],
   "source": [
    "def plus_ten(a):\n",
    "    return a + 10"
   ]
  },
  {
   "cell_type": "code",
   "execution_count": 8,
   "id": "51a91d0e",
   "metadata": {},
   "outputs": [
    {
     "data": {
      "text/plain": [
       "15"
      ]
     },
     "execution_count": 8,
     "metadata": {},
     "output_type": "execute_result"
    }
   ],
   "source": [
    "plus_ten(5)"
   ]
  },
  {
   "cell_type": "code",
   "execution_count": 9,
   "id": "b52a4013",
   "metadata": {},
   "outputs": [],
   "source": [
    "def plus_ten(a):\n",
    "    resultado = a + 10\n",
    "    return resultado"
   ]
  },
  {
   "cell_type": "code",
   "execution_count": 10,
   "id": "df2d1b81",
   "metadata": {},
   "outputs": [
    {
     "data": {
      "text/plain": [
       "12"
      ]
     },
     "execution_count": 10,
     "metadata": {},
     "output_type": "execute_result"
    }
   ],
   "source": [
    "plus_ten(2)"
   ]
  },
  {
   "cell_type": "code",
   "execution_count": 11,
   "id": "0d098a2c",
   "metadata": {},
   "outputs": [],
   "source": [
    "# Usando uma função em outra função\n",
    "def wage(w_hours):\n",
    "    return w_hours * 25\n",
    "\n",
    "def com_bonus(w_hours):\n",
    "    return wage(w_hours) + 50"
   ]
  },
  {
   "cell_type": "code",
   "execution_count": 12,
   "id": "a60e5ec1",
   "metadata": {},
   "outputs": [
    {
     "data": {
      "text/plain": [
       "(200, 250)"
      ]
     },
     "execution_count": 12,
     "metadata": {},
     "output_type": "execute_result"
    }
   ],
   "source": [
    "wage(8), com_bonus(8)"
   ]
  },
  {
   "cell_type": "code",
   "execution_count": 13,
   "id": "edbfe558",
   "metadata": {},
   "outputs": [],
   "source": [
    "# Combinando condicionais e funções\n",
    "\n",
    "# A função abaixo acrescenta $ 10 caso economize +100\n",
    "def add_10(m):\n",
    "    if m >= 100:\n",
    "        m = m + 10\n",
    "        return m\n",
    "    else:\n",
    "        return 'Poupe mais meu filho!'"
   ]
  },
  {
   "cell_type": "code",
   "execution_count": 14,
   "id": "78ee9e0c",
   "metadata": {},
   "outputs": [
    {
     "data": {
      "text/plain": [
       "'Poupe mais meu filho!'"
      ]
     },
     "execution_count": 14,
     "metadata": {},
     "output_type": "execute_result"
    }
   ],
   "source": [
    "add_10(50)"
   ]
  },
  {
   "cell_type": "code",
   "execution_count": 15,
   "id": "0c932dfb",
   "metadata": {},
   "outputs": [],
   "source": [
    "# Trabalhando com mais de um parâmetro em uma função\n",
    "def sub_bc(a,b,c):\n",
    "    resultado = a - b*c\n",
    "    print('Param a igual: {a}\\nParam b igual: {b} '\n",
    "            '\\nParam c igual: {c}'.format(a=a, b=b, c=c))\n",
    "    return resultado"
   ]
  },
  {
   "cell_type": "code",
   "execution_count": 16,
   "id": "91979332",
   "metadata": {},
   "outputs": [
    {
     "name": "stdout",
     "output_type": "stream",
     "text": [
      "Param a igual: 10\n",
      "Param b igual: 3 \n",
      "Param c igual: 2\n"
     ]
    },
    {
     "data": {
      "text/plain": [
       "4"
      ]
     },
     "execution_count": 16,
     "metadata": {},
     "output_type": "execute_result"
    }
   ],
   "source": [
    "sub_bc(10,3,2)"
   ]
  },
  {
   "cell_type": "code",
   "execution_count": 17,
   "id": "d48a1818",
   "metadata": {},
   "outputs": [
    {
     "name": "stdout",
     "output_type": "stream",
     "text": [
      "Param a igual: 10\n",
      "Param b igual: 3 \n",
      "Param c igual: 2\n"
     ]
    },
    {
     "data": {
      "text/plain": [
       "4"
      ]
     },
     "execution_count": 17,
     "metadata": {},
     "output_type": "execute_result"
    }
   ],
   "source": [
    "# Podemos declarar o nome dos parâmetros\n",
    "sub_bc(a=10,b=3,c=2)"
   ]
  },
  {
   "cell_type": "markdown",
   "id": "285dc50a",
   "metadata": {},
   "source": [
    "# Listas"
   ]
  },
  {
   "cell_type": "code",
   "execution_count": 18,
   "id": "34e34730",
   "metadata": {},
   "outputs": [
    {
     "data": {
      "text/plain": [
       "['Ana', 'Beatriz', 'Johnny', 'Maria']"
      ]
     },
     "execution_count": 18,
     "metadata": {},
     "output_type": "execute_result"
    }
   ],
   "source": [
    "Participantes = ['Ana', 'Beatriz', 'Johnny', 'Maria']\n",
    "Participantes"
   ]
  },
  {
   "cell_type": "code",
   "execution_count": 19,
   "id": "ef6d39ab",
   "metadata": {},
   "outputs": [
    {
     "name": "stdout",
     "output_type": "stream",
     "text": [
      "Johnny\n"
     ]
    }
   ],
   "source": [
    "# Lembrando que no Python começa a contar do 0\n",
    "print(Participantes[2])"
   ]
  },
  {
   "cell_type": "code",
   "execution_count": 20,
   "id": "293d44f5",
   "metadata": {},
   "outputs": [
    {
     "data": {
      "text/plain": [
       "'Johnny'"
      ]
     },
     "execution_count": 20,
     "metadata": {},
     "output_type": "execute_result"
    }
   ],
   "source": [
    "# Posições do fim para o começo\n",
    "Participantes[-2]"
   ]
  },
  {
   "cell_type": "code",
   "execution_count": 21,
   "id": "76c3b4fe",
   "metadata": {},
   "outputs": [
    {
     "data": {
      "text/plain": [
       "['Ana', 'Beatriz', 'Maria']"
      ]
     },
     "execution_count": 21,
     "metadata": {},
     "output_type": "execute_result"
    }
   ],
   "source": [
    "del Participantes[2]\n",
    "Participantes"
   ]
  },
  {
   "cell_type": "code",
   "execution_count": 22,
   "id": "243c00b5",
   "metadata": {},
   "outputs": [
    {
     "data": {
      "text/plain": [
       "'Beatriz'"
      ]
     },
     "execution_count": 22,
     "metadata": {},
     "output_type": "execute_result"
    }
   ],
   "source": [
    "Participantes[-2]"
   ]
  },
  {
   "cell_type": "code",
   "execution_count": 23,
   "id": "3678cb2d",
   "metadata": {},
   "outputs": [
    {
     "data": {
      "text/plain": [
       "['Ana', 'Beatriz', 'Maria', 'Luke']"
      ]
     },
     "execution_count": 23,
     "metadata": {},
     "output_type": "execute_result"
    }
   ],
   "source": [
    "# Para adicionar 1 dado a lista\n",
    "Participantes.append('Luke')\n",
    "Participantes"
   ]
  },
  {
   "cell_type": "code",
   "execution_count": 24,
   "id": "74ec9e47",
   "metadata": {},
   "outputs": [
    {
     "data": {
      "text/plain": [
       "['Ana', 'Beatriz', 'Maria', 'Luke', 'Marco', 'Larissa']"
      ]
     },
     "execution_count": 24,
     "metadata": {},
     "output_type": "execute_result"
    }
   ],
   "source": [
    "# Para adicionar um lista dentro da lista\n",
    "Participantes.extend(['Marco','Larissa'])\n",
    "Participantes"
   ]
  },
  {
   "cell_type": "code",
   "execution_count": 25,
   "id": "dc1234d5",
   "metadata": {},
   "outputs": [
    {
     "data": {
      "text/plain": [
       "6"
      ]
     },
     "execution_count": 25,
     "metadata": {},
     "output_type": "execute_result"
    }
   ],
   "source": [
    "# Contando os elementos da lista\n",
    "# O len() pode ser usado para contar qtd de caracteres também\n",
    "len(Participantes)"
   ]
  },
  {
   "cell_type": "markdown",
   "id": "91baa9bc",
   "metadata": {},
   "source": [
    "# Dicionários"
   ]
  },
  {
   "cell_type": "code",
   "execution_count": 26,
   "id": "e3b97364",
   "metadata": {},
   "outputs": [],
   "source": [
    "time = {}\n",
    "time['PG'] = 'Dirk'\n",
    "time['SG'] = 'Al'\n",
    "time['SF'] = 'Sean'\n",
    "time['PF'] = 'Alex'\n",
    "time['Center'] = 'Heitor'"
   ]
  },
  {
   "cell_type": "code",
   "execution_count": 27,
   "id": "a3827c03",
   "metadata": {},
   "outputs": [
    {
     "name": "stdout",
     "output_type": "stream",
     "text": [
      "{'PG': 'Dirk', 'SG': 'Al', 'SF': 'Sean', 'PF': 'Alex', 'Center': 'Heitor'}\n"
     ]
    }
   ],
   "source": [
    "print(time)"
   ]
  },
  {
   "cell_type": "code",
   "execution_count": 28,
   "id": "5a72361c",
   "metadata": {},
   "outputs": [
    {
     "name": "stdout",
     "output_type": "stream",
     "text": [
      "Heitor\n"
     ]
    }
   ],
   "source": [
    "print(time['Center'])"
   ]
  },
  {
   "cell_type": "code",
   "execution_count": 29,
   "id": "3c3cf83e",
   "metadata": {},
   "outputs": [
    {
     "name": "stdout",
     "output_type": "stream",
     "text": [
      "Sean\n"
     ]
    }
   ],
   "source": [
    "print(time.get('SF'))"
   ]
  },
  {
   "cell_type": "markdown",
   "id": "8ddf6b46",
   "metadata": {},
   "source": [
    "# Loops"
   ]
  },
  {
   "cell_type": "code",
   "execution_count": 30,
   "id": "57b73598",
   "metadata": {},
   "outputs": [],
   "source": [
    "even = [0,2,4,6,8,10,12,14,16,18,20]"
   ]
  },
  {
   "cell_type": "code",
   "execution_count": 44,
   "id": "245b91f8",
   "metadata": {},
   "outputs": [
    {
     "name": "stdout",
     "output_type": "stream",
     "text": [
      "0\n",
      "2\n",
      "4\n",
      "6\n",
      "8\n",
      "10\n",
      "12\n",
      "14\n",
      "16\n",
      "18\n",
      "20\n"
     ]
    }
   ],
   "source": [
    "for n in even:\n",
    "    print(n)"
   ]
  },
  {
   "cell_type": "code",
   "execution_count": 46,
   "id": "1aa0ba1d",
   "metadata": {},
   "outputs": [
    {
     "name": "stdout",
     "output_type": "stream",
     "text": [
      "0\n",
      "2\n",
      "4\n",
      "6\n",
      "8\n",
      "10\n",
      "12\n",
      "14\n",
      "16\n",
      "18\n",
      "20\n"
     ]
    }
   ],
   "source": [
    "x = 0\n",
    "while x <= 20:\n",
    "    print(x)\n",
    "    x += 2"
   ]
  },
  {
   "cell_type": "code",
   "execution_count": 51,
   "id": "a4fc14ed",
   "metadata": {},
   "outputs": [
    {
     "name": "stdout",
     "output_type": "stream",
     "text": [
      "0\n",
      "1\n",
      "2\n",
      "3\n",
      "4\n",
      "5\n",
      "6\n",
      "7\n",
      "8\n",
      "9\n"
     ]
    }
   ],
   "source": [
    "for i in range(10):\n",
    "    print(i)"
   ]
  },
  {
   "cell_type": "code",
   "execution_count": 54,
   "id": "ed69dbb6",
   "metadata": {},
   "outputs": [
    {
     "name": "stdout",
     "output_type": "stream",
     "text": [
      "0\n",
      "Impar\n",
      "2\n",
      "Impar\n",
      "4\n",
      "Impar\n",
      "6\n",
      "Impar\n",
      "8\n",
      "Impar\n",
      "10\n",
      "Impar\n",
      "12\n",
      "Impar\n",
      "14\n",
      "Impar\n",
      "16\n",
      "Impar\n",
      "18\n",
      "Impar\n"
     ]
    }
   ],
   "source": [
    "for x in range(20):\n",
    "    if x % 2 == 0:\n",
    "        print(x)\n",
    "    else:\n",
    "        print('Impar')"
   ]
  },
  {
   "cell_type": "code",
   "execution_count": 55,
   "id": "84be1bfb",
   "metadata": {},
   "outputs": [],
   "source": [
    "# mostra a qtd de valores menores q 20\n",
    "def count(num):\n",
    "    t = 0\n",
    "    for x in num:\n",
    "        if x < 20:\n",
    "            t += 1\n",
    "    return t"
   ]
  },
  {
   "cell_type": "code",
   "execution_count": 56,
   "id": "5181d842",
   "metadata": {},
   "outputs": [],
   "source": [
    "list_1 = [1,2,4,6,25,64,78,85]"
   ]
  },
  {
   "cell_type": "code",
   "execution_count": 57,
   "id": "08de4cc4",
   "metadata": {},
   "outputs": [
    {
     "data": {
      "text/plain": [
       "4"
      ]
     },
     "execution_count": 57,
     "metadata": {},
     "output_type": "execute_result"
    }
   ],
   "source": [
    "count(list_1)"
   ]
  },
  {
   "cell_type": "code",
   "execution_count": 64,
   "id": "82385f9c",
   "metadata": {},
   "outputs": [
    {
     "name": "stdout",
     "output_type": "stream",
     "text": [
      "44\n"
     ]
    }
   ],
   "source": [
    "# Iterando usando dict\n",
    "preco = {\n",
    "    'macarrão':4,\n",
    "    'tomate':2,\n",
    "    'bife':10\n",
    "}\n",
    "\n",
    "qtd = {\n",
    "    'macarrão':6,\n",
    "    'tomate':10,\n",
    "    'bife':0\n",
    "}\n",
    "\n",
    "money_spent = 0\n",
    "\n",
    "for i in preco:\n",
    "    money_spent = money_spent + (preco[i]*qtd[i])\n",
    "    \n",
    "print(money_spent)"
   ]
  },
  {
   "cell_type": "code",
   "execution_count": 4,
   "id": "7e2c0e53",
   "metadata": {},
   "outputs": [],
   "source": [
    "# Importando somente o módulo que utilizaremos de uma biblioteca\n",
    "from math import sqrt as s"
   ]
  },
  {
   "cell_type": "code",
   "execution_count": 6,
   "id": "5f33c059",
   "metadata": {},
   "outputs": [
    {
     "name": "stdout",
     "output_type": "stream",
     "text": [
      "Help on built-in function sqrt in module math:\n",
      "\n",
      "sqrt(x, /)\n",
      "    Return the square root of x.\n",
      "\n"
     ]
    }
   ],
   "source": [
    "# Para abrir mais informações de uma biblioteca\n",
    "help(s)"
   ]
  },
  {
   "cell_type": "code",
   "execution_count": null,
   "id": "87555908",
   "metadata": {},
   "outputs": [],
   "source": []
  }
 ],
 "metadata": {
  "kernelspec": {
   "display_name": "Python 3 (ipykernel)",
   "language": "python",
   "name": "python3"
  },
  "language_info": {
   "codemirror_mode": {
    "name": "ipython",
    "version": 3
   },
   "file_extension": ".py",
   "mimetype": "text/x-python",
   "name": "python",
   "nbconvert_exporter": "python",
   "pygments_lexer": "ipython3",
   "version": "3.9.10"
  },
  "widgets": {
   "application/vnd.jupyter.widget-state+json": {
    "state": {},
    "version_major": 2,
    "version_minor": 0
   }
  }
 },
 "nbformat": 4,
 "nbformat_minor": 5
}
