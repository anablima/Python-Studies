{
 "cells": [
  {
   "cell_type": "code",
   "execution_count": null,
   "metadata": {},
   "outputs": [],
   "source": [
    "import numpy as np\n",
    "from pandas_datareader import data as wb\n",
    "import datetime as dt\n",
    "import matplotlib.pyplot as plt"
   ]
  },
  {
   "cell_type": "code",
   "execution_count": null,
   "metadata": {},
   "outputs": [],
   "source": [
    "# Nome das ações\n",
    "#acoes = ['MGLU3.SA','ABEV3.SA','CIEL3.SA']\n",
    "\n",
    "# Criamos o DataFrame vazio\n",
    "#new_data = pd.DataFrame()\n",
    "\n",
    "# Preenchemos o DataFrame com os dados das ações\n",
    "#for a in acoes:\n",
    "    #new_data[a] = wb.DataReader(a, data_source='yahoo', start=inicio)['Adj Close']"
   ]
  },
  {
   "cell_type": "code",
   "execution_count": null,
   "metadata": {},
   "outputs": [],
   "source": [
    "#MGLU3.SA\n",
    "#ABEV3.SA\n",
    "#CIEL3.SA\n",
    "\n",
    "# Datas\n",
    "inicio = dt.date(2019,1,10)\n",
    "fim = dt.date(2022,2,2)"
   ]
  },
  {
   "cell_type": "code",
   "execution_count": null,
   "metadata": {},
   "outputs": [],
   "source": [
    "#MGLU3 = wb.DataReader('MGLU3.SA', data_source='yahoo', start=inicio)\n",
    "ABEV3 = wb.DataReader('ABEV3.SA', data_source='yahoo', start=inicio)\n",
    "#CIEL3 = wb.DataReader('CIEL3.SA', data_source='yahoo', start=inicio)"
   ]
  },
  {
   "cell_type": "code",
   "execution_count": null,
   "metadata": {},
   "outputs": [],
   "source": [
    "ABEV3.tail()"
   ]
  },
  {
   "cell_type": "markdown",
   "metadata": {},
   "source": [
    "## Calculando o retorno simples de ações"
   ]
  },
  {
   "cell_type": "markdown",
   "metadata": {},
   "source": [
    "$$\n",
    "\\frac{P_1 - P_0}{P_0} = \\frac{P_1}{P_0} - 1\n",
    "$$"
   ]
  },
  {
   "cell_type": "code",
   "execution_count": null,
   "metadata": {},
   "outputs": [],
   "source": [
    "ABEV3['simple_return'] = (ABEV3['Adj Close'] / ABEV3['Adj Close'].shift(1)) - 1"
   ]
  },
  {
   "cell_type": "code",
   "execution_count": null,
   "metadata": {},
   "outputs": [],
   "source": [
    "ABEV3['simple_return']"
   ]
  },
  {
   "cell_type": "code",
   "execution_count": null,
   "metadata": {},
   "outputs": [],
   "source": [
    "# Retornos diários da ação\n",
    "ABEV3['simple_return'].plot(figsize=(12,10))"
   ]
  },
  {
   "cell_type": "code",
   "execution_count": null,
   "metadata": {},
   "outputs": [],
   "source": [
    "avg_returns_d = ABEV3['simple_return'].mean()\n",
    "avg_returns_d"
   ]
  },
  {
   "cell_type": "code",
   "execution_count": null,
   "metadata": {},
   "outputs": [],
   "source": [
    "# Retorno em 250 dias úteis\n",
    "avg_returns_a = ABEV3['simple_return'].mean() * 250\n",
    "avg_returns_a"
   ]
  },
  {
   "cell_type": "code",
   "execution_count": null,
   "metadata": {},
   "outputs": [],
   "source": [
    "print('O retorno anual da ação '\n",
    "      'ABEV3 nos últimos 2 anos foi de: {}%'.format(str(round(avg_returns_a, 5) * 100)))"
   ]
  },
  {
   "cell_type": "code",
   "execution_count": null,
   "metadata": {},
   "outputs": [],
   "source": []
  }
 ],
 "metadata": {
  "interpreter": {
   "hash": "4215247fa36a1d0d8f88a09562d416edcb641a6a08b03c2d100e4f4056be5f73"
  },
  "kernelspec": {
   "display_name": "Python 3.9.10 64-bit",
   "language": "python",
   "name": "python3"
  },
  "language_info": {
   "codemirror_mode": {
    "name": "ipython",
    "version": 3
   },
   "file_extension": ".py",
   "mimetype": "text/x-python",
   "name": "python",
   "nbconvert_exporter": "python",
   "pygments_lexer": "ipython3",
   "version": "3.9.10"
  },
  "orig_nbformat": 4
 },
 "nbformat": 4,
 "nbformat_minor": 2
}
