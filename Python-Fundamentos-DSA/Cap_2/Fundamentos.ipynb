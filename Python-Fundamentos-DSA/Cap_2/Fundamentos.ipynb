{
 "cells": [
  {
   "cell_type": "markdown",
   "id": "dbd3d66a-36c5-4a5d-8304-78b0464d3da3",
   "metadata": {
    "tags": []
   },
   "source": [
    "# Python Fundamentos"
   ]
  },
  {
   "cell_type": "markdown",
   "id": "5843213c-d7e4-46dc-bc7b-77d130894bb1",
   "metadata": {
    "jp-MarkdownHeadingCollapsed": true,
    "tags": []
   },
   "source": [
    "## Números e Operadores Matemáticos"
   ]
  },
  {
   "cell_type": "code",
   "execution_count": 2,
   "id": "6807f6e0-c03f-4eaa-ba9c-f8175bcd22b4",
   "metadata": {},
   "outputs": [
    {
     "data": {
      "text/plain": [
       "15"
      ]
     },
     "execution_count": 2,
     "metadata": {},
     "output_type": "execute_result"
    }
   ],
   "source": [
    "# Soma\n",
    "4 + 11"
   ]
  },
  {
   "cell_type": "code",
   "execution_count": 3,
   "id": "9a62b7fe-6e73-4908-8027-131a2a88c90f",
   "metadata": {},
   "outputs": [
    {
     "data": {
      "text/plain": [
       "7"
      ]
     },
     "execution_count": 3,
     "metadata": {},
     "output_type": "execute_result"
    }
   ],
   "source": [
    "# Subtração\n",
    "22 - 15"
   ]
  },
  {
   "cell_type": "code",
   "execution_count": 4,
   "id": "e11952c1-8623-4e66-8f7b-e7e208c10de6",
   "metadata": {},
   "outputs": [
    {
     "data": {
      "text/plain": [
       "12"
      ]
     },
     "execution_count": 4,
     "metadata": {},
     "output_type": "execute_result"
    }
   ],
   "source": [
    "# Multiplicação\n",
    "6 * 2"
   ]
  },
  {
   "cell_type": "code",
   "execution_count": 5,
   "id": "51ec44ba-144f-4b1f-97dc-08c26bbf4323",
   "metadata": {},
   "outputs": [
    {
     "data": {
      "text/plain": [
       "2.0"
      ]
     },
     "execution_count": 5,
     "metadata": {},
     "output_type": "execute_result"
    }
   ],
   "source": [
    "# Divisão\n",
    "6 / 3"
   ]
  },
  {
   "cell_type": "code",
   "execution_count": 6,
   "id": "d57fe2d3-9301-4aeb-9cc2-ff1178a95026",
   "metadata": {},
   "outputs": [
    {
     "data": {
      "text/plain": [
       "16"
      ]
     },
     "execution_count": 6,
     "metadata": {},
     "output_type": "execute_result"
    }
   ],
   "source": [
    "# Potência usando notação matemática\n",
    "4 ** 2"
   ]
  },
  {
   "cell_type": "code",
   "execution_count": 7,
   "id": "d993d47b-e128-45f6-a77a-53845e0501af",
   "metadata": {},
   "outputs": [
    {
     "data": {
      "text/plain": [
       "1"
      ]
     },
     "execution_count": 7,
     "metadata": {},
     "output_type": "execute_result"
    }
   ],
   "source": [
    "# Módulo\n",
    "10 % 3"
   ]
  },
  {
   "cell_type": "markdown",
   "id": "78975534-94cb-4ac1-b386-59c3e79b1690",
   "metadata": {
    "jp-MarkdownHeadingCollapsed": true,
    "tags": []
   },
   "source": [
    "## Função type()"
   ]
  },
  {
   "cell_type": "code",
   "execution_count": 8,
   "id": "1bddd42b-1260-4c2a-aefe-f6aa86831020",
   "metadata": {},
   "outputs": [
    {
     "data": {
      "text/plain": [
       "int"
      ]
     },
     "execution_count": 8,
     "metadata": {},
     "output_type": "execute_result"
    }
   ],
   "source": [
    "type(5)"
   ]
  },
  {
   "cell_type": "code",
   "execution_count": 9,
   "id": "5f7b3441-2a50-4c0b-90cb-331b5f86c11f",
   "metadata": {},
   "outputs": [
    {
     "data": {
      "text/plain": [
       "float"
      ]
     },
     "execution_count": 9,
     "metadata": {},
     "output_type": "execute_result"
    }
   ],
   "source": [
    "type(5.0)"
   ]
  },
  {
   "cell_type": "code",
   "execution_count": 11,
   "id": "8c378b6d-530e-4df0-b04d-6c1e76e66e90",
   "metadata": {},
   "outputs": [
    {
     "data": {
      "text/plain": [
       "str"
      ]
     },
     "execution_count": 11,
     "metadata": {},
     "output_type": "execute_result"
    }
   ],
   "source": [
    "x = 'Hello Python!'\n",
    "type(x)"
   ]
  },
  {
   "cell_type": "markdown",
   "id": "83ead159-747e-4ab2-b759-accdfd06ce1d",
   "metadata": {
    "jp-MarkdownHeadingCollapsed": true,
    "tags": []
   },
   "source": [
    "## Operações com números float"
   ]
  },
  {
   "cell_type": "code",
   "execution_count": 12,
   "id": "e0891a24-7285-47c8-a080-b5c3ce3abc54",
   "metadata": {},
   "outputs": [
    {
     "data": {
      "text/plain": [
       "9.5"
      ]
     },
     "execution_count": 12,
     "metadata": {},
     "output_type": "execute_result"
    }
   ],
   "source": [
    "3.1 + 6.4"
   ]
  },
  {
   "cell_type": "code",
   "execution_count": 13,
   "id": "4873f524-933b-476f-aac4-136b18e84aeb",
   "metadata": {},
   "outputs": [
    {
     "data": {
      "text/plain": [
       "8.0"
      ]
     },
     "execution_count": 13,
     "metadata": {},
     "output_type": "execute_result"
    }
   ],
   "source": [
    "4 + 4.0"
   ]
  },
  {
   "cell_type": "code",
   "execution_count": 14,
   "id": "3d76344e-c205-41c4-930b-ebf449d6a1b3",
   "metadata": {},
   "outputs": [
    {
     "data": {
      "text/plain": [
       "8"
      ]
     },
     "execution_count": 14,
     "metadata": {},
     "output_type": "execute_result"
    }
   ],
   "source": [
    "4 + 4"
   ]
  },
  {
   "cell_type": "code",
   "execution_count": 16,
   "id": "7a9eb402-bd20-46d4-a8e5-ff8f5aaece24",
   "metadata": {},
   "outputs": [
    {
     "data": {
      "text/plain": [
       "2.0"
      ]
     },
     "execution_count": 16,
     "metadata": {},
     "output_type": "execute_result"
    }
   ],
   "source": [
    "# Resultado é um número float\n",
    "4 / 2"
   ]
  },
  {
   "cell_type": "code",
   "execution_count": 17,
   "id": "c78eb616-d7c8-4f3e-9cbe-3b853aa88609",
   "metadata": {},
   "outputs": [
    {
     "data": {
      "text/plain": [
       "2"
      ]
     },
     "execution_count": 17,
     "metadata": {},
     "output_type": "execute_result"
    }
   ],
   "source": [
    "# Resultado é um número inteiro\n",
    "4 // 2"
   ]
  },
  {
   "cell_type": "code",
   "execution_count": 18,
   "id": "3432b830-bf0f-4727-bb0d-7c00ca51b088",
   "metadata": {},
   "outputs": [
    {
     "data": {
      "text/plain": [
       "1.3333333333333333"
      ]
     },
     "execution_count": 18,
     "metadata": {},
     "output_type": "execute_result"
    }
   ],
   "source": [
    "4 / 3.0"
   ]
  },
  {
   "cell_type": "code",
   "execution_count": 20,
   "id": "cf77a248-da2e-4906-ad46-08582129fd8a",
   "metadata": {},
   "outputs": [
    {
     "data": {
      "text/plain": [
       "1.0"
      ]
     },
     "execution_count": 20,
     "metadata": {},
     "output_type": "execute_result"
    }
   ],
   "source": [
    "4 // 3.0"
   ]
  },
  {
   "cell_type": "markdown",
   "id": "4a584e7f-419e-4850-a53c-6312f0a970f5",
   "metadata": {
    "jp-MarkdownHeadingCollapsed": true,
    "tags": []
   },
   "source": [
    "## Conversão"
   ]
  },
  {
   "cell_type": "code",
   "execution_count": 21,
   "id": "79549e2e-13df-41fc-a453-a0b54363b012",
   "metadata": {},
   "outputs": [
    {
     "data": {
      "text/plain": [
       "9.0"
      ]
     },
     "execution_count": 21,
     "metadata": {},
     "output_type": "execute_result"
    }
   ],
   "source": [
    "float(9)"
   ]
  },
  {
   "cell_type": "code",
   "execution_count": 22,
   "id": "93c4b78d-dfc5-41fa-a6e2-b1e2c624bc5f",
   "metadata": {},
   "outputs": [
    {
     "data": {
      "text/plain": [
       "6"
      ]
     },
     "execution_count": 22,
     "metadata": {},
     "output_type": "execute_result"
    }
   ],
   "source": [
    "# O resultado é inteiro, mas não trata-se de um arredondamento\n",
    "int(6.7)"
   ]
  },
  {
   "cell_type": "code",
   "execution_count": 23,
   "id": "a81ab773-0502-45ab-b45c-89690d5553bc",
   "metadata": {},
   "outputs": [
    {
     "data": {
      "text/plain": [
       "8"
      ]
     },
     "execution_count": 23,
     "metadata": {},
     "output_type": "execute_result"
    }
   ],
   "source": [
    "int(8.0)"
   ]
  },
  {
   "cell_type": "markdown",
   "id": "984e677b-2cc6-4e99-bbcf-c80b0c4f4a98",
   "metadata": {
    "jp-MarkdownHeadingCollapsed": true,
    "tags": []
   },
   "source": [
    "## Hexadecimal e Binário"
   ]
  },
  {
   "cell_type": "code",
   "execution_count": 24,
   "id": "f8dbe8ea-47b1-48f9-a03c-aa1ad00c3f7d",
   "metadata": {},
   "outputs": [
    {
     "data": {
      "text/plain": [
       "'0x18a'"
      ]
     },
     "execution_count": 24,
     "metadata": {},
     "output_type": "execute_result"
    }
   ],
   "source": [
    "hex(394)"
   ]
  },
  {
   "cell_type": "code",
   "execution_count": 25,
   "id": "de137148-91f9-41de-a28f-8ac0dc3a31c4",
   "metadata": {},
   "outputs": [
    {
     "data": {
      "text/plain": [
       "'0xd9'"
      ]
     },
     "execution_count": 25,
     "metadata": {},
     "output_type": "execute_result"
    }
   ],
   "source": [
    "hex(217)"
   ]
  },
  {
   "cell_type": "code",
   "execution_count": 26,
   "id": "425797ac-0bc4-48ec-91d6-3a0836dc0b89",
   "metadata": {},
   "outputs": [
    {
     "data": {
      "text/plain": [
       "'0b100011110'"
      ]
     },
     "execution_count": 26,
     "metadata": {},
     "output_type": "execute_result"
    }
   ],
   "source": [
    "bin(286)"
   ]
  },
  {
   "cell_type": "code",
   "execution_count": 27,
   "id": "554c3905-c114-44d7-9d37-96f761d023a2",
   "metadata": {},
   "outputs": [
    {
     "data": {
      "text/plain": [
       "'0b110000110'"
      ]
     },
     "execution_count": 27,
     "metadata": {},
     "output_type": "execute_result"
    }
   ],
   "source": [
    "bin(390)"
   ]
  },
  {
   "cell_type": "markdown",
   "id": "bca44ff9-6120-4341-9216-3a3b17fe059e",
   "metadata": {
    "jp-MarkdownHeadingCollapsed": true,
    "tags": []
   },
   "source": [
    "## Funções abs, round e pow"
   ]
  },
  {
   "cell_type": "code",
   "execution_count": 28,
   "id": "8457724f-f717-4c3e-a0ea-b0f172091eb3",
   "metadata": {},
   "outputs": [
    {
     "data": {
      "text/plain": [
       "8"
      ]
     },
     "execution_count": 28,
     "metadata": {},
     "output_type": "execute_result"
    }
   ],
   "source": [
    "# Retorna o valor absoluto\n",
    "abs(-8)"
   ]
  },
  {
   "cell_type": "code",
   "execution_count": 29,
   "id": "be1c33c3-81e1-4d96-92a1-4afe3a3db542",
   "metadata": {},
   "outputs": [
    {
     "data": {
      "text/plain": [
       "8"
      ]
     },
     "execution_count": 29,
     "metadata": {},
     "output_type": "execute_result"
    }
   ],
   "source": [
    "# Retorna o valor absoluto também\n",
    "abs(8)"
   ]
  },
  {
   "cell_type": "code",
   "execution_count": 30,
   "id": "140f29a0-e6cc-4dda-b8f7-76284949f84f",
   "metadata": {},
   "outputs": [
    {
     "data": {
      "text/plain": [
       "3.15"
      ]
     },
     "execution_count": 30,
     "metadata": {},
     "output_type": "execute_result"
    }
   ],
   "source": [
    "# Retorna o valor com arredondamento\n",
    "round(3.14545,2)"
   ]
  },
  {
   "cell_type": "code",
   "execution_count": 31,
   "id": "c67ff478-5106-4d8e-84e7-55861723334e",
   "metadata": {},
   "outputs": [
    {
     "data": {
      "text/plain": [
       "16"
      ]
     },
     "execution_count": 31,
     "metadata": {},
     "output_type": "execute_result"
    }
   ],
   "source": [
    "# Potência\n",
    "pow(4,2)"
   ]
  },
  {
   "cell_type": "code",
   "execution_count": 32,
   "id": "fb34ce9e-a696-4d03-8aa0-68f242578bf1",
   "metadata": {},
   "outputs": [
    {
     "data": {
      "text/plain": [
       "125"
      ]
     },
     "execution_count": 32,
     "metadata": {},
     "output_type": "execute_result"
    }
   ],
   "source": [
    "# Potência usando a função pow\n",
    "pow(5,3)"
   ]
  },
  {
   "cell_type": "markdown",
   "id": "e1d63e14-3767-46d3-98d4-c8731de61805",
   "metadata": {},
   "source": [
    "## Variáveis e Operadores"
   ]
  },
  {
   "cell_type": "code",
   "execution_count": null,
   "id": "246ba1a0-8480-4c55-b669-e07e1b1c9e11",
   "metadata": {},
   "outputs": [],
   "source": []
  }
 ],
 "metadata": {
  "kernelspec": {
   "display_name": "Python 3 (ipykernel)",
   "language": "python",
   "name": "python3"
  },
  "language_info": {
   "codemirror_mode": {
    "name": "ipython",
    "version": 3
   },
   "file_extension": ".py",
   "mimetype": "text/x-python",
   "name": "python",
   "nbconvert_exporter": "python",
   "pygments_lexer": "ipython3",
   "version": "3.9.7"
  },
  "widgets": {
   "application/vnd.jupyter.widget-state+json": {
    "state": {},
    "version_major": 2,
    "version_minor": 0
   }
  }
 },
 "nbformat": 4,
 "nbformat_minor": 5
}
