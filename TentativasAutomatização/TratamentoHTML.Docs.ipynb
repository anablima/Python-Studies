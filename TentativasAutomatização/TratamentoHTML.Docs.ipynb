{
 "cells": [
  {
   "cell_type": "code",
   "execution_count": 1,
   "metadata": {},
   "outputs": [],
   "source": [
    "#!pip3 install BeautifulSoup4"
   ]
  },
  {
   "cell_type": "code",
   "execution_count": 2,
   "metadata": {},
   "outputs": [],
   "source": [
    "import pandas as pd\n",
    "import os\n",
    "from bs4 import BeautifulSoup"
   ]
  },
  {
   "cell_type": "code",
   "execution_count": 3,
   "metadata": {},
   "outputs": [
    {
     "name": "stdout",
     "output_type": "stream",
     "text": [
      "Insira o local e nome do arquivo .html: \n"
     ]
    },
    {
     "data": {
      "text/plain": [
       "'/mnt/c/Users/014061631/Documents/Scrum - a arte de fazer o dobro de trabalho na metade do tempo - Notebook.html'"
      ]
     },
     "execution_count": 3,
     "metadata": {},
     "output_type": "execute_result"
    }
   ],
   "source": [
    "print('Insira o local e nome do arquivo .html: ')    \n",
    "caminho = str(input(\"> \"))\n",
    "caminho"
   ]
  },
  {
   "cell_type": "code",
   "execution_count": 4,
   "metadata": {},
   "outputs": [],
   "source": [
    "#arq = \"'\" + caminho + \"'\"\n",
    "aberto = open(caminho)"
   ]
  },
  {
   "cell_type": "code",
   "execution_count": 5,
   "metadata": {},
   "outputs": [
    {
     "data": {
      "text/plain": [
       "'<!DOCTYPE html PUBLIC\\n\"-//W3C//DTD XHTML 1.0 Strict//EN\"\\n\"XHTML1-s.dtd\" >\\n<html lang=\"en\" xml:lang=\"en\" xmlns=\"http://www.w3.org/TR/1999/REC-html-in-xml\">\\n <head>\\n  <meta charset=\"utf-8\"/>\\n  <style>\\n   .bodyContainer {\\n            font-family: Arial, Helvetica, sans-serif;\\n            text-align: center;\\n            padding-left: 32px;\\n            padding-right: 32px;\\n        }\\n        \\n        .notebookFor {\\n            font-size: 18px;\\n            font-weight: 700;\\n            text-align: center;\\n            color: rgb(119, 119, 119);\\n            margin: 24px 0px 0px;\\n            padding: 0px;\\n        }\\n        \\n        .bookTitle {\\n            font-size: 24px;\\n            font-weight: 700;\\n            text-align: center;\\n            color: #333333;\\n            margin-top: 22px;\\n            padding: 0px;\\n        }\\n        \\n        .authors {\\n            font-size: 18px;\\n            font-weight: 700;\\n            text-align: center;\\n            color: rgb(119, 119, 119);\\n            margin-top: 22px;\\n            margin-bottom: 24px;\\n            padding: 0px;\\n        }\\n    \\n        .citation {\\n            font-size: 18px;\\n            font-weight: 500;\\n            text-align: center;\\n            color: #333333;\\n            margin-top: 22px;\\n            margin-bottom: 24px;\\n            padding: 0px;\\n        }\\n    \\n        .sectionHeading {\\n            font-size: 24px;\\n            font-weight: 700;\\n            text-align: left;\\n            color: #333333;\\n            margin-top: 24px;\\n            padding: 0px;\\n        }\\n        \\n        .noteHeading {\\n            font-size: 18px;\\n            font-weight: 700;\\n            text-align: left;\\n            color: #333333;\\n            margin-top: 20px;\\n            padding: 0px;\\n        }\\n        \\n        .noteText {\\n            font-size: 18px;\\n            font-weight: 500;\\n            text-align: left;\\n            color: #333333;\\n            margin: 2px 0px 0px;\\n            padding: 0px;\\n        }\\n        \\n        .highlight_blue {\\n            color: rgb(178, 205, 251);\\n        }\\n        \\n        .highlight_orange {\\n            color: #ffd7ae;\\n        }\\n        \\n        .highlight_pink {\\n            color: rgb(255, 191, 206);\\n        }\\n        \\n        .highlight_yellow {\\n            color: rgb(247, 206, 0);\\n        }\\n        \\n        .notebookGraphic {\\n            margin-top: 10px;\\n            text-align: left;\\n        }\\n        \\n        .notebookGraphic img {\\n            -o-box-shadow:      0px 0px 5px #888;\\n            -icab-box-shadow:   0px 0px 5px #888;\\n            -khtml-box-shadow:  0px 0px 5px #888;\\n            -moz-box-shadow:    0px 0px 5px #888;\\n            -webkit-box-shadow: 0px 0px 5px #888;\\n            box-shadow:         0px 0px 5px #888; \\n            max-width: 100%;\\n            height: auto;\\n        }\\n        \\n        hr {\\n            border: 0px none;\\n            height: 1px;\\n            background: none repeat scroll 0% 0% rgb(221, 221, 221);\\n        }\\n  </style>\\n  <script>\\n  </script>\\n </head>\\n <body>\\n  <div class=\"bodyContainer\">\\n   <div class=\"notebookFor\">\\n    Exportação do Caderno de anotações\\n   </div>\\n   <div class=\"bookTitle\">\\n    Scrum - a arte de fazer o dobro de trabalho na metade do tempo\\n   </div>\\n   <div class=\"authors\">\\n    Jeff Sutherland\\n   </div>\\n   <div class=\"citation\">\\n    Citação (Estilo Chicago): Sutherland, Jeff.\\n    <i>\\n     Scrum - a arte de fazer o dobro de trabalho na metade do tempo\\n    </i>\\n    . , 2021. Kindle edition.\\n   </div>\\n   <hr/>\\n   <div class=\"sectionHeading\">\\n    CAPÍTULO 1 A maneira como o mundo funciona está quebrada\\n   </div>\\n   <div class=\"noteHeading\">\\n    Destaque(\\n    <span class=\"highlight_yellow\">\\n     amarelo\\n    </span>\\n    ) - Posição 204\\n   </div>\\n   <div class=\"noteText\">\\n    Em essência, o Scrum tem como base uma ideia simples: ao começar um projeto, por que não fazer paradas regulares para verificar se o que está sendo feito está seguindo na direção certa, e se, na verdade, os resultados são os que as pessoas desejam? E verificar se existem maneiras de aprimorar a forma como se está trabalhando para obter resultados melhores e executados mais rapidamente, e quais seriam os obstáculos que impedem as pessoas de obtê-los.\\n   </div>\\n   <div class=\"noteHeading\">\\n    Destaque(\\n    <span class=\"highlight_yellow\">\\n     amarelo\\n    </span>\\n    ) - Posição 207\\n   </div>\\n   <div class=\"noteText\">\\n    Isso é chamado de ciclo de “Inspeção e Adaptação”.\\n   </div>\\n   <div class=\"noteHeading\">\\n    Destaque(\\n    <span class=\"highlight_yellow\">\\n     amarelo\\n    </span>\\n    ) - Posição 209\\n   </div>\\n   <div class=\"noteText\">\\n    É uma ideia simples, mas executá-la exige reflexão, introspecção, honestidade e disciplina.\\n   </div>\\n   <div class=\"noteHeading\">\\n    Destaque(\\n    <span class=\"highlight_yellow\">\\n     amarelo\\n    </span>\\n    ) - Posição 212\\n   </div>\\n   <div class=\"noteText\">\\n    Os resultados finais do Scrum—ou o objetivo do projeto, se preferir—são equipes que melhoram drasticamente a produtividade.\\n   </div>\\n   <div class=\"noteHeading\">\\n    Destaque(\\n    <span class=\"highlight_yellow\">\\n     amarelo\\n    </span>\\n    ) - Posição 222\\n   </div>\\n   <div class=\"noteText\">\\n    “Os resultados são inquestionáveis. As empresas têm duas opções: mudar ou morrer”.\\n   </div>\\n   <div class=\"noteHeading\">\\n    Destaque(\\n    <span class=\"highlight_yellow\">\\n     amarelo\\n    </span>\\n    ) - Posição 235\\n   </div>\\n   <div class=\"noteText\">\\n    Ninguém deveria passar a vida fazendo um trabalho sem significado algum. Isso não apenas é ruim para os negócios, como também destrói a alma das pessoas.\\n   </div>\\n   <div class=\"noteHeading\">\\n    Destaque(\\n    <span class=\"highlight_yellow\">\\n     amarelo\\n    </span>\\n    ) - Posição 238\\n   </div>\\n   <div class=\"noteText\">\\n    Mas a pergunta que precisa ser respondida, e foi o que as equipes do Sentinela fizeram, é: o que agregará mais valor para o projeto?\\n   </div>\\n   <div class=\"noteHeading\">\\n    Destaque(\\n    <span class=\"highlight_yellow\">\\n     amarelo\\n    </span>\\n    ) - Posição 256\\n   </div>\\n   <div class=\"noteText\">\\n    “Manifesto Ágil”. Nele declaramos os seguintes valores: pessoas em vez de processos; produtos que realmente funcionem em vez de documentação dizendo como o produto deveria funcionar; trabalhar com os clientes em vez de negociar com eles; e responder às mudanças em vez de seguir um plano.\\n   </div>\\n   <div class=\"noteHeading\">\\n    Destaque(\\n    <span class=\"highlight_yellow\">\\n     amarelo\\n    </span>\\n    ) - Posição 261\\n   </div>\\n   <div class=\"noteText\">\\n    “Eu só poderei dizer a data à medida que eu vir o aprimoramento da equipe. Ou seja, o quanto vão ficar mais rápidos. O quanto eles vão conseguir acelerar”.\\n   </div>\\n   <div class=\"noteHeading\">\\n    Destaque(\\n    <span class=\"highlight_yellow\">\\n     amarelo\\n    </span>\\n    ) - Posição 278\\n   </div>\\n   <div class=\"noteText\">\\n    O Scrum funciona com a definição de objetivos sequenciais que devem ser concluídos em um período definido.\\n   </div>\\n   <div class=\"noteHeading\">\\n    Destaque(\\n    <span class=\"highlight_yellow\">\\n     amarelo\\n    </span>\\n    ) - Posição 284\\n   </div>\\n   <div class=\"noteText\">\\n    No Scrum chamamos esses ciclos de Sprint [corrida de velocidade de curta distância].\\n   </div>\\n   <div class=\"noteHeading\">\\n    Destaque(\\n    <span class=\"highlight_yellow\">\\n     amarelo\\n    </span>\\n    ) - Posição 285\\n   </div>\\n   <div class=\"noteText\">\\n    No início de cada ciclo, acontece uma reunião para planejar o Sprint. A equipe decide a quantidade de trabalho que acredita ser capaz de realizar\\n   </div>\\n   <div class=\"noteHeading\">\\n    Destaque(\\n    <span class=\"highlight_yellow\">\\n     amarelo\\n    </span>\\n    ) - Posição 286\\n   </div>\\n   <div class=\"noteText\">\\n    Eles escolhem as tarefas na lista de prioridades, as anotam em post-its e os colam na parede.\\n   </div>\\n   <div class=\"noteHeading\">\\n    Destaque(\\n    <span class=\"highlight_yellow\">\\n     amarelo\\n    </span>\\n    ) - Posição 313\\n   </div>\\n   <div class=\"noteText\">\\n    “Scrum não é sobre os desenvolvedores. Mas sim sobre os clientes e os stakeholders. Sério, era uma mudança organizacional. Mostrar o produto real era a parte mais eficaz.”\\n   </div>\\n   <div class=\"noteHeading\">\\n    Destaque(\\n    <span class=\"highlight_yellow\">\\n     amarelo\\n    </span>\\n    ) - Posição 324\\n   </div>\\n   <div class=\"noteText\">\\n    Jeff falou para sua equipe sobre uma citação que tivera de decorar quando ainda era um cadete naval. Era um trecho do discurso “Cidadania numa República”, que Teddy Roosevelt fez em Sorbonne, em 1910.\\n   </div>\\n   <div class=\"noteHeading\">\\n    Destaque(\\n    <span class=\"highlight_yellow\">\\n     amarelo\\n    </span>\\n    ) - Posição 326\\n   </div>\\n   <div class=\"noteText\">\\n    Não é o crítico que conta, não o homem que aponta como o homem forte tropeça, ou onde o executor de ações poderia ter feito melhor. O crédito pertence ao homem que está realmente na arena, com o rosto desfigurado pela poeira e suor e sangue; que se esforça corajosamente; que erra, que tenta de novo e de novo, porque não existe esforço sem erros e lacunas; mas quem realmente se esforça para fazer as obras, quem conhece grandes entusiasmos, as grandes devoções; quem consome-se em uma causa digna é quem melhor conhece, no final, o triunfo das grandes realizações, e que, na pior das hipóteses, se falhar, pelo menos não será enquanto não tiver ousado muito, de tal forma que seu lugar nunca será junto às almas frias e tímidas que não conhecem a vitória nem a derrota.6\\n   </div>\\n   <div class=\"noteHeading\">\\n    Destaque(\\n    <span class=\"highlight_yellow\">\\n     amarelo\\n    </span>\\n    ) - Posição 384\\n   </div>\\n   <div class=\"noteText\">\\n    O que o Scrum faz é promover a união das equipes para criar grandes projetos, e isso exige que todos não apenas vejam o objetivo final, mas que também façam entregas incrementais para atingi-lo.\\n   </div>\\n   <div class=\"noteHeading\">\\n    Destaque(\\n    <span class=\"highlight_yellow\">\\n     amarelo\\n    </span>\\n    ) - Posição 406\\n   </div>\\n   <div class=\"noteText\">\\n    Planejar é útil. Seguir cegamente os planos é burrice.\\n   </div>\\n   <div class=\"noteHeading\">\\n    Destaque(\\n    <span class=\"highlight_yellow\">\\n     amarelo\\n    </span>\\n    ) - Posição 410\\n   </div>\\n   <div class=\"noteText\">\\n    Inspeção e Adaptação.\\n   </div>\\n   <div class=\"noteHeading\">\\n    Destaque(\\n    <span class=\"highlight_yellow\">\\n     amarelo\\n    </span>\\n    ) - Posição 412\\n   </div>\\n   <div class=\"noteText\">\\n    Mudar ou morrer.\\n   </div>\\n   <div class=\"noteHeading\">\\n    Destaque(\\n    <span class=\"highlight_yellow\">\\n     amarelo\\n    </span>\\n    ) - Posição 414\\n   </div>\\n   <div class=\"noteText\">\\n    Fracasse rápido para que possa corrigir o problema o quanto antes.\\n   </div>\\n   <div class=\"sectionHeading\">\\n    CAPÍTULO 2 As origens do Scrum\\n   </div>\\n   <div class=\"noteHeading\">\\n    Destaque(\\n    <span class=\"highlight_yellow\">\\n     amarelo\\n    </span>\\n    ) - Posição 446\\n   </div>\\n   <div class=\"noteText\">\\n    Naquelas situações a adrenalina corria nas minhas veias, mas eu nunca perdi a calma. Ao contrário, o perigo quase me acalmava. Acredito que isso se deve ao treinamento que recebi na Força Aérea para aprender a controlar o risco. Lá aprendi quatro coisas: observar, avaliar, decidir e agir.\\n   </div>\\n   <div class=\"noteHeading\">\\n    Destaque(\\n    <span class=\"highlight_yellow\">\\n     amarelo\\n    </span>\\n    ) - Posição 607\\n   </div>\\n   <div class=\"noteText\">\\n    Não basta melhorar uma vez, é preciso fazê-lo constantemente. Sempre procure algo que possa ser aprimorado. Nunca, jamais, conforme-se com o lugar onde está.\\n   </div>\\n   <div class=\"noteHeading\">\\n    Destaque(\\n    <span class=\"highlight_yellow\">\\n     amarelo\\n    </span>\\n    ) - Posição 676\\n   </div>\\n   <div class=\"noteText\">\\n    Hesitação é a morte. Observe, avalie, decida, aja. Saiba onde está, avalie suas opções, tome uma decisão e aja!\\n   </div>\\n   <div class=\"noteHeading\">\\n    Destaque(\\n    <span class=\"highlight_yellow\">\\n     amarelo\\n    </span>\\n    ) - Posição 677\\n   </div>\\n   <div class=\"noteText\">\\n    Procure respostas. Sistemas adaptativos complexos seguem algumas regras simples, que aprendem a partir do ambiente em que se encontram.\\n   </div>\\n   <div class=\"noteHeading\">\\n    Destaque(\\n    <span class=\"highlight_yellow\">\\n     amarelo\\n    </span>\\n    ) - Posição 679\\n   </div>\\n   <div class=\"noteText\">\\n    Grandes equipes. São multifuncionais, autônomas, capazes de tomar decisões e motivadas por um objetivo transcendente.\\n   </div>\\n   <div class=\"noteHeading\">\\n    Destaque(\\n    <span class=\"highlight_yellow\">\\n     amarelo\\n    </span>\\n    ) - Posição 680\\n   </div>\\n   <div class=\"noteText\">\\n    Não adivinhe. Planeje (Plan—P), Faça (Do—D), Verifique (Check—C), Aja (Act—A): planeje o que vai fazer. Faça. Verifique se o resultado é o que desejava. Aja de acordo com as informações e faça as coisas de outra maneira. Repita em ciclos regulares e, ao fazer isso, obtenha um aprimoramento contínuo.\\n   </div>\\n   <div class=\"noteHeading\">\\n    Destaque(\\n    <span class=\"highlight_yellow\">\\n     amarelo\\n    </span>\\n    ) - Posição 684\\n   </div>\\n   <div class=\"noteText\">\\n    Shu Ha Ri. Primeiro, aprenda as regras e as formas e, uma vez que as dominar, faça inovações. Por fim, em um estado elevado de domínio, descarte as formas e apenas seja—com todo o aprendizado internalizado as decisões são tomadas de forma quase inconsciente.\\n   </div>\\n   <div class=\"sectionHeading\">\\n    CAPÍTULO 3 Equipes\\n   </div>\\n   <div class=\"noteHeading\">\\n    Destaque(\\n    <span class=\"highlight_yellow\">\\n     amarelo\\n    </span>\\n    ) - Posição 746\\n   </div>\\n   <div class=\"noteText\">\\n    1. Transcendência: elas têm um senso de propósito além do comum.\\n   </div>\\n   <div class=\"noteHeading\">\\n    Destaque(\\n    <span class=\"highlight_yellow\">\\n     amarelo\\n    </span>\\n    ) - Posição 749\\n   </div>\\n   <div class=\"noteText\">\\n    2. Autonomia: as equipes se auto-organizam e se autogerenciam;\\n   </div>\\n   <div class=\"noteHeading\">\\n    Destaque(\\n    <span class=\"highlight_yellow\">\\n     amarelo\\n    </span>\\n    ) - Posição 751\\n   </div>\\n   <div class=\"noteText\">\\n    3. Interfuncionalidade: as equipes possuem todas as habilidades necessárias para concluir o projeto: planejamento, projeção, produção, vendas e distribuição.\\n   </div>\\n   <div class=\"noteHeading\">\\n    Destaque(\\n    <span class=\"highlight_yellow\">\\n     amarelo\\n    </span>\\n    ) - Posição 810\\n   </div>\\n   <div class=\"noteText\">\\n    Tão crítica quanto, mas talvez menos celebrada, é a liberdade de fazer o seu trabalho do modo que você acredita ser o melhor, ou seja, ter autonomia.\\n   </div>\\n   <div class=\"noteHeading\">\\n    Destaque(\\n    <span class=\"highlight_yellow\">\\n     amarelo\\n    </span>\\n    ) - Posição 837\\n   </div>\\n   <div class=\"noteText\">\\n    A responsabilidade da direção da empresa é estabelecer os objetivos estratégicos, e o trabalho da equipe é decidir como atingi-los.\\n   </div>\\n   <div class=\"noteHeading\">\\n    Destaque(\\n    <span class=\"highlight_yellow\">\\n     amarelo\\n    </span>\\n    ) - Posição 882\\n   </div>\\n   <div class=\"noteText\">\\n    não existe essa separação de papéis. Cada equipe funciona com todas as pessoas participando de todos os processos, do início ao fim.\\n   </div>\\n   <div class=\"noteHeading\">\\n    Destaque(\\n    <span class=\"highlight_yellow\">\\n     amarelo\\n    </span>\\n    ) - Posição 889\\n   </div>\\n   <div class=\"noteText\">\\n    busca nas equipes é a diversidade—de conjunto de habilidade, pensamento e experiência. Ela quer equipes que sejam altruístas e autônomas, mas também precisa que sejam interfuncionais. Equipes que consigam fazer com que o projeto inteiro seja concluído.\\n   </div>\\n   <div class=\"noteHeading\">\\n    Destaque(\\n    <span class=\"highlight_yellow\">\\n     amarelo\\n    </span>\\n    ) - Posição 936\\n   </div>\\n   <div class=\"noteText\">\\n    sempre que há transferências entre equipes, existe a possibilidade de desastre.\\n   </div>\\n   <div class=\"noteHeading\">\\n    Destaque(\\n    <span class=\"highlight_yellow\">\\n     amarelo\\n    </span>\\n    ) - Posição 1004\\n   </div>\\n   <div class=\"noteText\">\\n    todos em uma equipe Scrum têm de saber o que os outros estão fazendo.\\n   </div>\\n   <div class=\"noteHeading\">\\n    Destaque(\\n    <span class=\"highlight_yellow\">\\n     amarelo\\n    </span>\\n    ) - Posição 1134\\n   </div>\\n   <div class=\"noteText\">\\n    O Scrum é sobre estabelecer o sistema certo com os devidos incentivos e dar às pessoas liberdade, respeito e autoridade para fazerem as coisas por si mesmas.\\n   </div>\\n   <div class=\"noteHeading\">\\n    Destaque(\\n    <span class=\"highlight_yellow\">\\n     amarelo\\n    </span>\\n    ) - Posição 1135\\n   </div>\\n   <div class=\"noteText\">\\n    A grandiosidade não pode ser imposta, precisa vir de dentro. E, o melhor, ela existe em todos nós.\\n   </div>\\n   <div class=\"sectionHeading\">\\n    CAPÍTULO 4 Tempo\\n   </div>\\n   <div class=\"noteHeading\">\\n    Destaque(\\n    <span class=\"highlight_yellow\">\\n     amarelo\\n    </span>\\n    ) - Posição 1328\\n   </div>\\n   <div class=\"noteText\">\\n    O tempo constitui sua vida, então, desperdiçá-lo, na verdade, é uma forma lenta de suicídio.\\n   </div>\\n   <div class=\"sectionHeading\">\\n    CAPÍTULO 5 O desperdício é um crime\\n   </div>\\n   <div class=\"noteHeading\">\\n    Destaque(\\n    <span class=\"highlight_yellow\">\\n     amarelo\\n    </span>\\n    ) - Posição 1420\\n   </div>\\n   <div class=\"noteText\">\\n    Ohno fala sobre três tipos diferentes de desperdício. Ele usou palavras japonesas: Muri, desperdício causado pela irracionalidade; Mura, desperdício causado pela inconsistência; e Muda, desperdício causado pelos resultados.\\n   </div>\\n   <div class=\"noteHeading\">\\n    Destaque(\\n    <span class=\"highlight_yellow\">\\n     amarelo\\n    </span>\\n    ) - Posição 1539\\n   </div>\\n   <div class=\"noteText\">\\n    Já foram realizadas algumas pesquisas que demonstram que ser multitarefa não apenas desperdiça o seu tempo, mas também torna você burro.\\n   </div>\\n   <div class=\"noteHeading\">\\n    Destaque(\\n    <span class=\"highlight_yellow\">\\n     amarelo\\n    </span>\\n    ) - Posição 1586\\n   </div>\\n   <div class=\"noteText\">\\n    Se você investe muito valor em coisas que não estão entregando valor, não terá recursos para fazer outras coisas\\n   </div>\\n   <div class=\"noteHeading\">\\n    Destaque(\\n    <span class=\"highlight_yellow\">\\n     amarelo\\n    </span>\\n    ) - Posição 1588\\n   </div>\\n   <div class=\"noteText\">\\n    O trabalho que não é feito e produtos que não estão sendo usados são dois aspectos da mesma coisa: esforço investido sem qualquer resultado positivo. Não faça\\n   </div>\\n   <div class=\"noteHeading\">\\n    Destaque(\\n    <span class=\"highlight_yellow\">\\n     amarelo\\n    </span>\\n    ) - Posição 1728\\n   </div>\\n   <div class=\"noteText\">\\n    O Scrum pede às pessoas que adotam esse método para quebrar o paradigma de medir o trabalho apenas em horas. A hora por si só representa um custo. Em vez disso, a medida deve ser feita em resultados. Quem se importa com o número de horas que alguém trabalhou em algo? Tudo que importa é a rapidez e a qualidade com que ele é entregue.\\n   </div>\\n   <div class=\"noteHeading\">\\n    Destaque(\\n    <span class=\"highlight_yellow\">\\n     amarelo\\n    </span>\\n    ) - Posição 1765\\n   </div>\\n   <div class=\"noteText\">\\n    Ser multitarefa emburrece. Fazer mais de uma coisa de cada vez diminui seu desempenho tanto em termos de tempo quanto de qualidade nas duas tarefas.\\n   </div>\\n   <div class=\"noteHeading\">\\n    Destaque(\\n    <span class=\"highlight_yellow\">\\n     amarelo\\n    </span>\\n    ) - Posição 1767\\n   </div>\\n   <div class=\"noteText\">\\n    Fazer pela metade não é fazer.\\n   </div>\\n   <div class=\"noteHeading\">\\n    Destaque(\\n    <span class=\"highlight_yellow\">\\n     amarelo\\n    </span>\\n    ) - Posição 1770\\n   </div>\\n   <div class=\"noteText\">\\n    Fazer certo da primeira vez. Quando você cometer um erro, corrija-o imediatamente. Pare todo o resto e resolva o problema que tem em mãos. Corrigir mais tarde pode levar vinte vezes mais tempo do que corrigir agora.\\n   </div>\\n   <div class=\"noteHeading\">\\n    Destaque(\\n    <span class=\"highlight_yellow\">\\n     amarelo\\n    </span>\\n    ) - Posição 1772\\n   </div>\\n   <div class=\"noteText\">\\n    Trabalhar demais só resulta em mais trabalho. Trabalhar até tarde não resulta em mais produtividade; ao contrário: diminui a produtividade. Trabalhar demais resulta em fatiga, que leva a erros, que leva a necessidade de consertar algo que você acabou de terminar.\\n   </div>\\n   <div class=\"noteHeading\">\\n    Destaque(\\n    <span class=\"highlight_yellow\">\\n     amarelo\\n    </span>\\n    ) - Posição 1786\\n   </div>\\n   <div class=\"noteText\">\\n    Busque o fluxo. Opte pelo modo mais suave e sem problemas de concluir uma tarefa. O Scrum é sobre possibilitar o maior fluxo possível.\\n   </div>\\n   <div class=\"sectionHeading\">\\n    CAPÍTULO 6 Planeje a realidade, não a fantasia\\n   </div>\\n   <div class=\"noteHeading\">\\n    Destaque(\\n    <span class=\"highlight_yellow\">\\n     amarelo\\n    </span>\\n    ) - Posição 1858\\n   </div>\\n   <div class=\"noteText\">\\n    o simples fato de planejar é tão sedutor, tão atraente, que o planejamento se torna mais importante do que o plano efetivo. E o plano, por sua vez, se torna mais importante do que a realidade. Nunca se esqueça: o mapa não é o terreno.\\n   </div>\\n   <div class=\"noteHeading\">\\n    Destaque(\\n    <span class=\"highlight_yellow\">\\n     amarelo\\n    </span>\\n    ) - Posição 2004\\n   </div>\\n   <div class=\"noteText\">\\n   </div>\\n   <div class=\"noteHeading\">\\n    Destaque(\\n    <span class=\"highlight_yellow\">\\n     amarelo\\n    </span>\\n    ) - Posição 2147\\n   </div>\\n   <div class=\"noteText\">\\n    Para quem a tarefa será realizada? Através das lentes de quem precisamos olhar quando estamos construindo isso, tomando aquela decisão, ou entregando uma peça?\\n   </div>\\n   <div class=\"noteHeading\">\\n    Destaque(\\n    <span class=\"highlight_yellow\">\\n     amarelo\\n    </span>\\n    ) - Posição 2148\\n   </div>\\n   <div class=\"noteText\">\\n    você precisa pensar no quê—no que quer que seja feito primeiro.\\n   </div>\\n   <div class=\"noteHeading\">\\n    Destaque(\\n    <span class=\"highlight_yellow\">\\n     amarelo\\n    </span>\\n    ) - Posição 2150\\n   </div>\\n   <div class=\"noteText\">\\n    Por fim, você precisa pensar em motivação. Por que esse personagem quer isso? Como isso vai ajudar e maravilhar esse cliente específico? E, de certo modo, essa é a parte principal.\\n   </div>\\n   <div class=\"noteHeading\">\\n    Destaque(\\n    <span class=\"highlight_yellow\">\\n     amarelo\\n    </span>\\n    ) - Posição 2166\\n   </div>\\n   <div class=\"noteText\">\\n    Então, antes de priorizar o que precisa ser feito em sua empresa, você precisa definir o personagem, o usuário, o cliente—a pessoa que vai usar o que você vai produzir.\\n   </div>\\n   <div class=\"noteHeading\">\\n    Destaque(\\n    <span class=\"highlight_yellow\">\\n     amarelo\\n    </span>\\n    ) - Posição 2172\\n   </div>\\n   <div class=\"noteText\">\\n    Ao escrever as suas histórias, porém, você deve se certificar de que elas sejam curtas o suficiente para que você consiga estimá-las.\\n   </div>\\n   <div class=\"noteHeading\">\\n    Destaque(\\n    <span class=\"highlight_yellow\">\\n     amarelo\\n    </span>\\n    ) - Posição 2183\\n   </div>\\n   <div class=\"noteText\">\\n    Lembre-se: a equipe decide de que forma o trabalho será realizado, mas o que será realizado é decidido pelo valor que traz aos negócios.\\n   </div>\\n   <div class=\"noteHeading\">\\n    Destaque(\\n    <span class=\"highlight_yellow\">\\n     amarelo\\n    </span>\\n    ) - Posição 2314\\n   </div>\\n   <div class=\"noteText\">\\n    PONTOS PRINCIPAIS O mapa não é o terreno. Não se apaixone pelo seu plano. É quase certo que ele esteja errado. Planeje apenas o necessário. Não tente projetar tudo com anos de antecedência. Planeje o suficiente para manter as equipes ocupadas. Raças de cachorro. Não faça estimativas usando termos absolutos, como horas—já foi provado inúmeras vezes que os seres humanos são péssimos nisso. Defina o tamanho dos problemas de forma relativa, de acordo com uma raça do cachorro ou o tamanho de uma camiseta (P, M, G, GG, XG), ou, o que é mais comum, usando a sequência de Fibonacci. Pergunte ao oráculo. Use uma técnica cega, como o método Delphi, para evitar preconceitos de segurança, como os efeitos de manada ou halo, ou apenas um modo burro de pensamento em grupo. Pôquer do planejamento. Use essa técnica para estimar rapidamente o trabalho que precisa ser feito. O trabalho é uma história. Pense primeiro sobre quem vai obter valor com algo, então, pense no que é, e, então, por que eles precisam daquilo. Os seres humanos pensam em uma estrutura narrativa, então dê isso a eles. Por exemplo: “como X, eu quero Y, para conseguir Z”. Conheça a sua velocidade. Toda equipe deve saber exatamente quanto trabalho consegue realizar a cada Sprint. E eles devem saber o quanto podem melhorar a própria velocidade ao trabalhar de forma mais inteligente, removendo as barreiras que os tornam mais lentos. Velocidade x Tempo = Entrega. Uma vez que você saiba a velocidade com que trabalha, saberá quanto tempo levará para chegar lá. Defina objetivos audaciosos. Com o Scrum não é difícil dobrar a produção ou cortar o cronograma de entrega pela metade. Se você fizer as coisas da forma certa, a sua receita e o preço das suas ações também devem dobrar.\\n   </div>\\n   <div class=\"sectionHeading\">\\n    CAPÍTULO 7 Felicidade\\n   </div>\\n   <div class=\"noteHeading\">\\n    Destaque(\\n    <span class=\"highlight_yellow\">\\n     amarelo\\n    </span>\\n    ) - Posição 2360\\n   </div>\\n   <div class=\"noteText\">\\n    “nós não somos recompensados por apreciarmos a jornada em si, mas por um término bem-sucedido. A sociedade recompensa resultados, não processos; chegadas, não jornadas”.\\n   </div>\\n   <div class=\"noteHeading\">\\n    Destaque(\\n    <span class=\"highlight_yellow\">\\n     amarelo\\n    </span>\\n    ) - Posição 2362\\n   </div>\\n   <div class=\"noteText\">\\n    A maior parte dos nossos dias é dedicada a seguirmos em direção aos nossos objetivos, independente de quais sejam.\\n   </div>\\n  </div>\\n </body>\\n</html>'"
      ]
     },
     "execution_count": 5,
     "metadata": {},
     "output_type": "execute_result"
    }
   ],
   "source": [
    "soup = BeautifulSoup(aberto.read(), 'html.parser')\n",
    "soup.prettify()"
   ]
  },
  {
   "cell_type": "code",
   "execution_count": 6,
   "metadata": {},
   "outputs": [
    {
     "data": {
      "text/plain": [
       "'\\n\\n\\n\\n\\n\\n\\n\\n\\n\\n                Exportação do Caderno de anotações\\n            \\n\\n                Scrum - a arte de fazer o dobro de trabalho na metade do tempo\\n            \\n\\n                Jeff Sutherland\\n            \\n\\n                Citação (Estilo Chicago): Sutherland, Jeff. Scrum - a arte de fazer o dobro de trabalho na metade do tempo. , 2021. Kindle edition.\\n            \\n\\n\\n    CAPÍTULO 1 A maneira como o mundo funciona está quebrada\\n\\n    Destaque(amarelo) - Posição 204\\n\\n\\n    Em essência, o Scrum tem como base uma ideia simples: ao começar um projeto, por que não fazer paradas regulares para verificar se o que está sendo feito está seguindo na direção certa, e se, na verdade, os resultados são os que as pessoas desejam? E verificar se existem maneiras de aprimorar a forma como se está trabalhando para obter resultados melhores e executados mais rapidamente, e quais seriam os obstáculos que impedem as pessoas de obtê-los.\\n\\n    Destaque(amarelo) - Posição 207\\n\\n\\n    Isso é chamado de ciclo de “Inspeção e Adaptação”.\\n\\n    Destaque(amarelo) - Posição 209\\n\\n\\n    É uma ideia simples, mas executá-la exige reflexão, introspecção, honestidade e disciplina.\\n\\n    Destaque(amarelo) - Posição 212\\n\\n\\n    Os resultados finais do Scrum—ou o objetivo do projeto, se preferir—são equipes que melhoram drasticamente a produtividade.\\n\\n    Destaque(amarelo) - Posição 222\\n\\n\\n    “Os resultados são inquestionáveis. As empresas têm duas opções: mudar ou morrer”.\\n\\n    Destaque(amarelo) - Posição 235\\n\\n\\n    Ninguém deveria passar a vida fazendo um trabalho sem significado algum. Isso não apenas é ruim para os negócios, como também destrói a alma das pessoas.\\n\\n    Destaque(amarelo) - Posição 238\\n\\n\\n    Mas a pergunta que precisa ser respondida, e foi o que as equipes do Sentinela fizeram, é: o que agregará mais valor para o projeto?\\n\\n    Destaque(amarelo) - Posição 256\\n\\n\\n    “Manifesto Ágil”. Nele declaramos os seguintes valores: pessoas em vez de processos; produtos que realmente funcionem em vez de documentação dizendo como o produto deveria funcionar; trabalhar com os clientes em vez de negociar com eles; e responder às mudanças em vez de seguir um plano.\\n\\n    Destaque(amarelo) - Posição 261\\n\\n\\n    “Eu só poderei dizer a data à medida que eu vir o aprimoramento da equipe. Ou seja, o quanto vão ficar mais rápidos. O quanto eles vão conseguir acelerar”.\\n\\n    Destaque(amarelo) - Posição 278\\n\\n\\n    O Scrum funciona com a definição de objetivos sequenciais que devem ser concluídos em um período definido.\\n\\n    Destaque(amarelo) - Posição 284\\n\\n\\n    No Scrum chamamos esses ciclos de Sprint [corrida de velocidade de curta distância].\\n\\n    Destaque(amarelo) - Posição 285\\n\\n\\n    No início de cada ciclo, acontece uma reunião para planejar o Sprint. A equipe decide a quantidade de trabalho que acredita ser capaz de realizar\\n\\n    Destaque(amarelo) - Posição 286\\n\\n\\n    Eles escolhem as tarefas na lista de prioridades, as anotam em post-its e os colam na parede.\\n\\n    Destaque(amarelo) - Posição 313\\n\\n\\n    “Scrum não é sobre os desenvolvedores. Mas sim sobre os clientes e os stakeholders. Sério, era uma mudança organizacional. Mostrar o produto real era a parte mais eficaz.”\\n\\n    Destaque(amarelo) - Posição 324\\n\\n\\n    Jeff falou para sua equipe sobre uma citação que tivera de decorar quando ainda era um cadete naval. Era um trecho do discurso “Cidadania numa República”, que Teddy Roosevelt fez em Sorbonne, em 1910.\\n\\n    Destaque(amarelo) - Posição 326\\n\\n\\n    Não é o crítico que conta, não o homem que aponta como o homem forte tropeça, ou onde o executor de ações poderia ter feito melhor. O crédito pertence ao homem que está realmente na arena, com o rosto desfigurado pela poeira e suor e sangue; que se esforça corajosamente; que erra, que tenta de novo e de novo, porque não existe esforço sem erros e lacunas; mas quem realmente se esforça para fazer as obras, quem conhece grandes entusiasmos, as grandes devoções; quem consome-se em uma causa digna é quem melhor conhece, no final, o triunfo das grandes realizações, e que, na pior das hipóteses, se falhar, pelo menos não será enquanto não tiver ousado muito, de tal forma que seu lugar nunca será junto às almas frias e tímidas que não conhecem a vitória nem a derrota.6\\n\\n    Destaque(amarelo) - Posição 384\\n\\n\\n    O que o Scrum faz é promover a união das equipes para criar grandes projetos, e isso exige que todos não apenas vejam o objetivo final, mas que também façam entregas incrementais para atingi-lo.\\n\\n    Destaque(amarelo) - Posição 406\\n\\n\\n    Planejar é útil. Seguir cegamente os planos é burrice.\\n\\n    Destaque(amarelo) - Posição 410\\n\\n\\n    Inspeção e Adaptação.\\n\\n    Destaque(amarelo) - Posição 412\\n\\n\\n    Mudar ou morrer.\\n\\n    Destaque(amarelo) - Posição 414\\n\\n\\n    Fracasse rápido para que possa corrigir o problema o quanto antes.\\n\\n    CAPÍTULO 2 As origens do Scrum\\n\\n    Destaque(amarelo) - Posição 446\\n\\n\\n    Naquelas situações a adrenalina corria nas minhas veias, mas eu nunca perdi a calma. Ao contrário, o perigo quase me acalmava. Acredito que isso se deve ao treinamento que recebi na Força Aérea para aprender a controlar o risco. Lá aprendi quatro coisas: observar, avaliar, decidir e agir.\\n\\n    Destaque(amarelo) - Posição 607\\n\\n\\n    Não basta melhorar uma vez, é preciso fazê-lo constantemente. Sempre procure algo que possa ser aprimorado. Nunca, jamais, conforme-se com o lugar onde está.\\n\\n    Destaque(amarelo) - Posição 676\\n\\n\\n    Hesitação é a morte. Observe, avalie, decida, aja. Saiba onde está, avalie suas opções, tome uma decisão e aja!\\n\\n    Destaque(amarelo) - Posição 677\\n\\n\\n    Procure respostas. Sistemas adaptativos complexos seguem algumas regras simples, que aprendem a partir do ambiente em que se encontram.\\n\\n    Destaque(amarelo) - Posição 679\\n\\n\\n    Grandes equipes. São multifuncionais, autônomas, capazes de tomar decisões e motivadas por um objetivo transcendente.\\n\\n    Destaque(amarelo) - Posição 680\\n\\n\\n    Não adivinhe. Planeje (Plan—P), Faça (Do—D), Verifique (Check—C), Aja (Act—A): planeje o que vai fazer. Faça. Verifique se o resultado é o que desejava. Aja de acordo com as informações e faça as coisas de outra maneira. Repita em ciclos regulares e, ao fazer isso, obtenha um aprimoramento contínuo.\\n\\n    Destaque(amarelo) - Posição 684\\n\\n\\n    Shu Ha Ri. Primeiro, aprenda as regras e as formas e, uma vez que as dominar, faça inovações. Por fim, em um estado elevado de domínio, descarte as formas e apenas seja—com todo o aprendizado internalizado as decisões são tomadas de forma quase inconsciente.\\n\\n    CAPÍTULO 3 Equipes\\n\\n    Destaque(amarelo) - Posição 746\\n\\n\\n    1. Transcendência: elas têm um senso de propósito além do comum.\\n\\n    Destaque(amarelo) - Posição 749\\n\\n\\n    2. Autonomia: as equipes se auto-organizam e se autogerenciam;\\n\\n    Destaque(amarelo) - Posição 751\\n\\n\\n    3. Interfuncionalidade: as equipes possuem todas as habilidades necessárias para concluir o projeto: planejamento, projeção, produção, vendas e distribuição.\\n\\n    Destaque(amarelo) - Posição 810\\n\\n\\n    Tão crítica quanto, mas talvez menos celebrada, é a liberdade de fazer o seu trabalho do modo que você acredita ser o melhor, ou seja, ter autonomia.\\n\\n    Destaque(amarelo) - Posição 837\\n\\n\\n    A responsabilidade da direção da empresa é estabelecer os objetivos estratégicos, e o trabalho da equipe é decidir como atingi-los.\\n\\n    Destaque(amarelo) - Posição 882\\n\\n\\n    não existe essa separação de papéis. Cada equipe funciona com todas as pessoas participando de todos os processos, do início ao fim.\\n\\n    Destaque(amarelo) - Posição 889\\n\\n\\n    busca nas equipes é a diversidade—de conjunto de habilidade, pensamento e experiência. Ela quer equipes que sejam altruístas e autônomas, mas também precisa que sejam interfuncionais. Equipes que consigam fazer com que o projeto inteiro seja concluído.\\n\\n    Destaque(amarelo) - Posição 936\\n\\n\\n    sempre que há transferências entre equipes, existe a possibilidade de desastre.\\n\\n    Destaque(amarelo) - Posição 1004\\n\\n\\n    todos em uma equipe Scrum têm de saber o que os outros estão fazendo.\\n\\n    Destaque(amarelo) - Posição 1134\\n\\n\\n    O Scrum é sobre estabelecer o sistema certo com os devidos incentivos e dar às pessoas liberdade, respeito e autoridade para fazerem as coisas por si mesmas.\\n\\n    Destaque(amarelo) - Posição 1135\\n\\n\\n    A grandiosidade não pode ser imposta, precisa vir de dentro. E, o melhor, ela existe em todos nós.\\n\\n    CAPÍTULO 4 Tempo\\n\\n    Destaque(amarelo) - Posição 1328\\n\\n\\n    O tempo constitui sua vida, então, desperdiçá-lo, na verdade, é uma forma lenta de suicídio.\\n\\n    CAPÍTULO 5 O desperdício é um crime\\n\\n    Destaque(amarelo) - Posição 1420\\n\\n\\n    Ohno fala sobre três tipos diferentes de desperdício. Ele usou palavras japonesas: Muri, desperdício causado pela irracionalidade; Mura, desperdício causado pela inconsistência; e Muda, desperdício causado pelos resultados.\\n\\n    Destaque(amarelo) - Posição 1539\\n\\n\\n    Já foram realizadas algumas pesquisas que demonstram que ser multitarefa não apenas desperdiça o seu tempo, mas também torna você burro.\\n\\n    Destaque(amarelo) - Posição 1586\\n\\n\\n    Se você investe muito valor em coisas que não estão entregando valor, não terá recursos para fazer outras coisas\\n\\n    Destaque(amarelo) - Posição 1588\\n\\n\\n    O trabalho que não é feito e produtos que não estão sendo usados são dois aspectos da mesma coisa: esforço investido sem qualquer resultado positivo. Não faça\\n\\n    Destaque(amarelo) - Posição 1728\\n\\n\\n    O Scrum pede às pessoas que adotam esse método para quebrar o paradigma de medir o trabalho apenas em horas. A hora por si só representa um custo. Em vez disso, a medida deve ser feita em resultados. Quem se importa com o número de horas que alguém trabalhou em algo? Tudo que importa é a rapidez e a qualidade com que ele é entregue.\\n\\n    Destaque(amarelo) - Posição 1765\\n\\n\\n    Ser multitarefa emburrece. Fazer mais de uma coisa de cada vez diminui seu desempenho tanto em termos de tempo quanto de qualidade nas duas tarefas.\\n\\n    Destaque(amarelo) - Posição 1767\\n\\n\\n    Fazer pela metade não é fazer.\\n\\n    Destaque(amarelo) - Posição 1770\\n\\n\\n    Fazer certo da primeira vez. Quando você cometer um erro, corrija-o imediatamente. Pare todo o resto e resolva o problema que tem em mãos. Corrigir mais tarde pode levar vinte vezes mais tempo do que corrigir agora.\\n\\n    Destaque(amarelo) - Posição 1772\\n\\n\\n    Trabalhar demais só resulta em mais trabalho. Trabalhar até tarde não resulta em mais produtividade; ao contrário: diminui a produtividade. Trabalhar demais resulta em fatiga, que leva a erros, que leva a necessidade de consertar algo que você acabou de terminar.\\n\\n    Destaque(amarelo) - Posição 1786\\n\\n\\n    Busque o fluxo. Opte pelo modo mais suave e sem problemas de concluir uma tarefa. O Scrum é sobre possibilitar o maior fluxo possível.\\n\\n    CAPÍTULO 6 Planeje a realidade, não a fantasia\\n\\n    Destaque(amarelo) - Posição 1858\\n\\n\\n    o simples fato de planejar é tão sedutor, tão atraente, que o planejamento se torna mais importante do que o plano efetivo. E o plano, por sua vez, se torna mais importante do que a realidade. Nunca se esqueça: o mapa não é o terreno.\\n\\n    Destaque(amarelo) - Posição 2004\\n\\n\\n\\n    Destaque(amarelo) - Posição 2147\\n\\n\\n    Para quem a tarefa será realizada? Através das lentes de quem precisamos olhar quando estamos construindo isso, tomando aquela decisão, ou entregando uma peça?\\n\\n    Destaque(amarelo) - Posição 2148\\n\\n\\n    você precisa pensar no quê—no que quer que seja feito primeiro.\\n\\n    Destaque(amarelo) - Posição 2150\\n\\n\\n    Por fim, você precisa pensar em motivação. Por que esse personagem quer isso? Como isso vai ajudar e maravilhar esse cliente específico? E, de certo modo, essa é a parte principal.\\n\\n    Destaque(amarelo) - Posição 2166\\n\\n\\n    Então, antes de priorizar o que precisa ser feito em sua empresa, você precisa definir o personagem, o usuário, o cliente—a pessoa que vai usar o que você vai produzir.\\n\\n    Destaque(amarelo) - Posição 2172\\n\\n\\n    Ao escrever as suas histórias, porém, você deve se certificar de que elas sejam curtas o suficiente para que você consiga estimá-las.\\n\\n    Destaque(amarelo) - Posição 2183\\n\\n\\n    Lembre-se: a equipe decide de que forma o trabalho será realizado, mas o que será realizado é decidido pelo valor que traz aos negócios.\\n\\n    Destaque(amarelo) - Posição 2314\\n\\n\\n    PONTOS PRINCIPAIS O mapa não é o terreno. Não se apaixone pelo seu plano. É quase certo que ele esteja errado. Planeje apenas o necessário. Não tente projetar tudo com anos de antecedência. Planeje o suficiente para manter as equipes ocupadas. Raças de cachorro. Não faça estimativas usando termos absolutos, como horas—já foi provado inúmeras vezes que os seres humanos são péssimos nisso. Defina o tamanho dos problemas de forma relativa, de acordo com uma raça do cachorro ou o tamanho de uma camiseta (P, M, G, GG, XG), ou, o que é mais comum, usando a sequência de Fibonacci. Pergunte ao oráculo. Use uma técnica cega, como o método Delphi, para evitar preconceitos de segurança, como os efeitos de manada ou halo, ou apenas um modo burro de pensamento em grupo. Pôquer do planejamento. Use essa técnica para estimar rapidamente o trabalho que precisa ser feito. O trabalho é uma história. Pense primeiro sobre quem vai obter valor com algo, então, pense no que é, e, então, por que eles precisam daquilo. Os seres humanos pensam em uma estrutura narrativa, então dê isso a eles. Por exemplo: “como X, eu quero Y, para conseguir Z”. Conheça a sua velocidade. Toda equipe deve saber exatamente quanto trabalho consegue realizar a cada Sprint. E eles devem saber o quanto podem melhorar a própria velocidade ao trabalhar de forma mais inteligente, removendo as barreiras que os tornam mais lentos. Velocidade x Tempo = Entrega. Uma vez que você saiba a velocidade com que trabalha, saberá quanto tempo levará para chegar lá. Defina objetivos audaciosos. Com o Scrum não é difícil dobrar a produção ou cortar o cronograma de entrega pela metade. Se você fizer as coisas da forma certa, a sua receita e o preço das suas ações também devem dobrar.\\n\\n    CAPÍTULO 7 Felicidade\\n\\n    Destaque(amarelo) - Posição 2360\\n\\n\\n    “nós não somos recompensados por apreciarmos a jornada em si, mas por um término bem-sucedido. A sociedade recompensa resultados, não processos; chegadas, não jornadas”.\\n\\n    Destaque(amarelo) - Posição 2362\\n\\n\\n    A maior parte dos nossos dias é dedicada a seguirmos em direção aos nossos objetivos, independente de quais sejam.\\n\\n\\n\\n'"
      ]
     },
     "execution_count": 6,
     "metadata": {},
     "output_type": "execute_result"
    }
   ],
   "source": [
    "soup.get_text()"
   ]
  },
  {
   "cell_type": "code",
   "execution_count": 7,
   "metadata": {},
   "outputs": [],
   "source": [
    "html_pedacos = soup.find_all(['div'])"
   ]
  },
  {
   "cell_type": "code",
   "execution_count": 8,
   "metadata": {},
   "outputs": [
    {
     "data": {
      "text/plain": [
       "<div class=\"sectionHeading\">\n",
       "    CAPÍTULO 1 A maneira como o mundo funciona está quebrada\n",
       "</div>"
      ]
     },
     "execution_count": 8,
     "metadata": {},
     "output_type": "execute_result"
    }
   ],
   "source": [
    "html_pedacos[5]"
   ]
  },
  {
   "cell_type": "code",
   "execution_count": 9,
   "metadata": {},
   "outputs": [
    {
     "name": "stdout",
     "output_type": "stream",
     "text": [
      "\n",
      "\n",
      "\n",
      "\n",
      "\n",
      "\n",
      "\n",
      "\n",
      "\n",
      "\n",
      "                Exportação do Caderno de anotações\n",
      "            \n",
      "\n",
      "                Scrum - a arte de fazer o dobro de trabalho na metade do tempo\n",
      "            \n",
      "\n",
      "                Jeff Sutherland\n",
      "            \n",
      "\n",
      "                Citação (Estilo Chicago): Sutherland, Jeff. Scrum - a arte de fazer o dobro de trabalho na metade do tempo. , 2021. Kindle edition.\n",
      "            \n",
      "\n",
      "\n",
      "    CAPÍTULO 1 A maneira como o mundo funciona está quebrada\n",
      "\n",
      "    Destaque(amarelo) - Posição 204\n",
      "\n",
      "\n",
      "    Em essência, o Scrum tem como base uma ideia simples: ao começar um projeto, por que não fazer paradas regulares para verificar se o que está sendo feito está seguindo na direção certa, e se, na verdade, os resultados são os que as pessoas desejam? E verificar se existem maneiras de aprimorar a forma como se está trabalhando para obter resultados melhores e executados mais rapidamente, e quais seriam os obstáculos que impedem as pessoas de obtê-los.\n",
      "\n",
      "    Destaque(amarelo) - Posição 207\n",
      "\n",
      "\n",
      "    Isso é chamado de ciclo de “Inspeção e Adaptação”.\n",
      "\n",
      "    Destaque(amarelo) - Posição 209\n",
      "\n",
      "\n",
      "    É uma ideia simples, mas executá-la exige reflexão, introspecção, honestidade e disciplina.\n",
      "\n",
      "    Destaque(amarelo) - Posição 212\n",
      "\n",
      "\n",
      "    Os resultados finais do Scrum—ou o objetivo do projeto, se preferir—são equipes que melhoram drasticamente a produtividade.\n",
      "\n",
      "    Destaque(amarelo) - Posição 222\n",
      "\n",
      "\n",
      "    “Os resultados são inquestionáveis. As empresas têm duas opções: mudar ou morrer”.\n",
      "\n",
      "    Destaque(amarelo) - Posição 235\n",
      "\n",
      "\n",
      "    Ninguém deveria passar a vida fazendo um trabalho sem significado algum. Isso não apenas é ruim para os negócios, como também destrói a alma das pessoas.\n",
      "\n",
      "    Destaque(amarelo) - Posição 238\n",
      "\n",
      "\n",
      "    Mas a pergunta que precisa ser respondida, e foi o que as equipes do Sentinela fizeram, é: o que agregará mais valor para o projeto?\n",
      "\n",
      "    Destaque(amarelo) - Posição 256\n",
      "\n",
      "\n",
      "    “Manifesto Ágil”. Nele declaramos os seguintes valores: pessoas em vez de processos; produtos que realmente funcionem em vez de documentação dizendo como o produto deveria funcionar; trabalhar com os clientes em vez de negociar com eles; e responder às mudanças em vez de seguir um plano.\n",
      "\n",
      "    Destaque(amarelo) - Posição 261\n",
      "\n",
      "\n",
      "    “Eu só poderei dizer a data à medida que eu vir o aprimoramento da equipe. Ou seja, o quanto vão ficar mais rápidos. O quanto eles vão conseguir acelerar”.\n",
      "\n",
      "    Destaque(amarelo) - Posição 278\n",
      "\n",
      "\n",
      "    O Scrum funciona com a definição de objetivos sequenciais que devem ser concluídos em um período definido.\n",
      "\n",
      "    Destaque(amarelo) - Posição 284\n",
      "\n",
      "\n",
      "    No Scrum chamamos esses ciclos de Sprint [corrida de velocidade de curta distância].\n",
      "\n",
      "    Destaque(amarelo) - Posição 285\n",
      "\n",
      "\n",
      "    No início de cada ciclo, acontece uma reunião para planejar o Sprint. A equipe decide a quantidade de trabalho que acredita ser capaz de realizar\n",
      "\n",
      "    Destaque(amarelo) - Posição 286\n",
      "\n",
      "\n",
      "    Eles escolhem as tarefas na lista de prioridades, as anotam em post-its e os colam na parede.\n",
      "\n",
      "    Destaque(amarelo) - Posição 313\n",
      "\n",
      "\n",
      "    “Scrum não é sobre os desenvolvedores. Mas sim sobre os clientes e os stakeholders. Sério, era uma mudança organizacional. Mostrar o produto real era a parte mais eficaz.”\n",
      "\n",
      "    Destaque(amarelo) - Posição 324\n",
      "\n",
      "\n",
      "    Jeff falou para sua equipe sobre uma citação que tivera de decorar quando ainda era um cadete naval. Era um trecho do discurso “Cidadania numa República”, que Teddy Roosevelt fez em Sorbonne, em 1910.\n",
      "\n",
      "    Destaque(amarelo) - Posição 326\n",
      "\n",
      "\n",
      "    Não é o crítico que conta, não o homem que aponta como o homem forte tropeça, ou onde o executor de ações poderia ter feito melhor. O crédito pertence ao homem que está realmente na arena, com o rosto desfigurado pela poeira e suor e sangue; que se esforça corajosamente; que erra, que tenta de novo e de novo, porque não existe esforço sem erros e lacunas; mas quem realmente se esforça para fazer as obras, quem conhece grandes entusiasmos, as grandes devoções; quem consome-se em uma causa digna é quem melhor conhece, no final, o triunfo das grandes realizações, e que, na pior das hipóteses, se falhar, pelo menos não será enquanto não tiver ousado muito, de tal forma que seu lugar nunca será junto às almas frias e tímidas que não conhecem a vitória nem a derrota.6\n",
      "\n",
      "    Destaque(amarelo) - Posição 384\n",
      "\n",
      "\n",
      "    O que o Scrum faz é promover a união das equipes para criar grandes projetos, e isso exige que todos não apenas vejam o objetivo final, mas que também façam entregas incrementais para atingi-lo.\n",
      "\n",
      "    Destaque(amarelo) - Posição 406\n",
      "\n",
      "\n",
      "    Planejar é útil. Seguir cegamente os planos é burrice.\n",
      "\n",
      "    Destaque(amarelo) - Posição 410\n",
      "\n",
      "\n",
      "    Inspeção e Adaptação.\n",
      "\n",
      "    Destaque(amarelo) - Posição 412\n",
      "\n",
      "\n",
      "    Mudar ou morrer.\n",
      "\n",
      "    Destaque(amarelo) - Posição 414\n",
      "\n",
      "\n",
      "    Fracasse rápido para que possa corrigir o problema o quanto antes.\n",
      "\n",
      "    CAPÍTULO 2 As origens do Scrum\n",
      "\n",
      "    Destaque(amarelo) - Posição 446\n",
      "\n",
      "\n",
      "    Naquelas situações a adrenalina corria nas minhas veias, mas eu nunca perdi a calma. Ao contrário, o perigo quase me acalmava. Acredito que isso se deve ao treinamento que recebi na Força Aérea para aprender a controlar o risco. Lá aprendi quatro coisas: observar, avaliar, decidir e agir.\n",
      "\n",
      "    Destaque(amarelo) - Posição 607\n",
      "\n",
      "\n",
      "    Não basta melhorar uma vez, é preciso fazê-lo constantemente. Sempre procure algo que possa ser aprimorado. Nunca, jamais, conforme-se com o lugar onde está.\n",
      "\n",
      "    Destaque(amarelo) - Posição 676\n",
      "\n",
      "\n",
      "    Hesitação é a morte. Observe, avalie, decida, aja. Saiba onde está, avalie suas opções, tome uma decisão e aja!\n",
      "\n",
      "    Destaque(amarelo) - Posição 677\n",
      "\n",
      "\n",
      "    Procure respostas. Sistemas adaptativos complexos seguem algumas regras simples, que aprendem a partir do ambiente em que se encontram.\n",
      "\n",
      "    Destaque(amarelo) - Posição 679\n",
      "\n",
      "\n",
      "    Grandes equipes. São multifuncionais, autônomas, capazes de tomar decisões e motivadas por um objetivo transcendente.\n",
      "\n",
      "    Destaque(amarelo) - Posição 680\n",
      "\n",
      "\n",
      "    Não adivinhe. Planeje (Plan—P), Faça (Do—D), Verifique (Check—C), Aja (Act—A): planeje o que vai fazer. Faça. Verifique se o resultado é o que desejava. Aja de acordo com as informações e faça as coisas de outra maneira. Repita em ciclos regulares e, ao fazer isso, obtenha um aprimoramento contínuo.\n",
      "\n",
      "    Destaque(amarelo) - Posição 684\n",
      "\n",
      "\n",
      "    Shu Ha Ri. Primeiro, aprenda as regras e as formas e, uma vez que as dominar, faça inovações. Por fim, em um estado elevado de domínio, descarte as formas e apenas seja—com todo o aprendizado internalizado as decisões são tomadas de forma quase inconsciente.\n",
      "\n",
      "    CAPÍTULO 3 Equipes\n",
      "\n",
      "    Destaque(amarelo) - Posição 746\n",
      "\n",
      "\n",
      "    1. Transcendência: elas têm um senso de propósito além do comum.\n",
      "\n",
      "    Destaque(amarelo) - Posição 749\n",
      "\n",
      "\n",
      "    2. Autonomia: as equipes se auto-organizam e se autogerenciam;\n",
      "\n",
      "    Destaque(amarelo) - Posição 751\n",
      "\n",
      "\n",
      "    3. Interfuncionalidade: as equipes possuem todas as habilidades necessárias para concluir o projeto: planejamento, projeção, produção, vendas e distribuição.\n",
      "\n",
      "    Destaque(amarelo) - Posição 810\n",
      "\n",
      "\n",
      "    Tão crítica quanto, mas talvez menos celebrada, é a liberdade de fazer o seu trabalho do modo que você acredita ser o melhor, ou seja, ter autonomia.\n",
      "\n",
      "    Destaque(amarelo) - Posição 837\n",
      "\n",
      "\n",
      "    A responsabilidade da direção da empresa é estabelecer os objetivos estratégicos, e o trabalho da equipe é decidir como atingi-los.\n",
      "\n",
      "    Destaque(amarelo) - Posição 882\n",
      "\n",
      "\n",
      "    não existe essa separação de papéis. Cada equipe funciona com todas as pessoas participando de todos os processos, do início ao fim.\n",
      "\n",
      "    Destaque(amarelo) - Posição 889\n",
      "\n",
      "\n",
      "    busca nas equipes é a diversidade—de conjunto de habilidade, pensamento e experiência. Ela quer equipes que sejam altruístas e autônomas, mas também precisa que sejam interfuncionais. Equipes que consigam fazer com que o projeto inteiro seja concluído.\n",
      "\n",
      "    Destaque(amarelo) - Posição 936\n",
      "\n",
      "\n",
      "    sempre que há transferências entre equipes, existe a possibilidade de desastre.\n",
      "\n",
      "    Destaque(amarelo) - Posição 1004\n",
      "\n",
      "\n",
      "    todos em uma equipe Scrum têm de saber o que os outros estão fazendo.\n",
      "\n",
      "    Destaque(amarelo) - Posição 1134\n",
      "\n",
      "\n",
      "    O Scrum é sobre estabelecer o sistema certo com os devidos incentivos e dar às pessoas liberdade, respeito e autoridade para fazerem as coisas por si mesmas.\n",
      "\n",
      "    Destaque(amarelo) - Posição 1135\n",
      "\n",
      "\n",
      "    A grandiosidade não pode ser imposta, precisa vir de dentro. E, o melhor, ela existe em todos nós.\n",
      "\n",
      "    CAPÍTULO 4 Tempo\n",
      "\n",
      "    Destaque(amarelo) - Posição 1328\n",
      "\n",
      "\n",
      "    O tempo constitui sua vida, então, desperdiçá-lo, na verdade, é uma forma lenta de suicídio.\n",
      "\n",
      "    CAPÍTULO 5 O desperdício é um crime\n",
      "\n",
      "    Destaque(amarelo) - Posição 1420\n",
      "\n",
      "\n",
      "    Ohno fala sobre três tipos diferentes de desperdício. Ele usou palavras japonesas: Muri, desperdício causado pela irracionalidade; Mura, desperdício causado pela inconsistência; e Muda, desperdício causado pelos resultados.\n",
      "\n",
      "    Destaque(amarelo) - Posição 1539\n",
      "\n",
      "\n",
      "    Já foram realizadas algumas pesquisas que demonstram que ser multitarefa não apenas desperdiça o seu tempo, mas também torna você burro.\n",
      "\n",
      "    Destaque(amarelo) - Posição 1586\n",
      "\n",
      "\n",
      "    Se você investe muito valor em coisas que não estão entregando valor, não terá recursos para fazer outras coisas\n",
      "\n",
      "    Destaque(amarelo) - Posição 1588\n",
      "\n",
      "\n",
      "    O trabalho que não é feito e produtos que não estão sendo usados são dois aspectos da mesma coisa: esforço investido sem qualquer resultado positivo. Não faça\n",
      "\n",
      "    Destaque(amarelo) - Posição 1728\n",
      "\n",
      "\n",
      "    O Scrum pede às pessoas que adotam esse método para quebrar o paradigma de medir o trabalho apenas em horas. A hora por si só representa um custo. Em vez disso, a medida deve ser feita em resultados. Quem se importa com o número de horas que alguém trabalhou em algo? Tudo que importa é a rapidez e a qualidade com que ele é entregue.\n",
      "\n",
      "    Destaque(amarelo) - Posição 1765\n",
      "\n",
      "\n",
      "    Ser multitarefa emburrece. Fazer mais de uma coisa de cada vez diminui seu desempenho tanto em termos de tempo quanto de qualidade nas duas tarefas.\n",
      "\n",
      "    Destaque(amarelo) - Posição 1767\n",
      "\n",
      "\n",
      "    Fazer pela metade não é fazer.\n",
      "\n",
      "    Destaque(amarelo) - Posição 1770\n",
      "\n",
      "\n",
      "    Fazer certo da primeira vez. Quando você cometer um erro, corrija-o imediatamente. Pare todo o resto e resolva o problema que tem em mãos. Corrigir mais tarde pode levar vinte vezes mais tempo do que corrigir agora.\n",
      "\n",
      "    Destaque(amarelo) - Posição 1772\n",
      "\n",
      "\n",
      "    Trabalhar demais só resulta em mais trabalho. Trabalhar até tarde não resulta em mais produtividade; ao contrário: diminui a produtividade. Trabalhar demais resulta em fatiga, que leva a erros, que leva a necessidade de consertar algo que você acabou de terminar.\n",
      "\n",
      "    Destaque(amarelo) - Posição 1786\n",
      "\n",
      "\n",
      "    Busque o fluxo. Opte pelo modo mais suave e sem problemas de concluir uma tarefa. O Scrum é sobre possibilitar o maior fluxo possível.\n",
      "\n",
      "    CAPÍTULO 6 Planeje a realidade, não a fantasia\n",
      "\n",
      "    Destaque(amarelo) - Posição 1858\n",
      "\n",
      "\n",
      "    o simples fato de planejar é tão sedutor, tão atraente, que o planejamento se torna mais importante do que o plano efetivo. E o plano, por sua vez, se torna mais importante do que a realidade. Nunca se esqueça: o mapa não é o terreno.\n",
      "\n",
      "    Destaque(amarelo) - Posição 2004\n",
      "\n",
      "\n",
      "\n",
      "    Destaque(amarelo) - Posição 2147\n",
      "\n",
      "\n",
      "    Para quem a tarefa será realizada? Através das lentes de quem precisamos olhar quando estamos construindo isso, tomando aquela decisão, ou entregando uma peça?\n",
      "\n",
      "    Destaque(amarelo) - Posição 2148\n",
      "\n",
      "\n",
      "    você precisa pensar no quê—no que quer que seja feito primeiro.\n",
      "\n",
      "    Destaque(amarelo) - Posição 2150\n",
      "\n",
      "\n",
      "    Por fim, você precisa pensar em motivação. Por que esse personagem quer isso? Como isso vai ajudar e maravilhar esse cliente específico? E, de certo modo, essa é a parte principal.\n",
      "\n",
      "    Destaque(amarelo) - Posição 2166\n",
      "\n",
      "\n",
      "    Então, antes de priorizar o que precisa ser feito em sua empresa, você precisa definir o personagem, o usuário, o cliente—a pessoa que vai usar o que você vai produzir.\n",
      "\n",
      "    Destaque(amarelo) - Posição 2172\n",
      "\n",
      "\n",
      "    Ao escrever as suas histórias, porém, você deve se certificar de que elas sejam curtas o suficiente para que você consiga estimá-las.\n",
      "\n",
      "    Destaque(amarelo) - Posição 2183\n",
      "\n",
      "\n",
      "    Lembre-se: a equipe decide de que forma o trabalho será realizado, mas o que será realizado é decidido pelo valor que traz aos negócios.\n",
      "\n",
      "    Destaque(amarelo) - Posição 2314\n",
      "\n",
      "\n",
      "    PONTOS PRINCIPAIS O mapa não é o terreno. Não se apaixone pelo seu plano. É quase certo que ele esteja errado. Planeje apenas o necessário. Não tente projetar tudo com anos de antecedência. Planeje o suficiente para manter as equipes ocupadas. Raças de cachorro. Não faça estimativas usando termos absolutos, como horas—já foi provado inúmeras vezes que os seres humanos são péssimos nisso. Defina o tamanho dos problemas de forma relativa, de acordo com uma raça do cachorro ou o tamanho de uma camiseta (P, M, G, GG, XG), ou, o que é mais comum, usando a sequência de Fibonacci. Pergunte ao oráculo. Use uma técnica cega, como o método Delphi, para evitar preconceitos de segurança, como os efeitos de manada ou halo, ou apenas um modo burro de pensamento em grupo. Pôquer do planejamento. Use essa técnica para estimar rapidamente o trabalho que precisa ser feito. O trabalho é uma história. Pense primeiro sobre quem vai obter valor com algo, então, pense no que é, e, então, por que eles precisam daquilo. Os seres humanos pensam em uma estrutura narrativa, então dê isso a eles. Por exemplo: “como X, eu quero Y, para conseguir Z”. Conheça a sua velocidade. Toda equipe deve saber exatamente quanto trabalho consegue realizar a cada Sprint. E eles devem saber o quanto podem melhorar a própria velocidade ao trabalhar de forma mais inteligente, removendo as barreiras que os tornam mais lentos. Velocidade x Tempo = Entrega. Uma vez que você saiba a velocidade com que trabalha, saberá quanto tempo levará para chegar lá. Defina objetivos audaciosos. Com o Scrum não é difícil dobrar a produção ou cortar o cronograma de entrega pela metade. Se você fizer as coisas da forma certa, a sua receita e o preço das suas ações também devem dobrar.\n",
      "\n",
      "    CAPÍTULO 7 Felicidade\n",
      "\n",
      "    Destaque(amarelo) - Posição 2360\n",
      "\n",
      "\n",
      "    “nós não somos recompensados por apreciarmos a jornada em si, mas por um término bem-sucedido. A sociedade recompensa resultados, não processos; chegadas, não jornadas”.\n",
      "\n",
      "    Destaque(amarelo) - Posição 2362\n",
      "\n",
      "\n",
      "    A maior parte dos nossos dias é dedicada a seguirmos em direção aos nossos objetivos, independente de quais sejam.\n",
      "\n",
      "\n",
      "\n",
      "\n"
     ]
    }
   ],
   "source": [
    "print(soup.get_text())"
   ]
  },
  {
   "cell_type": "code",
   "execution_count": 10,
   "metadata": {},
   "outputs": [],
   "source": [
    "for text in soup.stripped_strings:\n",
    "    text = {}\n",
    "    text = soup.get_text(\",\", strip=True)"
   ]
  },
  {
   "cell_type": "code",
   "execution_count": 14,
   "metadata": {},
   "outputs": [
    {
     "data": {
      "text/plain": [
       "str"
      ]
     },
     "execution_count": 14,
     "metadata": {},
     "output_type": "execute_result"
    }
   ],
   "source": [
    "    for text in soup.stripped_strings:\n",
    "        text = []\n",
    "        text = soup.get_text(\"|\", strip=True)\n",
    "        # Pule as linhas que não contém tags html\n",
    "        if isinstance(text, str):\n",
    "            continue\n",
    "        # Assume que a primeira linha com conteúdo são os cabeçalhos\n",
    "        if not headers:\n",
    "            # cria uma lista com o conteúdo de texto de cada tag na linha:\n",
    "            headers = [cell.get_text() for cell in text]\n",
    "            continue\n",
    "\n",
    "        row_contents = [cell.get_text() for cell in text]\n",
    "        data_dict = OrderedDict(pair for pair in zip(headers, row_contents))\n",
    "        text.append(data_dict)\n",
    "\n",
    "type(text)"
   ]
  },
  {
   "cell_type": "code",
   "execution_count": 36,
   "metadata": {},
   "outputs": [],
   "source": [
    "with open('vaiLa.csv', 'a') as arquivo:\n",
    "    arquivo.write(text)\n",
    "\n",
    "arquivo.close()"
   ]
  },
  {
   "cell_type": "code",
   "execution_count": 39,
   "metadata": {},
   "outputs": [],
   "source": [
    "csv_html = pd.read_csv('vaiLa.csv')"
   ]
  },
  {
   "cell_type": "code",
   "execution_count": 40,
   "metadata": {},
   "outputs": [
    {
     "data": {
      "text/html": [
       "<div>\n",
       "<style scoped>\n",
       "    .dataframe tbody tr th:only-of-type {\n",
       "        vertical-align: middle;\n",
       "    }\n",
       "\n",
       "    .dataframe tbody tr th {\n",
       "        vertical-align: top;\n",
       "    }\n",
       "\n",
       "    .dataframe thead th {\n",
       "        text-align: right;\n",
       "    }\n",
       "</style>\n",
       "<table border=\"1\" class=\"dataframe\">\n",
       "  <thead>\n",
       "    <tr style=\"text-align: right;\">\n",
       "      <th></th>\n",
       "      <th>Exportação do Caderno de anotações|Scrum - a arte de fazer o dobro de trabalho na metade do tempo|Jeff Sutherland|Citação (Estilo Chicago): Sutherland</th>\n",
       "      <th>Jeff.|Scrum - a arte de fazer o dobro de trabalho na metade do tempo|.</th>\n",
       "      <th>2021. Kindle edition.|CAPÍTULO 1 A maneira como o mundo funciona está quebrada|Destaque(|amarelo|) - Posição 204|Em essência</th>\n",
       "      <th>o Scrum tem como base uma ideia simples: ao começar um projeto</th>\n",
       "      <th>por que não fazer paradas regulares para verificar se o que está sendo feito está seguindo na direção certa</th>\n",
       "      <th>e se</th>\n",
       "      <th>na verdade</th>\n",
       "      <th>os resultados são os que as pessoas desejam? E verificar se existem maneiras de aprimorar a forma como se está trabalhando para obter resultados melhores e executados mais rapidamente</th>\n",
       "      <th>e quais seriam os obstáculos que impedem as pessoas de obtê-los.|Destaque(|amarelo|) - Posição 207|Isso é chamado de ciclo de “Inspeção e Adaptação”.|Destaque(|amarelo|) - Posição 209|É uma ideia simples</th>\n",
       "      <th>mas executá-la exige reflexão</th>\n",
       "      <th>...</th>\n",
       "      <th>então dê isso a eles. Por exemplo: “como X</th>\n",
       "      <th>eu quero Y</th>\n",
       "      <th>para conseguir Z”. Conheça a sua velocidade. Toda equipe deve saber exatamente quanto trabalho consegue realizar a cada Sprint. E eles devem saber o quanto podem melhorar a própria velocidade ao trabalhar de forma mais inteligente</th>\n",
       "      <th>removendo as barreiras que os tornam mais lentos. Velocidade x Tempo = Entrega. Uma vez que você saiba a velocidade com que trabalha</th>\n",
       "      <th>saberá quanto tempo levará para chegar lá. Defina objetivos audaciosos. Com o Scrum não é difícil dobrar a produção ou cortar o cronograma de entrega pela metade. Se você fizer as coisas da forma certa</th>\n",
       "      <th>a sua receita e o preço das suas ações também devem dobrar.|CAPÍTULO 7 Felicidade|Destaque(|amarelo|) - Posição 2360|“nós não somos recompensados por apreciarmos a jornada em si</th>\n",
       "      <th>mas por um término bem-sucedido. A sociedade recompensa resultados</th>\n",
       "      <th>não processos; chegadas</th>\n",
       "      <th>não jornadas”.|Destaque(|amarelo|) - Posição 2362|A maior parte dos nossos dias é dedicada a seguirmos em direção aos nossos objetivos</th>\n",
       "      <th>independente de quais sejam.</th>\n",
       "    </tr>\n",
       "  </thead>\n",
       "  <tbody>\n",
       "  </tbody>\n",
       "</table>\n",
       "<p>0 rows × 137 columns</p>\n",
       "</div>"
      ],
      "text/plain": [
       "Empty DataFrame\n",
       "Columns: [Exportação do Caderno de anotações|Scrum - a arte de fazer o dobro de trabalho na metade do tempo|Jeff Sutherland|Citação (Estilo Chicago): Sutherland,  Jeff.|Scrum - a arte de fazer o dobro de trabalho na metade do tempo|. ,  2021. Kindle edition.|CAPÍTULO 1 A maneira como o mundo funciona está quebrada|Destaque(|amarelo|) - Posição 204|Em essência,  o Scrum tem como base uma ideia simples: ao começar um projeto,  por que não fazer paradas regulares para verificar se o que está sendo feito está seguindo na direção certa,  e se,  na verdade,  os resultados são os que as pessoas desejam? E verificar se existem maneiras de aprimorar a forma como se está trabalhando para obter resultados melhores e executados mais rapidamente,  e quais seriam os obstáculos que impedem as pessoas de obtê-los.|Destaque(|amarelo|) - Posição 207|Isso é chamado de ciclo de “Inspeção e Adaptação”.|Destaque(|amarelo|) - Posição 209|É uma ideia simples,  mas executá-la exige reflexão,  introspecção,  honestidade e disciplina.|Destaque(|amarelo|) - Posição 212|Os resultados finais do Scrum—ou o objetivo do projeto,  se preferir—são equipes que melhoram drasticamente a produtividade.|Destaque(|amarelo|) - Posição 222|“Os resultados são inquestionáveis. As empresas têm duas opções: mudar ou morrer”.|Destaque(|amarelo|) - Posição 235|Ninguém deveria passar a vida fazendo um trabalho sem significado algum. Isso não apenas é ruim para os negócios,  como também destrói a alma das pessoas.|Destaque(|amarelo|) - Posição 238|Mas a pergunta que precisa ser respondida,  e foi o que as equipes do Sentinela fizeram,  é: o que agregará mais valor para o projeto?|Destaque(|amarelo|) - Posição 256|“Manifesto Ágil”. Nele declaramos os seguintes valores: pessoas em vez de processos; produtos que realmente funcionem em vez de documentação dizendo como o produto deveria funcionar; trabalhar com os clientes em vez de negociar com eles; e responder às mudanças em vez de seguir um plano.|Destaque(|amarelo|) - Posição 261|“Eu só poderei dizer a data à medida que eu vir o aprimoramento da equipe. Ou seja,  o quanto vão ficar mais rápidos. O quanto eles vão conseguir acelerar”.|Destaque(|amarelo|) - Posição 278|O Scrum funciona com a definição de objetivos sequenciais que devem ser concluídos em um período definido.|Destaque(|amarelo|) - Posição 284|No Scrum chamamos esses ciclos de Sprint [corrida de velocidade de curta distância].|Destaque(|amarelo|) - Posição 285|No início de cada ciclo,  acontece uma reunião para planejar o Sprint. A equipe decide a quantidade de trabalho que acredita ser capaz de realizar|Destaque(|amarelo|) - Posição 286|Eles escolhem as tarefas na lista de prioridades,  as anotam em post-its e os colam na parede.|Destaque(|amarelo|) - Posição 313|“Scrum não é sobre os desenvolvedores. Mas sim sobre os clientes e os stakeholders. Sério,  era uma mudança organizacional. Mostrar o produto real era a parte mais eficaz.”|Destaque(|amarelo|) - Posição 324|Jeff falou para sua equipe sobre uma citação que tivera de decorar quando ainda era um cadete naval. Era um trecho do discurso “Cidadania numa República”,  que Teddy Roosevelt fez em Sorbonne,  em 1910.|Destaque(|amarelo|) - Posição 326|Não é o crítico que conta,  não o homem que aponta como o homem forte tropeça,  ou onde o executor de ações poderia ter feito melhor. O crédito pertence ao homem que está realmente na arena,  com o rosto desfigurado pela poeira e suor e sangue; que se esforça corajosamente; que erra,  que tenta de novo e de novo,  porque não existe esforço sem erros e lacunas; mas quem realmente se esforça para fazer as obras,  quem conhece grandes entusiasmos,  as grandes devoções; quem consome-se em uma causa digna é quem melhor conhece,  no final,  o triunfo das grandes realizações,  e que,  na pior das hipóteses,  se falhar,  pelo menos não será enquanto não tiver ousado muito,  de tal forma que seu lugar nunca será junto às almas frias e tímidas que não conhecem a vitória nem a derrota.6|Destaque(|amarelo|) - Posição 384|O que o Scrum faz é promover a união das equipes para criar grandes projetos,  e isso exige que todos não apenas vejam o objetivo final,  mas que também façam entregas incrementais para atingi-lo.|Destaque(|amarelo|) - Posição 406|Planejar é útil. Seguir cegamente os planos é burrice.|Destaque(|amarelo|) - Posição 410|Inspeção e Adaptação.|Destaque(|amarelo|) - Posição 412|Mudar ou morrer.|Destaque(|amarelo|) - Posição 414|Fracasse rápido para que possa corrigir o problema o quanto antes.|CAPÍTULO 2 As origens do Scrum|Destaque(|amarelo|) - Posição 446|Naquelas situações a adrenalina corria nas minhas veias,  mas eu nunca perdi a calma. Ao contrário,  o perigo quase me acalmava. Acredito que isso se deve ao treinamento que recebi na Força Aérea para aprender a controlar o risco. Lá aprendi quatro coisas: observar,  avaliar,  decidir e agir.|Destaque(|amarelo|) - Posição 607|Não basta melhorar uma vez,  é preciso fazê-lo constantemente. Sempre procure algo que possa ser aprimorado. Nunca,  jamais,  conforme-se com o lugar onde está.|Destaque(|amarelo|) - Posição 676|Hesitação é a morte. Observe,  avalie,  decida,  aja. Saiba onde está,  avalie suas opções,  tome uma decisão e aja!|Destaque(|amarelo|) - Posição 677|Procure respostas. Sistemas adaptativos complexos seguem algumas regras simples,  que aprendem a partir do ambiente em que se encontram.|Destaque(|amarelo|) - Posição 679|Grandes equipes. São multifuncionais,  autônomas,  capazes de tomar decisões e motivadas por um objetivo transcendente.|Destaque(|amarelo|) - Posição 680|Não adivinhe. Planeje (Plan—P),  Faça (Do—D),  Verifique (Check—C),  Aja (Act—A): planeje o que vai fazer. Faça. Verifique se o resultado é o que desejava. Aja de acordo com as informações e faça as coisas de outra maneira. Repita em ciclos regulares e,  ao fazer isso,  obtenha um aprimoramento contínuo.|Destaque(|amarelo|) - Posição 684|Shu Ha Ri. Primeiro,  aprenda as regras e as formas e,  uma vez que as dominar,  faça inovações. Por fim,  em um estado elevado de domínio,  descarte as formas e apenas seja—com todo o aprendizado internalizado as decisões são tomadas de forma quase inconsciente.|CAPÍTULO 3 Equipes|Destaque(|amarelo|) - Posição 746|1. Transcendência: elas têm um senso de propósito além do comum.|Destaque(|amarelo|) - Posição 749|2. Autonomia: as equipes se auto-organizam e se autogerenciam;|Destaque(|amarelo|) - Posição 751|3. Interfuncionalidade: as equipes possuem todas as habilidades necessárias para concluir o projeto: planejamento,  projeção,  produção,  vendas e distribuição.|Destaque(|amarelo|) - Posição 810|Tão crítica quanto,  mas talvez menos celebrada,  é a liberdade de fazer o seu trabalho do modo que você acredita ser o melhor,  ou seja,  ter autonomia.|Destaque(|amarelo|) - Posição 837|A responsabilidade da direção da empresa é estabelecer os objetivos estratégicos,  e o trabalho da equipe é decidir como atingi-los.|Destaque(|amarelo|) - Posição 882|não existe essa separação de papéis. Cada equipe funciona com todas as pessoas participando de todos os processos,  do início ao fim.|Destaque(|amarelo|) - Posição 889|busca nas equipes é a diversidade—de conjunto de habilidade,  pensamento e experiência. Ela quer equipes que sejam altruístas e autônomas,  mas também precisa que sejam interfuncionais. Equipes que consigam fazer com que o projeto inteiro seja concluído.|Destaque(|amarelo|) - Posição 936|sempre que há transferências entre equipes,  existe a possibilidade de desastre.|Destaque(|amarelo|) - Posição 1004|todos em uma equipe Scrum têm de saber o que os outros estão fazendo.|Destaque(|amarelo|) - Posição 1134|O Scrum é sobre estabelecer o sistema certo com os devidos incentivos e dar às pessoas liberdade,  respeito e autoridade para fazerem as coisas por si mesmas.|Destaque(|amarelo|) - Posição 1135|A grandiosidade não pode ser imposta,  precisa vir de dentro. E,  o melhor,  ela existe em todos nós.|CAPÍTULO 4 Tempo|Destaque(|amarelo|) - Posição 1328|O tempo constitui sua vida,  então,  desperdiçá-lo,  na verdade.1,  é uma forma lenta de suicídio.|CAPÍTULO 5 O desperdício é um crime|Destaque(|amarelo|) - Posição 1420|Ohno fala sobre três tipos diferentes de desperdício. Ele usou palavras japonesas: Muri,  desperdício causado pela irracionalidade; Mura,  desperdício causado pela inconsistência; e Muda,  desperdício causado pelos resultados.|Destaque(|amarelo|) - Posição 1539|Já foram realizadas algumas pesquisas que demonstram que ser multitarefa não apenas desperdiça o seu tempo,  mas também torna você burro.|Destaque(|amarelo|) - Posição 1586|Se você investe muito valor em coisas que não estão entregando valor,  não terá recursos para fazer outras coisas|Destaque(|amarelo|) - Posição 1588|O trabalho que não é feito e produtos que não estão sendo usados são dois aspectos da mesma coisa: esforço investido sem qualquer resultado positivo. Não faça|Destaque(|amarelo|) - Posição 1728|O Scrum pede às pessoas que adotam esse método para quebrar o paradigma de medir o trabalho apenas em horas. A hora por si só representa um custo. Em vez disso,  a medida deve ser feita em resultados. Quem se importa com o número de horas que alguém trabalhou em algo? Tudo que importa é a rapidez e a qualidade com que ele é entregue.|Destaque(|amarelo|) - Posição 1765|Ser multitarefa emburrece. Fazer mais de uma coisa de cada vez diminui seu desempenho tanto em termos de tempo quanto de qualidade nas duas tarefas.|Destaque(|amarelo|) - Posição 1767|Fazer pela metade não é fazer.|Destaque(|amarelo|) - Posição 1770|Fazer certo da primeira vez. Quando você cometer um erro,  corrija-o imediatamente. Pare todo o resto e resolva o problema que tem em mãos. Corrigir mais tarde pode levar vinte vezes mais tempo do que corrigir agora.|Destaque(|amarelo|) - Posição 1772|Trabalhar demais só resulta em mais trabalho. Trabalhar até tarde não resulta em mais produtividade; ao contrário: diminui a produtividade. Trabalhar demais resulta em fatiga,  que leva a erros,  que leva a necessidade de consertar algo que você acabou de terminar.|Destaque(|amarelo|) - Posição 1786|Busque o fluxo. Opte pelo modo mais suave e sem problemas de concluir uma tarefa. O Scrum é sobre possibilitar o maior fluxo possível.|CAPÍTULO 6 Planeje a realidade,  não a fantasia|Destaque(|amarelo|) - Posição 1858|o simples fato de planejar é tão sedutor,  tão atraente,  que o planejamento se torna mais importante do que o plano efetivo. E o plano,  por sua vez,  se torna mais importante do que a realidade. Nunca se esqueça: o mapa não é o terreno.|Destaque(|amarelo|) - Posição 2004|Destaque(|amarelo|) - Posição 2147|Para quem a tarefa será realizada? Através das lentes de quem precisamos olhar quando estamos construindo isso,  tomando aquela decisão,  ou entregando uma peça?|Destaque(|amarelo|) - Posição 2148|você precisa pensar no quê—no que quer que seja feito primeiro.|Destaque(|amarelo|) - Posição 2150|Por fim,  você precisa pensar em motivação. Por que esse personagem quer isso? Como isso vai ajudar e maravilhar esse cliente específico? E, ...]\n",
       "Index: []\n",
       "\n",
       "[0 rows x 137 columns]"
      ]
     },
     "execution_count": 40,
     "metadata": {},
     "output_type": "execute_result"
    }
   ],
   "source": [
    "csv_html.head()"
   ]
  },
  {
   "cell_type": "code",
   "execution_count": null,
   "metadata": {},
   "outputs": [],
   "source": []
  }
 ],
 "metadata": {
  "interpreter": {
   "hash": "916dbcbb3f70747c44a77c7bcd40155683ae19c65e1c03b4aa3499c5328201f1"
  },
  "kernelspec": {
   "display_name": "Python 3.8.10 64-bit",
   "language": "python",
   "name": "python3"
  },
  "language_info": {
   "codemirror_mode": {
    "name": "ipython",
    "version": 3
   },
   "file_extension": ".py",
   "mimetype": "text/x-python",
   "name": "python",
   "nbconvert_exporter": "python",
   "pygments_lexer": "ipython3",
   "version": "3.8.10"
  },
  "orig_nbformat": 4
 },
 "nbformat": 4,
 "nbformat_minor": 2
}
